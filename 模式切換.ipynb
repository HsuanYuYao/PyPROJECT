{
 "cells": [
  {
   "cell_type": "markdown",
   "metadata": {},
   "source": [
    "## ctrl+M M 或者Esc M 輸入游標都會跑掉，需要再用滑鼠點回來輸入列，怎麼辦?"
   ]
  },
  {
   "cell_type": "markdown",
   "metadata": {},
   "source": [
    "再按一次Enter 即可回到輸入模式。"
   ]
  },
  {
   "cell_type": "markdown",
   "metadata": {},
   "source": [
    "Jupyter 介面的設計:\n",
    "* 按Esc 進入命令模式，大多數快捷鍵在命令模式才能用: 如 \"j\",\"k\" 在 cell 間遊歷、\"m\" 把 cell 變成 Markdown、\"dd\" 刪格、\"b\" 在後面插入新格等。\n",
    "* 按Enter 進入輸入模式，格中會出現游標，能輸入文字\n",
    "詳見 Jupyter 選單中的 Help -> Keyboard Shortcuts"
   ]
  },
  {
   "cell_type": "markdown",
   "metadata": {},
   "source": []
  }
 ],
 "metadata": {
  "kernelspec": {
   "display_name": "Python 3",
   "language": "python",
   "name": "python3"
  },
  "language_info": {
   "codemirror_mode": {
    "name": "ipython",
    "version": 3
   },
   "file_extension": ".py",
   "mimetype": "text/x-python",
   "name": "python",
   "nbconvert_exporter": "python",
   "pygments_lexer": "ipython3",
   "version": "3.6.5"
  }
 },
 "nbformat": 4,
 "nbformat_minor": 2
}
