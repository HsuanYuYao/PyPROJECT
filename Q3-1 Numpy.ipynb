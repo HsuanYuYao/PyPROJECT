{
 "cells": [
  {
   "cell_type": "code",
   "execution_count": 146,
   "metadata": {},
   "outputs": [],
   "source": [
    "%matplotlib inline\n",
    "\n",
    "import numpy as np\n",
    "import matplotlib.pyplot as plt\n",
    "import pandas as pd"
   ]
  },
  {
   "cell_type": "code",
   "execution_count": 47,
   "metadata": {},
   "outputs": [],
   "source": [
    "df = pd.read_csv('wspeed.csv')"
   ]
  },
  {
   "cell_type": "code",
   "execution_count": 42,
   "metadata": {
    "scrolled": true
   },
   "outputs": [
    {
     "data": {
      "text/html": [
       "<div>\n",
       "<style scoped>\n",
       "    .dataframe tbody tr th:only-of-type {\n",
       "        vertical-align: middle;\n",
       "    }\n",
       "\n",
       "    .dataframe tbody tr th {\n",
       "        vertical-align: top;\n",
       "    }\n",
       "\n",
       "    .dataframe thead th {\n",
       "        text-align: right;\n",
       "    }\n",
       "</style>\n",
       "<table border=\"1\" class=\"dataframe\">\n",
       "  <thead>\n",
       "    <tr style=\"text-align: right;\">\n",
       "      <th></th>\n",
       "      <th>縣市</th>\n",
       "      <th>第一階段</th>\n",
       "      <th>第二階段</th>\n",
       "      <th>第一階段.1</th>\n",
       "      <th>第二階段.1</th>\n",
       "    </tr>\n",
       "  </thead>\n",
       "  <tbody>\n",
       "    <tr>\n",
       "      <th>0</th>\n",
       "      <td>NaN</td>\n",
       "      <td>平均下載速率註</td>\n",
       "      <td>平均下載速率註</td>\n",
       "      <td>平均上傳速率註</td>\n",
       "      <td>平均上傳速率註</td>\n",
       "    </tr>\n",
       "    <tr>\n",
       "      <th>1</th>\n",
       "      <td>基隆市</td>\n",
       "      <td>5.82</td>\n",
       "      <td>6.53</td>\n",
       "      <td>1.17</td>\n",
       "      <td>1.17</td>\n",
       "    </tr>\n",
       "    <tr>\n",
       "      <th>2</th>\n",
       "      <td>宜蘭縣</td>\n",
       "      <td>6.41</td>\n",
       "      <td>6.37</td>\n",
       "      <td>1.17</td>\n",
       "      <td>1.05</td>\n",
       "    </tr>\n",
       "    <tr>\n",
       "      <th>3</th>\n",
       "      <td>台北市</td>\n",
       "      <td>5.47</td>\n",
       "      <td>5.89</td>\n",
       "      <td>1.01</td>\n",
       "      <td>1.02</td>\n",
       "    </tr>\n",
       "    <tr>\n",
       "      <th>4</th>\n",
       "      <td>新北市</td>\n",
       "      <td>5.62</td>\n",
       "      <td>6.33</td>\n",
       "      <td>1.07</td>\n",
       "      <td>1.05</td>\n",
       "    </tr>\n",
       "  </tbody>\n",
       "</table>\n",
       "</div>"
      ],
      "text/plain": [
       "    縣市     第一階段     第二階段   第一階段.1   第二階段.1\n",
       "0  NaN  平均下載速率註  平均下載速率註  平均上傳速率註  平均上傳速率註\n",
       "1  基隆市     5.82     6.53     1.17     1.17\n",
       "2  宜蘭縣     6.41     6.37     1.17     1.05\n",
       "3  台北市     5.47     5.89     1.01     1.02\n",
       "4  新北市     5.62     6.33     1.07     1.05"
      ]
     },
     "execution_count": 42,
     "metadata": {},
     "output_type": "execute_result"
    }
   ],
   "source": [
    "df.head()"
   ]
  },
  {
   "cell_type": "code",
   "execution_count": 111,
   "metadata": {},
   "outputs": [],
   "source": [
    "cities = np.delete(df.縣市.values, 0)"
   ]
  },
  {
   "cell_type": "code",
   "execution_count": 84,
   "metadata": {},
   "outputs": [],
   "source": [
    "ds_1 = np.delete(df.第一階段.values, 0)"
   ]
  },
  {
   "cell_type": "code",
   "execution_count": 96,
   "metadata": {},
   "outputs": [],
   "source": [
    "ds_2 = np.delete(df.第二階段.values, 0)"
   ]
  },
  {
   "cell_type": "code",
   "execution_count": 105,
   "metadata": {},
   "outputs": [],
   "source": [
    "ds_1 = np.array([float(string) for string in ds_1])\n",
    "ds_2 = np.array([float(string) for string in ds_2])"
   ]
  },
  {
   "cell_type": "code",
   "execution_count": 108,
   "metadata": {},
   "outputs": [],
   "source": [
    "avg = (ds_1 + ds_2) / 2"
   ]
  },
  {
   "cell_type": "code",
   "execution_count": 145,
   "metadata": {},
   "outputs": [
    {
     "data": {
      "text/plain": [
       "Text(0.5,1,'消費者端量測行動上網平均速率')"
      ]
     },
     "execution_count": 145,
     "metadata": {},
     "output_type": "execute_result"
    },
    {
     "data": {
      "image/png": "[encoded data removed]",
      "text/plain": [
       "<Figure size 432x288 with 1 Axes>"
      ]
     },
     "metadata": {},
     "output_type": "display_data"
    }
   ],
   "source": [
    "import matplotlib\n",
    "myfont = matplotlib.font_manager.FontProperties(fname=r'C:/Windows/Fonts/msyh.ttf')\n",
    "\n",
    "plt.bar(cities, avg)\n",
    "plt.xticks(range(22), cities, fontproperties=myfont, rotation='vertical')\n",
    "plt.bar(cities[avg>7], avg[avg>7], color='g')\n",
    "plt.bar(cities[avg<5.85], avg[avg<5.85], color='r')\n",
    "plt.xlabel('縣市', fontproperties=myfont)\n",
    "plt.ylabel('平均下載速率(單位：Mbps)', fontproperties=myfont)\n",
    "plt.title('消費者端量測行動上網平均速率', fontproperties=myfont)"
   ]
  },
  {
   "cell_type": "code",
   "execution_count": null,
   "metadata": {},
   "outputs": [],
   "source": []
  }
 ],
 "metadata": {
  "kernelspec": {
   "display_name": "Python 3",
   "language": "python",
   "name": "python3"
  },
  "language_info": {
   "codemirror_mode": {
    "name": "ipython",
    "version": 3
   },
   "file_extension": ".py",
   "mimetype": "text/x-python",
   "name": "python",
   "nbconvert_exporter": "python",
   "pygments_lexer": "ipython3",
   "version": "3.6.5"
  }
 },
 "nbformat": 4,
 "nbformat_minor": 2
}
