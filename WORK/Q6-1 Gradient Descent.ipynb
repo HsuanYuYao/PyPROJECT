{
 "cells": [
  {
   "cell_type": "code",
   "execution_count": 1,
   "metadata": {},
   "outputs": [],
   "source": [
    "%matplotlib inline\n",
    "\n",
    "import numpy as np\n",
    "import matplotlib.pyplot as plt\n",
    "import pandas as pd"
   ]
  },
  {
   "cell_type": "code",
   "execution_count": 6,
   "metadata": {},
   "outputs": [],
   "source": [
    "import scipy.special as sp\n",
    "# Bessel function of the first kind of order 0\n",
    "def f(x):\n",
    "    eggs = sp.jv(0, x)\n",
    "    return eggs\n",
    "# derivative of Bessel function of the first kind of order 0\n",
    "def df(x):\n",
    "    ham = sp.jvp(0, x, n=1)\n",
    "    return ham"
   ]
  },
  {
   "cell_type": "code",
   "execution_count": 39,
   "metadata": {},
   "outputs": [
    {
     "data": {
      "application/vnd.jupyter.widget-view+json": {
       "model_id": "eccc428433024444a4d579c57efd5af4",
       "version_major": 2,
       "version_minor": 0
      },
      "text/plain": [
       "interactive(children=(FloatSlider(value=9.0, description='w', max=18.0, min=1.0, step=0.5), FloatSlider(value=…"
      ]
     },
     "metadata": {},
     "output_type": "display_data"
    },
    {
     "data": {
      "text/plain": [
       "<function __main__.GD(w, η, error)>"
      ]
     },
     "execution_count": 39,
     "metadata": {},
     "output_type": "execute_result"
    }
   ],
   "source": [
    "# 梯度下降法\n",
    "def GD(w, η, error):\n",
    "    \n",
    "    # 繪製函數圖形\n",
    "    x = np.linspace(0, 20, 500)\n",
    "    plt.plot(x, f(x))\n",
    "    plt.xlabel('x')\n",
    "    plt.ylabel('f(x)')\n",
    "    plt.xlim(0, 20)\n",
    "    plt.ylim(-0.5, 1)\n",
    "\n",
    "    itr = 0\n",
    "    max_itr = 100\n",
    "    while np.abs(η*df(w))<error and itr<max_itr:\n",
    "        w = w - η*df(w)\n",
    "        plt.scatter(w, f(w), c='r')\n",
    "        itr += 1\n",
    "    if np.abs(η*df(w))<error :\n",
    "        print(f'The minimum occurs at x = {w}')\n",
    "    else :\n",
    "        print('Cannot reach a minimum...')\n",
    "\n",
    "# 自訂起始值、學習率及誤差值的互動模式\n",
    "from ipywidgets import interact\n",
    "interact(GD, w=(1, 18, 0.5), η=(0.1, 0.5, 0.05), error=(0.05, 0.5, 0.05))\n"
   ]
  },
  {
   "cell_type": "code",
   "execution_count": null,
   "metadata": {},
   "outputs": [],
   "source": []
  }
 ],
 "metadata": {
  "kernelspec": {
   "display_name": "Python 3",
   "language": "python",
   "name": "python3"
  },
  "language_info": {
   "codemirror_mode": {
    "name": "ipython",
    "version": 3
   },
   "file_extension": ".py",
   "mimetype": "text/x-python",
   "name": "python",
   "nbconvert_exporter": "python",
   "pygments_lexer": "ipython3",
   "version": "3.6.5"
  }
 },
 "nbformat": 4,
 "nbformat_minor": 2
}
