{
 "cells": [
  {
   "cell_type": "markdown",
   "metadata": {},
   "source": [
    "# 利用NN從前十日收盤價預測股價漲跌平¶"
   ]
  },
  {
   "cell_type": "code",
   "execution_count": 1,
   "metadata": {},
   "outputs": [],
   "source": [
    "%matplotlib inline\n",
    "\n",
    "import pandas as pd\n",
    "import numpy as np\n",
    "import matplotlib.pyplot as plt"
   ]
  },
  {
   "cell_type": "code",
   "execution_count": 2,
   "metadata": {},
   "outputs": [
    {
     "name": "stdout",
     "output_type": "stream",
     "text": [
      "env: KERAS_BACKEND=tensorflow\n"
     ]
    },
    {
     "name": "stderr",
     "output_type": "stream",
     "text": [
      "Using TensorFlow backend.\n"
     ]
    }
   ],
   "source": [
    "%env KERAS_BACKEND = tensorflow\n",
    "\n",
    "from keras.models import Model\n",
    "from keras.layers import Input\n",
    "from keras.layers import Dense\n",
    "from keras.layers import Dropout\n",
    "from keras.utils import np_utils\n",
    "from keras.optimizers import Adam\n",
    "from keras.initializers import he_normal"
   ]
  },
  {
   "cell_type": "markdown",
   "metadata": {},
   "source": [
    "## 資料處理"
   ]
  },
  {
   "cell_type": "code",
   "execution_count": 3,
   "metadata": {},
   "outputs": [],
   "source": [
    "df=pd.read_excel('大盤指數盤後數據.xlsx',header=0)"
   ]
  },
  {
   "cell_type": "code",
   "execution_count": 4,
   "metadata": {},
   "outputs": [],
   "source": [
    "X = [] #empty list\n",
    "Y = [] #empty list\n",
    "n = 10 # 取前n日收盤價作為input\n",
    "for i in range(len(df.index)-n):\n",
    "    X.append(list(df.loc[i:i+(n-1)]['收盤價']))\n",
    "    Y.append(df.漲跌平[i+n])"
   ]
  },
  {
   "cell_type": "code",
   "execution_count": 5,
   "metadata": {},
   "outputs": [
    {
     "data": {
      "text/plain": [
       "False"
      ]
     },
     "execution_count": 5,
     "metadata": {},
     "output_type": "execute_result"
    }
   ],
   "source": [
    "np.any(np.isnan(df.收盤價))"
   ]
  },
  {
   "cell_type": "code",
   "execution_count": 6,
   "metadata": {},
   "outputs": [],
   "source": [
    "X = np.array(X)"
   ]
  },
  {
   "cell_type": "code",
   "execution_count": 7,
   "metadata": {},
   "outputs": [
    {
     "data": {
      "text/plain": [
       "array([[  123.28,   122.93,   122.51, ...,   122.38,   121.88,   123.03],\n",
       "       [  122.93,   122.51,   121.94, ...,   121.88,   123.03,   122.77],\n",
       "       [  122.51,   121.94,   121.13, ...,   123.03,   122.77,   122.87],\n",
       "       ...,\n",
       "       [11004.49, 11096.3 , 10897.12, ..., 10558.29, 10519.25, 10560.71],\n",
       "       [11096.3 , 10897.12, 10987.14, ..., 10519.25, 10560.71, 10474.61],\n",
       "       [10897.12, 10987.14, 10923.71, ..., 10560.71, 10474.61, 10384.11]])"
      ]
     },
     "execution_count": 7,
     "metadata": {},
     "output_type": "execute_result"
    }
   ],
   "source": [
    "X"
   ]
  },
  {
   "cell_type": "code",
   "execution_count": 8,
   "metadata": {},
   "outputs": [],
   "source": [
    "# 標準化\n",
    "for i in range(13144):\n",
    "    X[i] = X[i] - X[i].min()\n",
    "    X[i] = X[i] / X[i].max()"
   ]
  },
  {
   "cell_type": "code",
   "execution_count": 9,
   "metadata": {},
   "outputs": [],
   "source": [
    "# one-hot encoding\n",
    "Y = np_utils.to_categorical(Y, 3)"
   ]
  },
  {
   "cell_type": "code",
   "execution_count": 10,
   "metadata": {},
   "outputs": [],
   "source": [
    "from sklearn.model_selection import train_test_split"
   ]
  },
  {
   "cell_type": "code",
   "execution_count": 11,
   "metadata": {},
   "outputs": [],
   "source": [
    "# 分割訓練資料和測試資料\n",
    "x_train, x_test, y_train, y_test = train_test_split(X, Y, test_size=0.3, random_state = 9487)"
   ]
  },
  {
   "cell_type": "markdown",
   "metadata": {},
   "source": [
    "## 模型建立"
   ]
  },
  {
   "cell_type": "code",
   "execution_count": 12,
   "metadata": {
    "scrolled": true
   },
   "outputs": [
    {
     "name": "stdout",
     "output_type": "stream",
     "text": [
      "_________________________________________________________________\n",
      "Layer (type)                 Output Shape              Param #   \n",
      "=================================================================\n",
      "input_1 (InputLayer)         (None, 10)                0         \n",
      "_________________________________________________________________\n",
      "dense_1 (Dense)              (None, 16)                176       \n",
      "_________________________________________________________________\n",
      "dropout_1 (Dropout)          (None, 16)                0         \n",
      "_________________________________________________________________\n",
      "dense_2 (Dense)              (None, 8)                 136       \n",
      "_________________________________________________________________\n",
      "dense_3 (Dense)              (None, 3)                 27        \n",
      "=================================================================\n",
      "Total params: 339\n",
      "Trainable params: 339\n",
      "Non-trainable params: 0\n",
      "_________________________________________________________________\n"
     ]
    }
   ],
   "source": [
    "x = Input(shape=(10,))\n",
    "f_1 = Dense(16, activation='relu', kernel_initializer=he_normal(seed=333))\n",
    "f_4 = Dropout(0.5)\n",
    "f_2 = Dense(8, activation='relu', kernel_initializer=he_normal(seed=333))\n",
    "f_3 = Dense(3, activation='softmax')\n",
    "\n",
    "h_1 = f_1(x)\n",
    "z_1 = f_4(h_1)\n",
    "h_2 = f_2(z_1)\n",
    "y = f_3(h_2)\n",
    "\n",
    "model = Model(x, y)\n",
    "model.summary()"
   ]
  },
  {
   "cell_type": "code",
   "execution_count": 13,
   "metadata": {},
   "outputs": [],
   "source": [
    "model.compile(loss=\"categorical_crossentropy\", optimizer=Adam(), metrics=['accuracy'])"
   ]
  },
  {
   "cell_type": "code",
   "execution_count": 14,
   "metadata": {
    "scrolled": false
   },
   "outputs": [
    {
     "name": "stdout",
     "output_type": "stream",
     "text": [
      "Epoch 1/50\n",
      "9200/9200 [==============================] - 2s 213us/step - loss: 1.1271 - acc: 0.3450\n",
      "Epoch 2/50\n",
      "9200/9200 [==============================] - 1s 94us/step - loss: 1.0984 - acc: 0.3570\n",
      "Epoch 3/50\n",
      "9200/9200 [==============================] - 1s 94us/step - loss: 1.0945 - acc: 0.3675\n",
      "Epoch 4/50\n",
      "9200/9200 [==============================] - 1s 103us/step - loss: 1.0907 - acc: 0.3746\n",
      "Epoch 5/50\n",
      "9200/9200 [==============================] - 1s 94us/step - loss: 1.0920 - acc: 0.3724\n",
      "Epoch 6/50\n",
      "9200/9200 [==============================] - 1s 92us/step - loss: 1.0918 - acc: 0.3726\n",
      "Epoch 7/50\n",
      "9200/9200 [==============================] - 1s 92us/step - loss: 1.0912 - acc: 0.3712\n",
      "Epoch 8/50\n",
      "9200/9200 [==============================] - 1s 96us/step - loss: 1.0911 - acc: 0.3740\n",
      "Epoch 9/50\n",
      "9200/9200 [==============================] - 1s 92us/step - loss: 1.0918 - acc: 0.3687\n",
      "Epoch 10/50\n",
      "9200/9200 [==============================] - 1s 94us/step - loss: 1.0906 - acc: 0.3723\n",
      "Epoch 11/50\n",
      "9200/9200 [==============================] - 1s 92us/step - loss: 1.0910 - acc: 0.3700\n",
      "Epoch 12/50\n",
      "9200/9200 [==============================] - 1s 94us/step - loss: 1.0906 - acc: 0.3754\n",
      "Epoch 13/50\n",
      "9200/9200 [==============================] - 1s 95us/step - loss: 1.0902 - acc: 0.3730\n",
      "Epoch 14/50\n",
      "9200/9200 [==============================] - 1s 94us/step - loss: 1.0893 - acc: 0.3749\n",
      "Epoch 15/50\n",
      "9200/9200 [==============================] - 1s 97us/step - loss: 1.0883 - acc: 0.3797\n",
      "Epoch 16/50\n",
      "9200/9200 [==============================] - 1s 92us/step - loss: 1.0901 - acc: 0.3762\n",
      "Epoch 17/50\n",
      "9200/9200 [==============================] - 1s 95us/step - loss: 1.0892 - acc: 0.3750\n",
      "Epoch 18/50\n",
      "9200/9200 [==============================] - 1s 94us/step - loss: 1.0902 - acc: 0.3704\n",
      "Epoch 19/50\n",
      "9200/9200 [==============================] - 1s 101us/step - loss: 1.0902 - acc: 0.3732\n",
      "Epoch 20/50\n",
      "9200/9200 [==============================] - 1s 101us/step - loss: 1.0898 - acc: 0.3737\n",
      "Epoch 21/50\n",
      "9200/9200 [==============================] - 1s 99us/step - loss: 1.0897 - acc: 0.3727\n",
      "Epoch 22/50\n",
      "9200/9200 [==============================] - 1s 101us/step - loss: 1.0895 - acc: 0.3751\n",
      "Epoch 23/50\n",
      "9200/9200 [==============================] - 1s 101us/step - loss: 1.0878 - acc: 0.3758\n",
      "Epoch 24/50\n",
      "9200/9200 [==============================] - 1s 99us/step - loss: 1.0877 - acc: 0.3749\n",
      "Epoch 25/50\n",
      "9200/9200 [==============================] - 1s 93us/step - loss: 1.0901 - acc: 0.3753\n",
      "Epoch 26/50\n",
      "9200/9200 [==============================] - 1s 92us/step - loss: 1.0900 - acc: 0.3724\n",
      "Epoch 27/50\n",
      "9200/9200 [==============================] - 1s 96us/step - loss: 1.0883 - acc: 0.3774\n",
      "Epoch 28/50\n",
      "9200/9200 [==============================] - 1s 93us/step - loss: 1.0885 - acc: 0.3728\n",
      "Epoch 29/50\n",
      "9200/9200 [==============================] - 1s 94us/step - loss: 1.0885 - acc: 0.3800\n",
      "Epoch 30/50\n",
      "9200/9200 [==============================] - 1s 93us/step - loss: 1.0879 - acc: 0.3729\n",
      "Epoch 31/50\n",
      "9200/9200 [==============================] - 1s 94us/step - loss: 1.0892 - acc: 0.3766\n",
      "Epoch 32/50\n",
      "9200/9200 [==============================] - 1s 92us/step - loss: 1.0884 - acc: 0.3786\n",
      "Epoch 33/50\n",
      "9200/9200 [==============================] - 1s 94us/step - loss: 1.0885 - acc: 0.3774\n",
      "Epoch 34/50\n",
      "9200/9200 [==============================] - 1s 92us/step - loss: 1.0877 - acc: 0.3782\n",
      "Epoch 35/50\n",
      "9200/9200 [==============================] - 1s 95us/step - loss: 1.0874 - acc: 0.3733\n",
      "Epoch 36/50\n",
      "9200/9200 [==============================] - 1s 94us/step - loss: 1.0880 - acc: 0.3720\n",
      "Epoch 37/50\n",
      "9200/9200 [==============================] - 1s 97us/step - loss: 1.0878 - acc: 0.3723\n",
      "Epoch 38/50\n",
      "9200/9200 [==============================] - 1s 94us/step - loss: 1.0878 - acc: 0.3721\n",
      "Epoch 39/50\n",
      "9200/9200 [==============================] - 1s 97us/step - loss: 1.0882 - acc: 0.3743\n",
      "Epoch 40/50\n",
      "9200/9200 [==============================] - 1s 95us/step - loss: 1.0862 - acc: 0.3751\n",
      "Epoch 41/50\n",
      "9200/9200 [==============================] - 1s 92us/step - loss: 1.0871 - acc: 0.3755\n",
      "Epoch 42/50\n",
      "9200/9200 [==============================] - 1s 95us/step - loss: 1.0873 - acc: 0.3743\n",
      "Epoch 43/50\n",
      "9200/9200 [==============================] - 1s 93us/step - loss: 1.0878 - acc: 0.3752\n",
      "Epoch 44/50\n",
      "9200/9200 [==============================] - 1s 94us/step - loss: 1.0878 - acc: 0.3715\n",
      "Epoch 45/50\n",
      "9200/9200 [==============================] - 1s 92us/step - loss: 1.0862 - acc: 0.3703\n",
      "Epoch 46/50\n",
      "9200/9200 [==============================] - 1s 100us/step - loss: 1.0869 - acc: 0.3800\n",
      "Epoch 47/50\n",
      "9200/9200 [==============================] - 1s 105us/step - loss: 1.0879 - acc: 0.3743\n",
      "Epoch 48/50\n",
      "9200/9200 [==============================] - 1s 104us/step - loss: 1.0868 - acc: 0.3785\n",
      "Epoch 49/50\n",
      "9200/9200 [==============================] - 1s 104us/step - loss: 1.0863 - acc: 0.3834\n",
      "Epoch 50/50\n",
      "9200/9200 [==============================] - 1s 105us/step - loss: 1.0872 - acc: 0.3755\n"
     ]
    },
    {
     "data": {
      "text/plain": [
       "<keras.callbacks.History at 0x592e4f1cf8>"
      ]
     },
     "execution_count": 14,
     "metadata": {},
     "output_type": "execute_result"
    }
   ],
   "source": [
    "model.fit(x_train, y_train, epochs=50)"
   ]
  },
  {
   "cell_type": "markdown",
   "metadata": {},
   "source": [
    "## 預測結果"
   ]
  },
  {
   "cell_type": "code",
   "execution_count": 15,
   "metadata": {
    "scrolled": true
   },
   "outputs": [
    {
     "name": "stdout",
     "output_type": "stream",
     "text": [
      "3944/3944 [==============================] - 0s 79us/step\n"
     ]
    },
    {
     "data": {
      "text/plain": [
       "[1.087967807332594, 0.3932555780933063]"
      ]
     },
     "execution_count": 15,
     "metadata": {},
     "output_type": "execute_result"
    }
   ],
   "source": [
    "model.evaluate(x_test, y_test)"
   ]
  },
  {
   "cell_type": "code",
   "execution_count": 16,
   "metadata": {},
   "outputs": [
    {
     "name": "stdout",
     "output_type": "stream",
     "text": [
      "3944/3944 [==============================] - 0s 59us/step\n",
      "模型預測正確率為： 0.3932555780933063\n"
     ]
    }
   ],
   "source": [
    "print(\"模型預測正確率為：\", model.evaluate(x_test, y_test)[1])"
   ]
  },
  {
   "cell_type": "code",
   "execution_count": 17,
   "metadata": {},
   "outputs": [
    {
     "data": {
      "text/plain": [
       "array([[0.31544903, 0.3417136 , 0.34283736],\n",
       "       [0.39217147, 0.3796305 , 0.22819811],\n",
       "       [0.37199202, 0.3450853 , 0.28292274],\n",
       "       ...,\n",
       "       [0.31790632, 0.33360046, 0.34849322],\n",
       "       [0.35261536, 0.3306572 , 0.3167274 ],\n",
       "       [0.3091546 , 0.3623957 , 0.32844973]], dtype=float32)"
      ]
     },
     "execution_count": 17,
     "metadata": {},
     "output_type": "execute_result"
    }
   ],
   "source": [
    "model.predict(x_test)"
   ]
  },
  {
   "cell_type": "code",
   "execution_count": 18,
   "metadata": {},
   "outputs": [
    {
     "data": {
      "text/plain": [
       "array([2, 0, 0, ..., 2, 0, 1], dtype=int64)"
      ]
     },
     "execution_count": 18,
     "metadata": {},
     "output_type": "execute_result"
    }
   ],
   "source": [
    "predict = model.predict(x_test)\n",
    "np.argmax(predict,axis=1)"
   ]
  },
  {
   "cell_type": "code",
   "execution_count": 19,
   "metadata": {},
   "outputs": [
    {
     "data": {
      "text/plain": [
       "array([[0., 1., 0.],\n",
       "       [1., 0., 0.],\n",
       "       [0., 1., 0.],\n",
       "       ...,\n",
       "       [0., 0., 1.],\n",
       "       [0., 0., 1.],\n",
       "       [0., 1., 0.]], dtype=float32)"
      ]
     },
     "execution_count": 19,
     "metadata": {},
     "output_type": "execute_result"
    }
   ],
   "source": [
    "y_test"
   ]
  },
  {
   "cell_type": "code",
   "execution_count": 20,
   "metadata": {},
   "outputs": [],
   "source": [
    "from sklearn.metrics import confusion_matrix"
   ]
  },
  {
   "cell_type": "code",
   "execution_count": 21,
   "metadata": {},
   "outputs": [
    {
     "data": {
      "text/plain": [
       "array([[1195,  124,  193],\n",
       "       [ 941,  132,  178],\n",
       "       [ 837,  120,  224]], dtype=int64)"
      ]
     },
     "execution_count": 21,
     "metadata": {},
     "output_type": "execute_result"
    }
   ],
   "source": [
    "confusion_matrix(np.argmax(y_test,axis=1), np.argmax(predict,axis=1))"
   ]
  },
  {
   "cell_type": "markdown",
   "metadata": {},
   "source": [
    "## 與隨機預測比較"
   ]
  },
  {
   "cell_type": "code",
   "execution_count": 22,
   "metadata": {},
   "outputs": [
    {
     "data": {
      "text/plain": [
       "(3944,)"
      ]
     },
     "execution_count": 22,
     "metadata": {},
     "output_type": "execute_result"
    }
   ],
   "source": [
    "np.argmax(y_test,axis=1).shape"
   ]
  },
  {
   "cell_type": "code",
   "execution_count": 23,
   "metadata": {},
   "outputs": [],
   "source": [
    "randompredict = np.random.randint(3, size=(3944,))"
   ]
  },
  {
   "cell_type": "code",
   "execution_count": 24,
   "metadata": {},
   "outputs": [
    {
     "data": {
      "text/plain": [
       "array([[492, 527, 493],\n",
       "       [446, 393, 412],\n",
       "       [419, 384, 378]], dtype=int64)"
      ]
     },
     "execution_count": 24,
     "metadata": {},
     "output_type": "execute_result"
    }
   ],
   "source": [
    "confusion_matrix(np.argmax(y_test,axis=1), randompredict)"
   ]
  },
  {
   "cell_type": "code",
   "execution_count": 25,
   "metadata": {},
   "outputs": [
    {
     "name": "stdout",
     "output_type": "stream",
     "text": [
      "隨機預測正確率為： 0.32454361054766734\n"
     ]
    }
   ],
   "source": [
    "print(\"隨機預測正確率為：\",(484+408+388)/3944)"
   ]
  },
  {
   "cell_type": "markdown",
   "metadata": {},
   "source": [
    "## 實際與預測結果比較圖"
   ]
  },
  {
   "cell_type": "code",
   "execution_count": 26,
   "metadata": {},
   "outputs": [
    {
     "data": {
      "text/plain": [
       "[<matplotlib.lines.Line2D at 0x5934d55a90>]"
      ]
     },
     "execution_count": 26,
     "metadata": {},
     "output_type": "execute_result"
    },
    {
     "data": {
      "image/png": "[encoded data removed]",
      "text/plain": [
       "<Figure size 432x288 with 1 Axes>"
      ]
     },
     "metadata": {},
     "output_type": "display_data"
    }
   ],
   "source": [
    "st=10000\n",
    "end=10100\n",
    "plt.scatter(np.array(df.年月日)[n+st:end],np.array(df.收盤價)[n+st:end],c=np.array(df.漲跌平)[st:end-n],s=10,cmap='cool')\n",
    "plt.plot(np.array(df.年月日)[n+st:end],np.array(df.收盤價)[n+st:end],c='black', linewidth=0.5)"
   ]
  },
  {
   "cell_type": "code",
   "execution_count": 27,
   "metadata": {},
   "outputs": [
    {
     "data": {
      "text/plain": [
       "[<matplotlib.lines.Line2D at 0x5933b65908>]"
      ]
     },
     "execution_count": 27,
     "metadata": {},
     "output_type": "execute_result"
    },
    {
     "data": {
      "image/png": "[encoded data removed]",
      "text/plain": [
       "<Figure size 432x288 with 1 Axes>"
      ]
     },
     "metadata": {},
     "output_type": "display_data"
    }
   ],
   "source": [
    "st=10000\n",
    "end=10100\n",
    "plt.scatter(np.array(df.年月日)[n+st:end],np.array(df.收盤價)[n+st:end],c=np.argmax(model.predict(X),axis=1)[st:end-n],s=10,cmap='cool')\n",
    "plt.plot(np.array(df.年月日)[n+st:end],np.array(df.收盤價)[n+st:end],c='black', linewidth=0.5)"
   ]
  }
 ],
 "metadata": {
  "kernelspec": {
   "display_name": "Python 3",
   "language": "python",
   "name": "python3"
  },
  "language_info": {
   "codemirror_mode": {
    "name": "ipython",
    "version": 3
   },
   "file_extension": ".py",
   "mimetype": "text/x-python",
   "name": "python",
   "nbconvert_exporter": "python",
   "pygments_lexer": "ipython3",
   "version": "3.6.5"
  }
 },
 "nbformat": 4,
 "nbformat_minor": 2
}
