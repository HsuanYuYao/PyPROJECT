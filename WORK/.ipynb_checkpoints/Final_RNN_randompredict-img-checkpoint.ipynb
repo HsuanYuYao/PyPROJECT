{
 "cells": [
  {
   "cell_type": "markdown",
   "metadata": {},
   "source": [
    "# 利用RNN從前十日收盤價預測股價漲跌平"
   ]
  },
  {
   "cell_type": "code",
   "execution_count": 1,
   "metadata": {},
   "outputs": [],
   "source": [
    "%matplotlib inline\n",
    "\n",
    "import pandas as pd\n",
    "import numpy as np\n",
    "import matplotlib.pyplot as plt"
   ]
  },
  {
   "cell_type": "code",
   "execution_count": 2,
   "metadata": {},
   "outputs": [
    {
     "name": "stdout",
     "output_type": "stream",
     "text": [
      "env: KERAS_BACKEND=tensorflow\n"
     ]
    },
    {
     "name": "stderr",
     "output_type": "stream",
     "text": [
      "Using TensorFlow backend.\n"
     ]
    }
   ],
   "source": [
    "%env KERAS_BACKEND = tensorflow\n",
    "\n",
    "from keras.models import Model\n",
    "from keras.layers import Input\n",
    "from keras.layers import Dense\n",
    "from keras.layers import LSTM\n",
    "from keras.layers import Dropout\n",
    "from keras.utils import np_utils"
   ]
  },
  {
   "cell_type": "markdown",
   "metadata": {},
   "source": [
    "## 資料處理"
   ]
  },
  {
   "cell_type": "code",
   "execution_count": 3,
   "metadata": {},
   "outputs": [],
   "source": [
    "df=pd.read_excel('大盤指數盤後數據.xlsx',header=0)"
   ]
  },
  {
   "cell_type": "code",
   "execution_count": 4,
   "metadata": {},
   "outputs": [],
   "source": [
    "X = [] # empty list\n",
    "Y = [] # empty list\n",
    "n = 10 # 取前n日收盤價作為input\n",
    "for i in range(len(df.index)-n):\n",
    "    X.append(list(df.loc[i:i+(n-1)]['收盤價']))\n",
    "    Y.append(df.漲跌平[i+n])"
   ]
  },
  {
   "cell_type": "code",
   "execution_count": 5,
   "metadata": {},
   "outputs": [
    {
     "data": {
      "text/plain": [
       "False"
      ]
     },
     "execution_count": 5,
     "metadata": {},
     "output_type": "execute_result"
    }
   ],
   "source": [
    "np.any(np.isnan(df.收盤價))"
   ]
  },
  {
   "cell_type": "code",
   "execution_count": 7,
   "metadata": {},
   "outputs": [],
   "source": [
    "X = np.array(X)\n",
    "X = X.reshape(13144, n, 1)"
   ]
  },
  {
   "cell_type": "code",
   "execution_count": 8,
   "metadata": {},
   "outputs": [],
   "source": [
    "# 標準化\n",
    "for i in range(13144):\n",
    "    X[i] = X[i] - X[i].min()\n",
    "    X[i] = X[i] / X[i].max()"
   ]
  },
  {
   "cell_type": "code",
   "execution_count": 9,
   "metadata": {},
   "outputs": [],
   "source": [
    "# one-hot encoding\n",
    "Y = np_utils.to_categorical(Y, 3)"
   ]
  },
  {
   "cell_type": "code",
   "execution_count": 11,
   "metadata": {
    "scrolled": true
   },
   "outputs": [
    {
     "data": {
      "text/plain": [
       "(13144, 3)"
      ]
     },
     "execution_count": 11,
     "metadata": {},
     "output_type": "execute_result"
    }
   ],
   "source": [
    "Y.shape"
   ]
  },
  {
   "cell_type": "code",
   "execution_count": 12,
   "metadata": {},
   "outputs": [],
   "source": [
    "from sklearn.model_selection import train_test_split"
   ]
  },
  {
   "cell_type": "code",
   "execution_count": 13,
   "metadata": {},
   "outputs": [],
   "source": [
    "# 分割訓練資料和測試資料\n",
    "x_train, x_test, y_train, y_test = train_test_split(X, Y, test_size=0.3, random_state = 9487)"
   ]
  },
  {
   "cell_type": "markdown",
   "metadata": {},
   "source": [
    "## 模型建立"
   ]
  },
  {
   "cell_type": "code",
   "execution_count": 14,
   "metadata": {
    "scrolled": true
   },
   "outputs": [
    {
     "name": "stdout",
     "output_type": "stream",
     "text": [
      "_________________________________________________________________\n",
      "Layer (type)                 Output Shape              Param #   \n",
      "=================================================================\n",
      "input_1 (InputLayer)         (None, 10, 1)             0         \n",
      "_________________________________________________________________\n",
      "lstm_1 (LSTM)                (None, 10, 20)            1760      \n",
      "_________________________________________________________________\n",
      "dropout_1 (Dropout)          (None, 10, 20)            0         \n",
      "_________________________________________________________________\n",
      "lstm_2 (LSTM)                (None, 20)                3280      \n",
      "_________________________________________________________________\n",
      "dropout_2 (Dropout)          (None, 20)                0         \n",
      "_________________________________________________________________\n",
      "dense_1 (Dense)              (None, 3)                 63        \n",
      "=================================================================\n",
      "Total params: 5,103\n",
      "Trainable params: 5,103\n",
      "Non-trainable params: 0\n",
      "_________________________________________________________________\n"
     ]
    }
   ],
   "source": [
    "x = Input(shape=(10, 1))\n",
    "f_1 = LSTM(20, return_sequences=True)\n",
    "f_4 = Dropout(0.3)\n",
    "f_2 = LSTM(20)\n",
    "f_5 = Dropout(0.3)\n",
    "f_3 = Dense(3, activation='softmax')\n",
    "\n",
    "h_1 = f_1(x)\n",
    "z_1 = f_4(h_1)\n",
    "h_2 = f_2(z_1)\n",
    "z_2 = f_5(h_2)\n",
    "y = f_3(z_2)\n",
    "\n",
    "model = Model(x, y)\n",
    "model.summary()"
   ]
  },
  {
   "cell_type": "code",
   "execution_count": 15,
   "metadata": {},
   "outputs": [],
   "source": [
    "model.compile(loss=\"categorical_crossentropy\", optimizer='RMSprop', metrics=['accuracy'])"
   ]
  },
  {
   "cell_type": "code",
   "execution_count": 16,
   "metadata": {
    "scrolled": true
   },
   "outputs": [
    {
     "name": "stdout",
     "output_type": "stream",
     "text": [
      "Epoch 1/50\n",
      "9200/9200 [==============================] - 10s 1ms/step - loss: 1.0949 - acc: 0.3632: 8s - loss: 1.097\n",
      "Epoch 2/50\n",
      "9200/9200 [==============================] - 6s 660us/step - loss: 1.0938 - acc: 0.3691\n",
      "Epoch 3/50\n",
      "9200/9200 [==============================] - 6s 649us/step - loss: 1.0933 - acc: 0.3651 3s -  - ET\n",
      "Epoch 4/50\n",
      "9200/9200 [==============================] - 6s 652us/step - loss: 1.0923 - acc: 0.3716 5s - loss: 1. - ETA: 1s - loss: 1.0926 - acc: 0.37 - ETA: 1s - loss: 1.09 - ETA: 0s - loss: 1.0927 - acc: 0.369 - ETA: 0s - loss: 1.0925 - acc: 0 - ETA: 0s - loss: 1.0930 - acc:\n",
      "Epoch 5/50\n",
      "9200/9200 [==============================] - 6s 656us/step - loss: 1.0920 - acc: 0.3714\n",
      "Epoch 6/50\n",
      "9200/9200 [==============================] - 6s 648us/step - loss: 1.0903 - acc: 0.3725 4s - loss: 1.0871 - a - ETA: 3s - loss\n",
      "Epoch 7/50\n",
      "9200/9200 [==============================] - 6s 648us/step - loss: 1.0912 - acc: 0.3697\n",
      "Epoch 8/50\n",
      "9200/9200 [==============================] - 6s 649us/step - loss: 1.0907 - acc: 0.3711\n",
      "Epoch 9/50\n",
      "9200/9200 [==============================] - 6s 656us/step - loss: 1.0911 - acc: 0.3759 0s - loss: 1.0914 - acc: 0.37\n",
      "Epoch 10/50\n",
      "9200/9200 [==============================] - 6s 647us/step - loss: 1.0899 - acc: 0.3707 5s - loss: 1.0888 - acc:\n",
      "Epoch 11/50\n",
      "9200/9200 [==============================] - 6s 644us/step - loss: 1.0900 - acc: 0.3770 5s - loss: 1.091 - ETA: 4s - loss: 1.0908 - acc: 0.376 - ETA: 4s - - ETA: 2s - loss: - ETA: 1s - loss: \n",
      "Epoch 12/50\n",
      "9200/9200 [==============================] - 6s 655us/step - loss: 1.0896 - acc: 0.3741\n",
      "Epoch 13/50\n",
      "9200/9200 [==============================] - 6s 642us/step - loss: 1.0900 - acc: 0.3725 3s - loss - ETA: 2s -  - ETA: 0s - loss: 1.0907 - \n",
      "Epoch 14/50\n",
      "9200/9200 [==============================] - 6s 645us/step - loss: 1.0882 - acc: 0.3784 4s - loss: 1.0855 - acc:  - \n",
      "Epoch 15/50\n",
      "9200/9200 [==============================] - 6s 650us/step - loss: 1.0881 - acc: 0.3739\n",
      "Epoch 16/50\n",
      "9200/9200 [==============================] - 6s 663us/step - loss: 1.0890 - acc: 0.3710\n",
      "Epoch 17/50\n",
      "9200/9200 [==============================] - 6s 650us/step - loss: 1.0878 - acc: 0.3730\n",
      "Epoch 18/50\n",
      "9200/9200 [==============================] - 6s 646us/step - loss: 1.0884 - acc: 0.3732 3s - loss: 1. - ETA: 0s - loss: 1.0880 - acc: \n",
      "Epoch 19/50\n",
      "9200/9200 [==============================] - 6s 663us/step - loss: 1.0872 - acc: 0.3724\n",
      "Epoch 20/50\n",
      "9200/9200 [==============================] - 6s 649us/step - loss: 1.0880 - acc: 0.3690\n",
      "Epoch 21/50\n",
      "9200/9200 [==============================] - 6s 653us/step - loss: 1.0883 - acc: 0.3737\n",
      "Epoch 22/50\n",
      "9200/9200 [==============================] - 6s 651us/step - loss: 1.0871 - acc: 0.3759\n",
      "Epoch 23/50\n",
      "9200/9200 [==============================] - 6s 638us/step - loss: 1.0876 - acc: 0.3711\n",
      "Epoch 24/50\n",
      "9200/9200 [==============================] - 6s 641us/step - loss: 1.0879 - acc: 0.3785\n",
      "Epoch 25/50\n",
      "9200/9200 [==============================] - 6s 637us/step - loss: 1.0866 - acc: 0.3785\n",
      "Epoch 26/50\n",
      "9200/9200 [==============================] - 6s 639us/step - loss: 1.0877 - acc: 0.3713 0s - loss: 1.0878 - a\n",
      "Epoch 27/50\n",
      "9200/9200 [==============================] - 6s 638us/step - loss: 1.0874 - acc: 0.3726\n",
      "Epoch 28/50\n",
      "9200/9200 [==============================] - 6s 636us/step - loss: 1.0867 - acc: 0.3764\n",
      "Epoch 29/50\n",
      "9200/9200 [==============================] - 6s 642us/step - loss: 1.0870 - acc: 0.3768 5s - loss: 1.0814 - acc - ETA: 5s - loss: 1.0755 -  - ETA: 4s - loss: 1.0815 - ETA: 3s - loss: 1.084 - ETA: 2s - loss: 1.0875 - acc: - ETA: 2s - loss: 1.0885 - - ETA: 1s - l\n",
      "Epoch 30/50\n",
      "9200/9200 [==============================] - 6s 642us/step - loss: 1.0870 - acc: 0.3780\n",
      "Epoch 31/50\n",
      "9200/9200 [==============================] - 6s 638us/step - loss: 1.0868 - acc: 0.3732\n",
      "Epoch 32/50\n",
      "9200/9200 [==============================] - 6s 643us/step - loss: 1.0870 - acc: 0.3747\n",
      "Epoch 33/50\n",
      "9200/9200 [==============================] - 6s 641us/step - loss: 1.0867 - acc: 0.3741 5s - ETA: 3s - loss: 1.0880 - - ETA: 0s - loss: 1.0870 - acc: 0.3\n",
      "Epoch 34/50\n",
      "9200/9200 [==============================] - 6s 640us/step - loss: 1.0869 - acc: 0.3754\n",
      "Epoch 35/50\n",
      "9200/9200 [==============================] - 6s 636us/step - loss: 1.0868 - acc: 0.3767\n",
      "Epoch 36/50\n",
      "9200/9200 [==============================] - 6s 640us/step - loss: 1.0867 - acc: 0.3720\n",
      "Epoch 37/50\n",
      "9200/9200 [==============================] - 6s 642us/step - loss: 1.0858 - acc: 0.3709 \n",
      "Epoch 38/50\n",
      "9200/9200 [==============================] - 6s 641us/step - loss: 1.0868 - acc: 0.3774\n",
      "Epoch 39/50\n",
      "9200/9200 [==============================] - 6s 648us/step - loss: 1.0862 - acc: 0.3790\n",
      "Epoch 40/50\n",
      "9200/9200 [==============================] - 6s 654us/step - loss: 1.0860 - acc: 0.3775- ETA: 3s -  - ETA: 1s\n",
      "Epoch 41/50\n",
      "9200/9200 [==============================] - 6s 649us/step - loss: 1.0859 - acc: 0.3752 2s - l - ETA: 1s - loss: 1.0\n",
      "Epoch 42/50\n",
      "9200/9200 [==============================] - 6s 663us/step - loss: 1.0861 - acc: 0.3768\n",
      "Epoch 43/50\n",
      "9200/9200 [==============================] - 6s 633us/step - loss: 1.0861 - acc: 0.3767 4s - loss: 1.0824 - acc - ETA: 3s  \n",
      "Epoch 44/50\n",
      "9200/9200 [==============================] - 6s 643us/step - loss: 1.0854 - acc: 0.3747\n",
      "Epoch 45/50\n",
      "9200/9200 [==============================] - 6s 644us/step - loss: 1.0857 - acc: 0.3776 2s - loss: - ETA: 0s - loss: 1.0856 -\n",
      "Epoch 46/50\n",
      "9200/9200 [==============================] - 6s 643us/step - loss: 1.0858 - acc: 0.3789\n",
      "Epoch 47/50\n",
      "9200/9200 [==============================] - 6s 643us/step - loss: 1.0851 - acc: 0.3759 1s - loss: 1.0\n",
      "Epoch 48/50\n",
      "9200/9200 [==============================] - 6s 653us/step - loss: 1.0859 - acc: 0.3772\n",
      "Epoch 49/50\n",
      "9200/9200 [==============================] - 6s 653us/step - loss: 1.0862 - acc: 0.3757\n",
      "Epoch 50/50\n",
      "9200/9200 [==============================] - 6s 641us/step - loss: 1.0853 - acc: 0.3759 2s - loss: 1.0849 - a - ETA: 1s - l\n"
     ]
    },
    {
     "data": {
      "text/plain": [
       "<keras.callbacks.History at 0xb81f9cb390>"
      ]
     },
     "execution_count": 16,
     "metadata": {},
     "output_type": "execute_result"
    }
   ],
   "source": [
    "model.fit(x_train, y_train, epochs=50)"
   ]
  },
  {
   "cell_type": "markdown",
   "metadata": {},
   "source": [
    "## 預測結果"
   ]
  },
  {
   "cell_type": "code",
   "execution_count": 17,
   "metadata": {
    "scrolled": true
   },
   "outputs": [
    {
     "name": "stdout",
     "output_type": "stream",
     "text": [
      "3944/3944 [==============================] - 1s 263us/step\n"
     ]
    },
    {
     "data": {
      "text/plain": [
       "[1.086030749955477, 0.39528397565922924]"
      ]
     },
     "execution_count": 17,
     "metadata": {},
     "output_type": "execute_result"
    }
   ],
   "source": [
    "model.evaluate(x_test, y_test)"
   ]
  },
  {
   "cell_type": "code",
   "execution_count": 18,
   "metadata": {},
   "outputs": [
    {
     "name": "stdout",
     "output_type": "stream",
     "text": [
      "3944/3944 [==============================] - 1s 175us/step\n",
      "模型預測正確率為： 0.39528397565922924\n"
     ]
    }
   ],
   "source": [
    "print(\"模型預測正確率為：\", model.evaluate(x_test, y_test)[1])"
   ]
  },
  {
   "cell_type": "code",
   "execution_count": 19,
   "metadata": {
    "scrolled": false
   },
   "outputs": [
    {
     "data": {
      "text/plain": [
       "array([[0.31977165, 0.3250643 , 0.355164  ],\n",
       "       [0.38656515, 0.40342608, 0.2100087 ],\n",
       "       [0.36507535, 0.3214034 , 0.31352124],\n",
       "       ...,\n",
       "       [0.33301193, 0.31465977, 0.3523282 ],\n",
       "       [0.34460205, 0.33384973, 0.32154813],\n",
       "       [0.33990145, 0.31158504, 0.34851354]], dtype=float32)"
      ]
     },
     "execution_count": 19,
     "metadata": {},
     "output_type": "execute_result"
    }
   ],
   "source": [
    "model.predict(x_test)"
   ]
  },
  {
   "cell_type": "code",
   "execution_count": 20,
   "metadata": {
    "scrolled": true
   },
   "outputs": [
    {
     "data": {
      "text/plain": [
       "array([2, 1, 0, ..., 2, 0, 2], dtype=int64)"
      ]
     },
     "execution_count": 20,
     "metadata": {},
     "output_type": "execute_result"
    }
   ],
   "source": [
    "predict = model.predict(x_test)\n",
    "np.argmax(predict,axis=1)"
   ]
  },
  {
   "cell_type": "code",
   "execution_count": 21,
   "metadata": {},
   "outputs": [
    {
     "data": {
      "text/plain": [
       "array([[0., 1., 0.],\n",
       "       [1., 0., 0.],\n",
       "       [0., 1., 0.],\n",
       "       ...,\n",
       "       [0., 0., 1.],\n",
       "       [0., 0., 1.],\n",
       "       [0., 1., 0.]], dtype=float32)"
      ]
     },
     "execution_count": 21,
     "metadata": {},
     "output_type": "execute_result"
    }
   ],
   "source": [
    "y_test"
   ]
  },
  {
   "cell_type": "code",
   "execution_count": 22,
   "metadata": {},
   "outputs": [],
   "source": [
    "from sklearn.metrics import confusion_matrix"
   ]
  },
  {
   "cell_type": "code",
   "execution_count": 23,
   "metadata": {
    "scrolled": true
   },
   "outputs": [
    {
     "data": {
      "text/plain": [
       "array([[1217,   20,  275],\n",
       "       [ 956,   16,  279],\n",
       "       [ 840,   15,  326]], dtype=int64)"
      ]
     },
     "execution_count": 23,
     "metadata": {},
     "output_type": "execute_result"
    }
   ],
   "source": [
    "confusion_matrix(np.argmax(y_test,axis=1), np.argmax(predict,axis=1))"
   ]
  },
  {
   "cell_type": "markdown",
   "metadata": {},
   "source": [
    "## 與隨機預測比較"
   ]
  },
  {
   "cell_type": "code",
   "execution_count": 24,
   "metadata": {},
   "outputs": [
    {
     "data": {
      "text/plain": [
       "(3944,)"
      ]
     },
     "execution_count": 24,
     "metadata": {},
     "output_type": "execute_result"
    }
   ],
   "source": [
    "np.argmax(y_test,axis=1).shape"
   ]
  },
  {
   "cell_type": "code",
   "execution_count": 25,
   "metadata": {},
   "outputs": [],
   "source": [
    "randompredict = np.random.randint(3, size=(3944,))"
   ]
  },
  {
   "cell_type": "code",
   "execution_count": 26,
   "metadata": {},
   "outputs": [
    {
     "data": {
      "text/plain": [
       "array([[484, 508, 520],\n",
       "       [418, 408, 425],\n",
       "       [395, 398, 388]], dtype=int64)"
      ]
     },
     "execution_count": 26,
     "metadata": {},
     "output_type": "execute_result"
    }
   ],
   "source": [
    "confusion_matrix(np.argmax(y_test,axis=1), randompredict)"
   ]
  },
  {
   "cell_type": "code",
   "execution_count": 36,
   "metadata": {},
   "outputs": [
    {
     "name": "stdout",
     "output_type": "stream",
     "text": [
      "隨機預測正確率為： 0.32454361054766734\n"
     ]
    }
   ],
   "source": [
    "print(\"隨機預測正確率為：\",(484+408+388)/3944)"
   ]
  },
  {
   "cell_type": "code",
   "execution_count": 35,
   "metadata": {},
   "outputs": [
    {
     "data": {
      "text/plain": [
       "[<matplotlib.lines.Line2D at 0xb82cfbc3c8>]"
      ]
     },
     "execution_count": 35,
     "metadata": {},
     "output_type": "execute_result"
    },
    {
     "data": {
      "image/png": "[encoded data removed]",
      "text/plain": [
       "<Figure size 432x288 with 1 Axes>"
      ]
     },
     "metadata": {},
     "output_type": "display_data"
    }
   ],
   "source": [
    "st=10000\n",
    "end=10100\n",
    "plt.scatter(np.array(df.年月日)[n+st:end],np.array(df.收盤價)[n+st:end],c=np.array(df.漲跌平)[st:end-n],s=10,cmap='cool')\n",
    "plt.plot(np.array(df.年月日)[n+st:end],np.array(df.收盤價)[n+st:end],c='black', linewidth=0.5)"
   ]
  },
  {
   "cell_type": "code",
   "execution_count": 30,
   "metadata": {},
   "outputs": [
    {
     "data": {
      "text/plain": [
       "[<matplotlib.lines.Line2D at 0xb82cf4a828>]"
      ]
     },
     "execution_count": 30,
     "metadata": {},
     "output_type": "execute_result"
    },
    {
     "data": {
      "image/png": "[encoded data removed]",
      "text/plain": [
       "<Figure size 432x288 with 1 Axes>"
      ]
     },
     "metadata": {},
     "output_type": "display_data"
    }
   ],
   "source": [
    "st=10000\n",
    "end=10100\n",
    "plt.scatter(np.array(df.年月日)[n+st:end],np.array(df.收盤價)[n+st:end],c=np.argmax(model.predict(X),axis=1)[st:end-n],s=10,cmap='cool')\n",
    "plt.plot(np.array(df.年月日)[n+st:end],np.array(df.收盤價)[n+st:end],c='black', linewidth=0.5)"
   ]
  },
  {
   "cell_type": "code",
   "execution_count": null,
   "metadata": {},
   "outputs": [],
   "source": []
  }
 ],
 "metadata": {
  "kernelspec": {
   "display_name": "Python 3",
   "language": "python",
   "name": "python3"
  },
  "language_info": {
   "codemirror_mode": {
    "name": "ipython",
    "version": 3
   },
   "file_extension": ".py",
   "mimetype": "text/x-python",
   "name": "python",
   "nbconvert_exporter": "python",
   "pygments_lexer": "ipython3",
   "version": "3.6.5"
  }
 },
 "nbformat": 4,
 "nbformat_minor": 2
}
