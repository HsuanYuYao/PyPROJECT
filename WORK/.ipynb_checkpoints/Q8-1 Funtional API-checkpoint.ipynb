{
 "cells": [
  {
   "cell_type": "code",
   "execution_count": 1,
   "metadata": {},
   "outputs": [
    {
     "name": "stdout",
     "output_type": "stream",
     "text": [
      "env: KERAS_BACKEND=tensorflow\n"
     ]
    }
   ],
   "source": [
    "%env KERAS_BACKEND=tensorflow"
   ]
  },
  {
   "cell_type": "code",
   "execution_count": 2,
   "metadata": {},
   "outputs": [],
   "source": [
    "%matplotlib inline\n",
    "\n",
    "import numpy as np\n",
    "import matplotlib.pyplot as plt"
   ]
  },
  {
   "cell_type": "code",
   "execution_count": 3,
   "metadata": {},
   "outputs": [
    {
     "name": "stderr",
     "output_type": "stream",
     "text": [
      "Using TensorFlow backend.\n"
     ]
    }
   ],
   "source": [
    "from keras.models import Model\n",
    "from keras.layers import Input, Dense, Activation\n",
    "from keras.layers import concatenate, add\n",
    "from keras.optimizers import SGD\n",
    "\n",
    "from keras.datasets import mnist\n",
    "\n",
    "from keras.utils import np_utils"
   ]
  },
  {
   "cell_type": "code",
   "execution_count": 4,
   "metadata": {},
   "outputs": [],
   "source": [
    "(x_train, y_train), (x_test, y_test) = mnist.load_data()"
   ]
  },
  {
   "cell_type": "code",
   "execution_count": 5,
   "metadata": {},
   "outputs": [],
   "source": [
    "x_train = x_train.reshape(60000, 784)\n",
    "x_test = x_test.reshape(10000, 784)"
   ]
  },
  {
   "cell_type": "code",
   "execution_count": 6,
   "metadata": {},
   "outputs": [],
   "source": [
    "y_train = np_utils.to_categorical(y_train, 10)\n",
    "y_test = np_utils.to_categorical(y_test, 10)"
   ]
  },
  {
   "cell_type": "code",
   "execution_count": 7,
   "metadata": {},
   "outputs": [],
   "source": [
    "f_1 = Dense(400, activation='sigmoid')\n",
    "f_2 = Dense(200, activation='sigmoid')\n",
    "f_3 = Dense(200, activation='relu')\n",
    "f_4 = Dense(10, activation='softmax')\n",
    "\n",
    "x = Input(shape=(784,))\n",
    "\n",
    "h_1 = f_1(x)\n",
    "h_2 = f_2(h_1)\n",
    "z = f_3(h_1)\n",
    "u = concatenate([h_2, z])\n",
    "y = f_4(u)"
   ]
  },
  {
   "cell_type": "code",
   "execution_count": 8,
   "metadata": {},
   "outputs": [
    {
     "name": "stdout",
     "output_type": "stream",
     "text": [
      "__________________________________________________________________________________________________\n",
      "Layer (type)                    Output Shape         Param #     Connected to                     \n",
      "==================================================================================================\n",
      "input_1 (InputLayer)            (None, 784)          0                                            \n",
      "__________________________________________________________________________________________________\n",
      "dense_1 (Dense)                 (None, 400)          314000      input_1[0][0]                    \n",
      "__________________________________________________________________________________________________\n",
      "dense_2 (Dense)                 (None, 200)          80200       dense_1[0][0]                    \n",
      "__________________________________________________________________________________________________\n",
      "dense_3 (Dense)                 (None, 200)          80200       dense_1[0][0]                    \n",
      "__________________________________________________________________________________________________\n",
      "concatenate_1 (Concatenate)     (None, 400)          0           dense_2[0][0]                    \n",
      "                                                                 dense_3[0][0]                    \n",
      "__________________________________________________________________________________________________\n",
      "dense_4 (Dense)                 (None, 10)           4010        concatenate_1[0][0]              \n",
      "==================================================================================================\n",
      "Total params: 478,410\n",
      "Trainable params: 478,410\n",
      "Non-trainable params: 0\n",
      "__________________________________________________________________________________________________\n"
     ]
    }
   ],
   "source": [
    "model = Model(x, y)\n",
    "model.summary()"
   ]
  },
  {
   "cell_type": "code",
   "execution_count": 10,
   "metadata": {},
   "outputs": [],
   "source": [
    "model.compile(loss='mse', optimizer=SGD(lr=0.1), metrics=['accuracy'])"
   ]
  },
  {
   "cell_type": "code",
   "execution_count": 11,
   "metadata": {},
   "outputs": [
    {
     "name": "stdout",
     "output_type": "stream",
     "text": [
      "Epoch 1/20\n",
      "60000/60000 [==============================] - 36s 600us/step - loss: 0.0566 - acc: 0.60775s - lo\n",
      "Epoch 2/20\n",
      "60000/60000 [==============================] - 32s 535us/step - loss: 0.0231 - acc: 0.87193s - loss: 0.0237 - ETA: 1s - loss: 0.0232 - a - ETA: 0s - loss: 0.0232 - a\n",
      "Epoch 3/20\n",
      "60000/60000 [==============================] - 36s 600us/step - loss: 0.0164 - acc: 0.9014\n",
      "Epoch 4/20\n",
      "60000/60000 [==============================] - 28s 470us/step - loss: 0.0139 - acc: 0.9146\n",
      "Epoch 5/20\n",
      "60000/60000 [==============================] - 26s 435us/step - loss: 0.0122 - acc: 0.9257\n",
      "Epoch 6/20\n",
      "60000/60000 [==============================] - 28s 473us/step - loss: 0.0110 - acc: 0.9322\n",
      "Epoch 7/20\n",
      "60000/60000 [==============================] - 27s 454us/step - loss: 0.0102 - acc: 0.93712s - loss: 0.0102 - acc: 0.93\n",
      "Epoch 8/20\n",
      "60000/60000 [==============================] - 35s 590us/step - loss: 0.0094 - acc: 0.942711s - loss: 0.0095 -  - ETA: 9s - loss: 0.0095 - acc: 0. - ETA: 8s - loss: 0.0095 - acc - ET\n",
      "Epoch 9/20\n",
      "60000/60000 [==============================] - 38s 628us/step - loss: 0.0089 - acc: 0.94625s - loss: 0.0088 - ETA: 1s \n",
      "Epoch 10/20\n",
      "60000/60000 [==============================] - 33s 557us/step - loss: 0.0083 - acc: 0.9494\n",
      "Epoch 11/20\n",
      "60000/60000 [==============================] - 30s 496us/step - loss: 0.0079 - acc: 0.9527\n",
      "Epoch 12/20\n",
      "60000/60000 [==============================] - 37s 615us/step - loss: 0.0074 - acc: 0.9553\n",
      "Epoch 13/20\n",
      "60000/60000 [==============================] - 28s 463us/step - loss: 0.0071 - acc: 0.95801s - loss: 0.0071 - acc: 0 - ETA: 1s - loss\n",
      "Epoch 14/20\n",
      "60000/60000 [==============================] - 32s 532us/step - loss: 0.0067 - acc: 0.96051s - loss: 0.0067 - acc: 0 - ETA: 1s - loss: 0.0067 -\n",
      "Epoch 15/20\n",
      "60000/60000 [==============================] - 28s 466us/step - loss: 0.0063 - acc: 0.96371s - loss: 0.006\n",
      "Epoch 16/20\n",
      "60000/60000 [==============================] - 31s 516us/step - loss: 0.0060 - acc: 0.9656\n",
      "Epoch 17/20\n",
      "60000/60000 [==============================] - 40s 670us/step - loss: 0.0057 - acc: 0.96751s\n",
      "Epoch 18/20\n",
      "60000/60000 [==============================] - 32s 541us/step - loss: 0.0054 - acc: 0.96930s - loss: 0.0054 -\n",
      "Epoch 19/20\n",
      "60000/60000 [==============================] - 27s 456us/step - loss: 0.0052 - acc: 0.97060s - loss: 0.0052 - acc:\n",
      "Epoch 20/20\n",
      "60000/60000 [==============================] - 39s 646us/step - loss: 0.0050 - acc: 0.9721\n"
     ]
    },
    {
     "data": {
      "text/plain": [
       "<keras.callbacks.History at 0xf5d9928c88>"
      ]
     },
     "execution_count": 11,
     "metadata": {},
     "output_type": "execute_result"
    }
   ],
   "source": [
    "model.fit(x_train, y_train, batch_size=100, epochs=20)"
   ]
  },
  {
   "cell_type": "code",
   "execution_count": 12,
   "metadata": {},
   "outputs": [
    {
     "name": "stdout",
     "output_type": "stream",
     "text": [
      "10000/10000 [==============================] - 4s 383us/step\n",
      "loss: 0.00752967067125137\n",
      "正確率: 0.9505\n"
     ]
    }
   ],
   "source": [
    "score = model.evaluate(x_test, y_test)\n",
    "print('loss:', score[0])\n",
    "print('正確率:', score[1])"
   ]
  },
  {
   "cell_type": "code",
   "execution_count": null,
   "metadata": {},
   "outputs": [],
   "source": []
  }
 ],
 "metadata": {
  "kernelspec": {
   "display_name": "Python 3",
   "language": "python",
   "name": "python3"
  },
  "language_info": {
   "codemirror_mode": {
    "name": "ipython",
    "version": 3
   },
   "file_extension": ".py",
   "mimetype": "text/x-python",
   "name": "python",
   "nbconvert_exporter": "python",
   "pygments_lexer": "ipython3",
   "version": "3.6.5"
  }
 },
 "nbformat": 4,
 "nbformat_minor": 2
}
