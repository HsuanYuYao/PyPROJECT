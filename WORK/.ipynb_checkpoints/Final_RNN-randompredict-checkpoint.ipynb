{
 "cells": [
  {
   "cell_type": "markdown",
   "metadata": {},
   "source": [
    "# 利用RNN從前十日收盤價預測股價漲跌平"
   ]
  },
  {
   "cell_type": "code",
   "execution_count": 1,
   "metadata": {},
   "outputs": [],
   "source": [
    "%matplotlib inline\n",
    "\n",
    "import pandas as pd\n",
    "import numpy as np\n",
    "import matplotlib.pyplot as plt"
   ]
  },
  {
   "cell_type": "code",
   "execution_count": 7,
   "metadata": {},
   "outputs": [
    {
     "name": "stdout",
     "output_type": "stream",
     "text": [
      "env: KERAS_BACKEND=tensorflow\n"
     ]
    },
    {
     "name": "stderr",
     "output_type": "stream",
     "text": [
      "Using TensorFlow backend.\n"
     ]
    }
   ],
   "source": [
    "%env KERAS_BACKEND = tensorflow\n",
    "\n",
    "from keras.models import Model\n",
    "from keras.layers import Input\n",
    "from keras.layers import Dense\n",
    "from keras.layers import LSTM\n",
    "from keras.layers import Dropout\n",
    "from keras.utils import np_utils"
   ]
  },
  {
   "cell_type": "markdown",
   "metadata": {},
   "source": [
    "## 資料處理"
   ]
  },
  {
   "cell_type": "code",
   "execution_count": 2,
   "metadata": {},
   "outputs": [],
   "source": [
    "df=pd.read_excel('大盤指數盤後數據.xlsx',header=0)"
   ]
  },
  {
   "cell_type": "code",
   "execution_count": 3,
   "metadata": {},
   "outputs": [],
   "source": [
    "X = [] # empty list\n",
    "Y = [] # empty list\n",
    "for i in range(len(df.index)-10):\n",
    "    X.append(list(df.loc[i:i+9]['收盤價']))\n",
    "    Y.append(df.漲跌平[i+10])"
   ]
  },
  {
   "cell_type": "code",
   "execution_count": 4,
   "metadata": {},
   "outputs": [
    {
     "data": {
      "text/plain": [
       "False"
      ]
     },
     "execution_count": 4,
     "metadata": {},
     "output_type": "execute_result"
    }
   ],
   "source": [
    "np.any(np.isnan(df.收盤價))"
   ]
  },
  {
   "cell_type": "code",
   "execution_count": 5,
   "metadata": {},
   "outputs": [],
   "source": [
    "X=np.array(X)\n",
    "X = X.reshape(13144, 10, 1)"
   ]
  },
  {
   "cell_type": "code",
   "execution_count": 6,
   "metadata": {},
   "outputs": [],
   "source": [
    "# 標準化\n",
    "for i in range(13144):\n",
    "    X[i] = X[i] - X[i].min()\n",
    "    X[i] = X[i] / X[i].max()"
   ]
  },
  {
   "cell_type": "code",
   "execution_count": 8,
   "metadata": {},
   "outputs": [],
   "source": [
    "# one-hot encoding\n",
    "Y = np_utils.to_categorical(Y, 3)"
   ]
  },
  {
   "cell_type": "code",
   "execution_count": 9,
   "metadata": {
    "scrolled": true
   },
   "outputs": [
    {
     "data": {
      "text/plain": [
       "(13144, 3)"
      ]
     },
     "execution_count": 9,
     "metadata": {},
     "output_type": "execute_result"
    }
   ],
   "source": [
    "Y.shape"
   ]
  },
  {
   "cell_type": "code",
   "execution_count": 12,
   "metadata": {},
   "outputs": [],
   "source": [
    "from sklearn.model_selection import train_test_split"
   ]
  },
  {
   "cell_type": "code",
   "execution_count": 13,
   "metadata": {},
   "outputs": [],
   "source": [
    "# 分割訓練資料和測試資料\n",
    "x_train, x_test, y_train, y_test = train_test_split(X, Y, test_size=0.3, random_state = 9487)"
   ]
  },
  {
   "cell_type": "markdown",
   "metadata": {},
   "source": [
    "## 模型建立"
   ]
  },
  {
   "cell_type": "code",
   "execution_count": 10,
   "metadata": {
    "scrolled": true
   },
   "outputs": [
    {
     "name": "stdout",
     "output_type": "stream",
     "text": [
      "_________________________________________________________________\n",
      "Layer (type)                 Output Shape              Param #   \n",
      "=================================================================\n",
      "input_1 (InputLayer)         (None, 10, 1)             0         \n",
      "_________________________________________________________________\n",
      "lstm_1 (LSTM)                (None, 10, 20)            1760      \n",
      "_________________________________________________________________\n",
      "dropout_1 (Dropout)          (None, 10, 20)            0         \n",
      "_________________________________________________________________\n",
      "lstm_2 (LSTM)                (None, 20)                3280      \n",
      "_________________________________________________________________\n",
      "dropout_2 (Dropout)          (None, 20)                0         \n",
      "_________________________________________________________________\n",
      "dense_1 (Dense)              (None, 3)                 63        \n",
      "=================================================================\n",
      "Total params: 5,103\n",
      "Trainable params: 5,103\n",
      "Non-trainable params: 0\n",
      "_________________________________________________________________\n"
     ]
    }
   ],
   "source": [
    "x = Input(shape=(10, 1))\n",
    "f_1 = LSTM(20, return_sequences=True)\n",
    "f_4 = Dropout(0.3)\n",
    "f_2 = LSTM(20)\n",
    "f_5 = Dropout(0.3)\n",
    "f_3 = Dense(3, activation='softmax')\n",
    "\n",
    "h_1 = f_1(x)\n",
    "z_1 = f_4(h_1)\n",
    "h_2 = f_2(z_1)\n",
    "z_2 = f_5(h_2)\n",
    "y = f_3(z_2)\n",
    "\n",
    "model = Model(x, y)\n",
    "model.summary()"
   ]
  },
  {
   "cell_type": "code",
   "execution_count": 11,
   "metadata": {},
   "outputs": [],
   "source": [
    "model.compile(loss=\"categorical_crossentropy\", optimizer='RMSprop', metrics=['accuracy'])"
   ]
  },
  {
   "cell_type": "code",
   "execution_count": 14,
   "metadata": {
    "scrolled": true
   },
   "outputs": [
    {
     "name": "stdout",
     "output_type": "stream",
     "text": [
      "Epoch 1/50\n",
      "9200/9200 [==============================] - 10s 1ms/step - loss: 1.0954 - acc: 0.3686\n",
      "Epoch 2/50\n",
      "9200/9200 [==============================] - 6s 668us/step - loss: 1.0931 - acc: 0.3680\n",
      "Epoch 3/50\n",
      "9200/9200 [==============================] - 6s 668us/step - loss: 1.0926 - acc: 0.3664\n",
      "Epoch 4/50\n",
      "9200/9200 [==============================] - 6s 671us/step - loss: 1.0926 - acc: 0.3747\n",
      "Epoch 5/50\n",
      "9200/9200 [==============================] - 6s 674us/step - loss: 1.0923 - acc: 0.3707\n",
      "Epoch 6/50\n",
      "9200/9200 [==============================] - 6s 677us/step - loss: 1.0920 - acc: 0.3748\n",
      "Epoch 7/50\n",
      "9200/9200 [==============================] - 6s 682us/step - loss: 1.0910 - acc: 0.3697\n",
      "Epoch 8/50\n",
      "9200/9200 [==============================] - 6s 669us/step - loss: 1.0919 - acc: 0.3672\n",
      "Epoch 9/50\n",
      "9200/9200 [==============================] - 6s 681us/step - loss: 1.0913 - acc: 0.3688\n",
      "Epoch 10/50\n",
      "9200/9200 [==============================] - 6s 686us/step - loss: 1.0912 - acc: 0.3703 1s \n",
      "Epoch 11/50\n",
      "9200/9200 [==============================] - 6s 683us/step - loss: 1.0904 - acc: 0.3692\n",
      "Epoch 12/50\n",
      "9200/9200 [==============================] - 6s 679us/step - loss: 1.0899 - acc: 0.3749\n",
      "Epoch 13/50\n",
      "9200/9200 [==============================] - 6s 691us/step - loss: 1.0901 - acc: 0.3743\n",
      "Epoch 14/50\n",
      "9200/9200 [==============================] - 6s 656us/step - loss: 1.0900 - acc: 0.3737\n",
      "Epoch 15/50\n",
      "9200/9200 [==============================] - 6s 651us/step - loss: 1.0894 - acc: 0.3723\n",
      "Epoch 16/50\n",
      "9200/9200 [==============================] - 6s 665us/step - loss: 1.0886 - acc: 0.3770\n",
      "Epoch 17/50\n",
      "9200/9200 [==============================] - 6s 664us/step - loss: 1.0894 - acc: 0.3718\n",
      "Epoch 18/50\n",
      "9200/9200 [==============================] - 6s 670us/step - loss: 1.0880 - acc: 0.3767\n",
      "Epoch 19/50\n",
      "9200/9200 [==============================] - 6s 663us/step - loss: 1.0884 - acc: 0.3761\n",
      "Epoch 20/50\n",
      "9200/9200 [==============================] - 6s 646us/step - loss: 1.0884 - acc: 0.3737 2s - loss - ETA: 1s - loss: 1.0887 - acc - ETA: 1s - loss: 1.\n",
      "Epoch 21/50\n",
      "9200/9200 [==============================] - 6s 644us/step - loss: 1.0884 - acc: 0.3748 1s - loss - ETA: 0s - loss: 1.0878 - a\n",
      "Epoch 22/50\n",
      "9200/9200 [==============================] - 6s 648us/step - loss: 1.0875 - acc: 0.3746\n",
      "Epoch 23/50\n",
      "9200/9200 [==============================] - 6s 667us/step - loss: 1.0878 - acc: 0.3755\n",
      "Epoch 24/50\n",
      "9200/9200 [==============================] - 6s 655us/step - loss: 1.0870 - acc: 0.3709\n",
      "Epoch 25/50\n",
      "9200/9200 [==============================] - 6s 658us/step - loss: 1.0874 - acc: 0.3749\n",
      "Epoch 26/50\n",
      "9200/9200 [==============================] - 6s 656us/step - loss: 1.0870 - acc: 0.3738 5s - loss: 1.0899 - acc - ETA: 5s - loss - ETA: 3s - los\n",
      "Epoch 27/50\n",
      "9200/9200 [==============================] - 6s 658us/step - loss: 1.0869 - acc: 0.3758\n",
      "Epoch 28/50\n",
      "9200/9200 [==============================] - 6s 667us/step - loss: 1.0876 - acc: 0.3752 0s - loss: 1.088\n",
      "Epoch 29/50\n",
      "9200/9200 [==============================] - 6s 654us/step - loss: 1.0872 - acc: 0.3808 4s - loss: 1.0888 - acc: - ETA: 4s - loss: 1.0883 - acc:  - ETA: - ETA: 1s - loss: 1.087 - ETA: 0s - loss: 1.0873\n",
      "Epoch 30/50\n",
      "9200/9200 [==============================] - 6s 671us/step - loss: 1.0862 - acc: 0.3724\n",
      "Epoch 31/50\n",
      "9200/9200 [==============================] - 6s 657us/step - loss: 1.0872 - acc: 0.3715\n",
      "Epoch 32/50\n",
      "9200/9200 [==============================] - 6s 659us/step - loss: 1.0871 - acc: 0.3724\n",
      "Epoch 33/50\n",
      "9200/9200 [==============================] - 6s 674us/step - loss: 1.0865 - acc: 0.3774\n",
      "Epoch 34/50\n",
      "9200/9200 [==============================] - 6s 667us/step - loss: 1.0865 - acc: 0.3725\n",
      "Epoch 35/50\n",
      "9200/9200 [==============================] - 6s 681us/step - loss: 1.0866 - acc: 0.3788\n",
      "Epoch 36/50\n",
      "9200/9200 [==============================] - 6s 672us/step - loss: 1.0872 - acc: 0.3728\n",
      "Epoch 37/50\n",
      "9200/9200 [==============================] - 6s 647us/step - loss: 1.0861 - acc: 0.3746 1s - loss: 1.0879 - acc: 0.372 - ETA: 1s - loss: 1.0879 - acc: 0.372 - ETA: 1s -  - ETA: 0s - loss: 1.0864 - acc: 0.\n",
      "Epoch 38/50\n",
      "9200/9200 [==============================] - 6s 668us/step - loss: 1.0863 - acc: 0.3765 0s - loss: 1.0853\n",
      "Epoch 39/50\n",
      "9200/9200 [==============================] - 7s 710us/step - loss: 1.0859 - acc: 0.3782\n",
      "Epoch 40/50\n",
      "9200/9200 [==============================] - 7s 734us/step - loss: 1.0865 - acc: 0.3798\n",
      "Epoch 41/50\n",
      "9200/9200 [==============================] - 6s 677us/step - loss: 1.0856 - acc: 0.3754\n",
      "Epoch 42/50\n",
      "9200/9200 [==============================] - 6s 664us/step - loss: 1.0858 - acc: 0.3732\n",
      "Epoch 43/50\n",
      "9200/9200 [==============================] - 6s 670us/step - loss: 1.0866 - acc: 0.3750\n",
      "Epoch 44/50\n",
      "9200/9200 [==============================] - 6s 699us/step - loss: 1.0856 - acc: 0.3701\n",
      "Epoch 45/50\n",
      "9200/9200 [==============================] - 6s 678us/step - loss: 1.0863 - acc: 0.3785\n",
      "Epoch 46/50\n",
      "9200/9200 [==============================] - 6s 665us/step - loss: 1.0848 - acc: 0.3730\n",
      "Epoch 47/50\n",
      "9200/9200 [==============================] - 6s 687us/step - loss: 1.0853 - acc: 0.3800 1s - loss: \n",
      "Epoch 48/50\n",
      "9200/9200 [==============================] - 6s 668us/step - loss: 1.0867 - acc: 0.3773\n",
      "Epoch 49/50\n",
      "9200/9200 [==============================] - 6s 680us/step - loss: 1.0861 - acc: 0.3780\n",
      "Epoch 50/50\n",
      "9200/9200 [==============================] - 6s 699us/step - loss: 1.0849 - acc: 0.3784 1s - lo\n"
     ]
    },
    {
     "data": {
      "text/plain": [
       "<keras.callbacks.History at 0xa94d2081d0>"
      ]
     },
     "execution_count": 14,
     "metadata": {},
     "output_type": "execute_result"
    }
   ],
   "source": [
    "model.fit(x_train, y_train, epochs=50)"
   ]
  },
  {
   "cell_type": "markdown",
   "metadata": {},
   "source": [
    "## 預測結果"
   ]
  },
  {
   "cell_type": "code",
   "execution_count": 15,
   "metadata": {},
   "outputs": [
    {
     "name": "stdout",
     "output_type": "stream",
     "text": [
      "3944/3944 [==============================] - 1s 293us/step\n"
     ]
    },
    {
     "data": {
      "text/plain": [
       "[1.0869121604710514, 0.3879310344827586]"
      ]
     },
     "execution_count": 15,
     "metadata": {},
     "output_type": "execute_result"
    }
   ],
   "source": [
    "model.evaluate(x_test, y_test)"
   ]
  },
  {
   "cell_type": "code",
   "execution_count": 16,
   "metadata": {
    "scrolled": true
   },
   "outputs": [
    {
     "data": {
      "text/plain": [
       "array([[0.31143504, 0.3288193 , 0.35974565],\n",
       "       [0.38853648, 0.42987132, 0.18159223],\n",
       "       [0.3494157 , 0.33770794, 0.3128763 ],\n",
       "       ...,\n",
       "       [0.32886934, 0.3155806 , 0.35555008],\n",
       "       [0.33916864, 0.33810973, 0.32272157],\n",
       "       [0.32770425, 0.31914443, 0.35315138]], dtype=float32)"
      ]
     },
     "execution_count": 16,
     "metadata": {},
     "output_type": "execute_result"
    }
   ],
   "source": [
    "model.predict(x_test)"
   ]
  },
  {
   "cell_type": "code",
   "execution_count": 17,
   "metadata": {
    "scrolled": true
   },
   "outputs": [
    {
     "data": {
      "text/plain": [
       "array([2, 1, 0, ..., 2, 0, 2], dtype=int64)"
      ]
     },
     "execution_count": 17,
     "metadata": {},
     "output_type": "execute_result"
    }
   ],
   "source": [
    "predict = model.predict(x_test)\n",
    "np.argmax(predict,axis=1)"
   ]
  },
  {
   "cell_type": "code",
   "execution_count": 18,
   "metadata": {},
   "outputs": [
    {
     "data": {
      "text/plain": [
       "array([[0., 1., 0.],\n",
       "       [1., 0., 0.],\n",
       "       [0., 1., 0.],\n",
       "       ...,\n",
       "       [0., 0., 1.],\n",
       "       [0., 0., 1.],\n",
       "       [0., 1., 0.]], dtype=float32)"
      ]
     },
     "execution_count": 18,
     "metadata": {},
     "output_type": "execute_result"
    }
   ],
   "source": [
    "y_test"
   ]
  },
  {
   "cell_type": "code",
   "execution_count": 19,
   "metadata": {},
   "outputs": [],
   "source": [
    "from sklearn.metrics import confusion_matrix"
   ]
  },
  {
   "cell_type": "code",
   "execution_count": 20,
   "metadata": {
    "scrolled": true
   },
   "outputs": [
    {
     "data": {
      "text/plain": [
       "array([[964, 215, 333],\n",
       "       [750, 190, 311],\n",
       "       [638, 167, 376]], dtype=int64)"
      ]
     },
     "execution_count": 20,
     "metadata": {},
     "output_type": "execute_result"
    }
   ],
   "source": [
    "confusion_matrix(np.argmax(y_test,axis=1), np.argmax(predict,axis=1))"
   ]
  },
  {
   "cell_type": "markdown",
   "metadata": {},
   "source": [
    "## 與隨機預測比較"
   ]
  },
  {
   "cell_type": "code",
   "execution_count": 23,
   "metadata": {},
   "outputs": [
    {
     "data": {
      "text/plain": [
       "(3944,)"
      ]
     },
     "execution_count": 23,
     "metadata": {},
     "output_type": "execute_result"
    }
   ],
   "source": [
    "np.argmax(y_test,axis=1).shape"
   ]
  },
  {
   "cell_type": "code",
   "execution_count": 26,
   "metadata": {},
   "outputs": [],
   "source": [
    "randompredict = np.random.randint(3, size=(3944,))"
   ]
  },
  {
   "cell_type": "code",
   "execution_count": 27,
   "metadata": {},
   "outputs": [
    {
     "data": {
      "text/plain": [
       "array([[442, 505, 565],\n",
       "       [373, 434, 444],\n",
       "       [402, 383, 396]], dtype=int64)"
      ]
     },
     "execution_count": 27,
     "metadata": {},
     "output_type": "execute_result"
    }
   ],
   "source": [
    "confusion_matrix(np.argmax(y_test,axis=1), randompredict)"
   ]
  },
  {
   "cell_type": "code",
   "execution_count": 28,
   "metadata": {},
   "outputs": [
    {
     "data": {
      "text/plain": [
       "0.3225152129817444"
      ]
     },
     "execution_count": 28,
     "metadata": {},
     "output_type": "execute_result"
    }
   ],
   "source": [
    "(442+434+396)/3944"
   ]
  },
  {
   "cell_type": "code",
   "execution_count": null,
   "metadata": {},
   "outputs": [],
   "source": []
  }
 ],
 "metadata": {
  "kernelspec": {
   "display_name": "Python 3",
   "language": "python",
   "name": "python3"
  },
  "language_info": {
   "codemirror_mode": {
    "name": "ipython",
    "version": 3
   },
   "file_extension": ".py",
   "mimetype": "text/x-python",
   "name": "python",
   "nbconvert_exporter": "python",
   "pygments_lexer": "ipython3",
   "version": "3.6.5"
  }
 },
 "nbformat": 4,
 "nbformat_minor": 2
}
