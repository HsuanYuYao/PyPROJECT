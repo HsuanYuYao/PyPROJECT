{
 "cells": [
  {
   "cell_type": "code",
   "execution_count": 1,
   "metadata": {},
   "outputs": [],
   "source": [
    "%matplotlib inline\n",
    "\n",
    "import pandas as pd\n",
    "import numpy as np\n",
    "import matplotlib.pyplot as plt"
   ]
  },
  {
   "cell_type": "code",
   "execution_count": 2,
   "metadata": {},
   "outputs": [],
   "source": [
    "df=pd.read_excel('大盤指數盤後數據.xlsx',header=0)"
   ]
  },
  {
   "cell_type": "code",
   "execution_count": 3,
   "metadata": {},
   "outputs": [],
   "source": [
    "X = [] #empty list\n",
    "Y = [] #empty list\n",
    "for i in range(len(df.index)-10):\n",
    "    X.append(list(df.loc[i:i+9]['收盤價']))\n",
    "    Y.append(df.漲跌平[i+10])"
   ]
  },
  {
   "cell_type": "code",
   "execution_count": 4,
   "metadata": {},
   "outputs": [
    {
     "data": {
      "text/plain": [
       "False"
      ]
     },
     "execution_count": 4,
     "metadata": {},
     "output_type": "execute_result"
    }
   ],
   "source": [
    "np.any(np.isnan(df.收盤價))"
   ]
  },
  {
   "cell_type": "code",
   "execution_count": 5,
   "metadata": {},
   "outputs": [],
   "source": [
    "X=np.array(X)\n",
    "X = X.reshape(13144, 10, 1)"
   ]
  },
  {
   "cell_type": "code",
   "execution_count": 6,
   "metadata": {},
   "outputs": [],
   "source": [
    "for i in range(13144):\n",
    "    X[i] = X[i] - X[i].min()\n",
    "    X[i] = X[i] / X[i].max()"
   ]
  },
  {
   "cell_type": "code",
   "execution_count": 24,
   "metadata": {},
   "outputs": [
    {
     "name": "stdout",
     "output_type": "stream",
     "text": [
      "env: KERAS_BACKEND=tensorflow\n"
     ]
    }
   ],
   "source": [
    "%env KERAS_BACKEND = tensorflow\n",
    "\n",
    "from keras.models import Model\n",
    "from keras.layers import Input\n",
    "from keras.layers import Dense\n",
    "from keras.layers import LSTM\n",
    "from keras.layers import Dropout\n",
    "from keras.utils import np_utils\n",
    "from keras.initializers import he_normal"
   ]
  },
  {
   "cell_type": "code",
   "execution_count": 8,
   "metadata": {},
   "outputs": [],
   "source": [
    "Y = np_utils.to_categorical(Y, 3)"
   ]
  },
  {
   "cell_type": "code",
   "execution_count": 9,
   "metadata": {},
   "outputs": [
    {
     "data": {
      "text/plain": [
       "(13144, 3)"
      ]
     },
     "execution_count": 9,
     "metadata": {},
     "output_type": "execute_result"
    }
   ],
   "source": [
    "Y.shape"
   ]
  },
  {
   "cell_type": "code",
   "execution_count": 31,
   "metadata": {
    "scrolled": true
   },
   "outputs": [
    {
     "name": "stdout",
     "output_type": "stream",
     "text": [
      "_________________________________________________________________\n",
      "Layer (type)                 Output Shape              Param #   \n",
      "=================================================================\n",
      "input_3 (InputLayer)         (None, 10, 1)             0         \n",
      "_________________________________________________________________\n",
      "lstm_5 (LSTM)                (None, 10, 20)            1760      \n",
      "_________________________________________________________________\n",
      "dropout_5 (Dropout)          (None, 10, 20)            0         \n",
      "_________________________________________________________________\n",
      "lstm_6 (LSTM)                (None, 20)                3280      \n",
      "_________________________________________________________________\n",
      "dropout_6 (Dropout)          (None, 20)                0         \n",
      "_________________________________________________________________\n",
      "dense_3 (Dense)              (None, 3)                 63        \n",
      "=================================================================\n",
      "Total params: 5,103\n",
      "Trainable params: 5,103\n",
      "Non-trainable params: 0\n",
      "_________________________________________________________________\n"
     ]
    }
   ],
   "source": [
    "x = Input(shape=(10, 1))\n",
    "f_1 = LSTM(20, return_sequences=True)\n",
    "f_4 = Dropout(0.3)\n",
    "f_2 = LSTM(20)\n",
    "f_5 = Dropout(0.3)\n",
    "f_3 = Dense(3, activation='softmax')\n",
    "\n",
    "h_1 = f_1(x)\n",
    "z_1 = f_4(h_1)\n",
    "h_2 = f_2(z_1)\n",
    "z_2 = f_5(h_2)\n",
    "y = f_3(z_2)\n",
    "\n",
    "model = Model(x, y)\n",
    "model.summary()"
   ]
  },
  {
   "cell_type": "code",
   "execution_count": 32,
   "metadata": {},
   "outputs": [],
   "source": [
    "model.compile(loss=\"categorical_crossentropy\", optimizer='RMSprop', metrics=['accuracy'])"
   ]
  },
  {
   "cell_type": "code",
   "execution_count": 12,
   "metadata": {},
   "outputs": [],
   "source": [
    "from sklearn.model_selection import train_test_split"
   ]
  },
  {
   "cell_type": "code",
   "execution_count": 13,
   "metadata": {},
   "outputs": [],
   "source": [
    "x_train, x_test, y_train, y_test = train_test_split(X, Y, test_size=0.3, random_state = 9487)"
   ]
  },
  {
   "cell_type": "code",
   "execution_count": 35,
   "metadata": {
    "scrolled": true
   },
   "outputs": [
    {
     "name": "stdout",
     "output_type": "stream",
     "text": [
      "Epoch 1/50\n",
      "9200/9200 [==============================] - 10s 1ms/step - loss: 1.0954 - acc: 0.3683\n",
      "Epoch 2/50\n",
      "9200/9200 [==============================] - 6s 674us/step - loss: 1.0935 - acc: 0.3687\n",
      "Epoch 3/50\n",
      "9200/9200 [==============================] - 6s 671us/step - loss: 1.0925 - acc: 0.3655\n",
      "Epoch 4/50\n",
      "9200/9200 [==============================] - 6s 678us/step - loss: 1.0923 - acc: 0.3652\n",
      "Epoch 5/50\n",
      "9200/9200 [==============================] - 6s 676us/step - loss: 1.0920 - acc: 0.3678\n",
      "Epoch 6/50\n",
      "9200/9200 [==============================] - 6s 671us/step - loss: 1.0918 - acc: 0.3674 0s - loss: 1.0917 -\n",
      "Epoch 7/50\n",
      "9200/9200 [==============================] - 6s 677us/step - loss: 1.0912 - acc: 0.3730 0s - loss: 1.0910 - a\n",
      "Epoch 8/50\n",
      "9200/9200 [==============================] - 6s 674us/step - loss: 1.0921 - acc: 0.3709\n",
      "Epoch 9/50\n",
      "9200/9200 [==============================] - 6s 671us/step - loss: 1.0913 - acc: 0.3711\n",
      "Epoch 10/50\n",
      "9200/9200 [==============================] - 6s 673us/step - loss: 1.0910 - acc: 0.3700\n",
      "Epoch 11/50\n",
      "9200/9200 [==============================] - 6s 677us/step - loss: 1.0909 - acc: 0.3698\n",
      "Epoch 12/50\n",
      "9200/9200 [==============================] - 6s 675us/step - loss: 1.0913 - acc: 0.3764\n",
      "Epoch 13/50\n",
      "9200/9200 [==============================] - 6s 677us/step - loss: 1.0901 - acc: 0.3702\n",
      "Epoch 14/50\n",
      "9200/9200 [==============================] - 6s 680us/step - loss: 1.0904 - acc: 0.3762\n",
      "Epoch 15/50\n",
      "9200/9200 [==============================] - 6s 675us/step - loss: 1.0896 - acc: 0.3739\n",
      "Epoch 16/50\n",
      "9200/9200 [==============================] - 6s 675us/step - loss: 1.0891 - acc: 0.3704\n",
      "Epoch 17/50\n",
      "9200/9200 [==============================] - 6s 673us/step - loss: 1.0892 - acc: 0.3738\n",
      "Epoch 18/50\n",
      "9200/9200 [==============================] - 6s 672us/step - loss: 1.0894 - acc: 0.3734\n",
      "Epoch 19/50\n",
      "9200/9200 [==============================] - 6s 671us/step - loss: 1.0890 - acc: 0.3779\n",
      "Epoch 20/50\n",
      "9200/9200 [==============================] - 6s 665us/step - loss: 1.0887 - acc: 0.3749\n",
      "Epoch 21/50\n",
      "9200/9200 [==============================] - 6s 666us/step - loss: 1.0883 - acc: 0.3728\n",
      "Epoch 22/50\n",
      "9200/9200 [==============================] - 6s 663us/step - loss: 1.0889 - acc: 0.3737\n",
      "Epoch 23/50\n",
      "9200/9200 [==============================] - 6s 662us/step - loss: 1.0886 - acc: 0.3746\n",
      "Epoch 24/50\n",
      "9200/9200 [==============================] - 6s 687us/step - loss: 1.0876 - acc: 0.3765\n",
      "Epoch 25/50\n",
      "9200/9200 [==============================] - 6s 659us/step - loss: 1.0882 - acc: 0.3711\n",
      "Epoch 26/50\n",
      "9200/9200 [==============================] - 6s 676us/step - loss: 1.0874 - acc: 0.3733\n",
      "Epoch 27/50\n",
      "9200/9200 [==============================] - 6s 674us/step - loss: 1.0874 - acc: 0.3752\n",
      "Epoch 28/50\n",
      "9200/9200 [==============================] - 6s 667us/step - loss: 1.0876 - acc: 0.3716\n",
      "Epoch 29/50\n",
      "9200/9200 [==============================] - 6s 673us/step - loss: 1.0869 - acc: 0.3729\n",
      "Epoch 30/50\n",
      "9200/9200 [==============================] - 6s 670us/step - loss: 1.0871 - acc: 0.3776\n",
      "Epoch 31/50\n",
      "9200/9200 [==============================] - 6s 670us/step - loss: 1.0876 - acc: 0.3736\n",
      "Epoch 32/50\n",
      "9200/9200 [==============================] - 6s 660us/step - loss: 1.0870 - acc: 0.3765\n",
      "Epoch 33/50\n",
      "9200/9200 [==============================] - 6s 668us/step - loss: 1.0859 - acc: 0.3729\n",
      "Epoch 34/50\n",
      "9200/9200 [==============================] - 6s 663us/step - loss: 1.0866 - acc: 0.3710\n",
      "Epoch 35/50\n",
      "9200/9200 [==============================] - 6s 657us/step - loss: 1.0873 - acc: 0.3757\n",
      "Epoch 36/50\n",
      "9200/9200 [==============================] - 6s 658us/step - loss: 1.0867 - acc: 0.3757\n",
      "Epoch 37/50\n",
      "9200/9200 [==============================] - 6s 658us/step - loss: 1.0872 - acc: 0.3728 4\n",
      "Epoch 38/50\n",
      "9200/9200 [==============================] - 6s 654us/step - loss: 1.0862 - acc: 0.3790\n",
      "Epoch 39/50\n",
      "9200/9200 [==============================] - 6s 649us/step - loss: 1.0857 - acc: 0.3762 4s -  - ETA:  - ETA: 1s - los\n",
      "Epoch 40/50\n",
      "9200/9200 [==============================] - 6s 655us/step - loss: 1.0859 - acc: 0.3787\n",
      "Epoch 41/50\n",
      "9200/9200 [==============================] - 6s 655us/step - loss: 1.0866 - acc: 0.3726\n",
      "Epoch 42/50\n",
      "9200/9200 [==============================] - 6s 654us/step - loss: 1.0855 - acc: 0.3739\n",
      "Epoch 43/50\n",
      "9200/9200 [==============================] - 6s 659us/step - loss: 1.0851 - acc: 0.3765\n",
      "Epoch 44/50\n",
      "9200/9200 [==============================] - 6s 657us/step - loss: 1.0860 - acc: 0.3782 0s - loss: 1.0860 - \n",
      "Epoch 45/50\n",
      "9200/9200 [==============================] - 6s 658us/step - loss: 1.0859 - acc: 0.3774 1s - loss\n",
      "Epoch 46/50\n",
      "9200/9200 [==============================] - 6s 655us/step - loss: 1.0859 - acc: 0.3733\n",
      "Epoch 47/50\n",
      "9200/9200 [==============================] - 6s 649us/step - loss: 1.0861 - acc: 0.3765\n",
      "Epoch 48/50\n",
      "9200/9200 [==============================] - 6s 657us/step - loss: 1.0857 - acc: 0.3726\n",
      "Epoch 49/50\n",
      "9200/9200 [==============================] - 6s 652us/step - loss: 1.0857 - acc: 0.3792\n",
      "Epoch 50/50\n",
      "9200/9200 [==============================] - 6s 649us/step - loss: 1.0846 - acc: 0.3773 0s - loss: 1.0841 - acc: 0 - ETA: 0s - loss: 1.0840 - acc: 0.378 - ETA: 0s - loss: 1.0840 - acc: 0 - ETA: 0s - loss: 1.0847 - acc: 0.37\n"
     ]
    },
    {
     "data": {
      "text/plain": [
       "<keras.callbacks.History at 0xa65a12e668>"
      ]
     },
     "execution_count": 35,
     "metadata": {},
     "output_type": "execute_result"
    }
   ],
   "source": [
    "model.fit(x_train, y_train, epochs=50)"
   ]
  },
  {
   "cell_type": "code",
   "execution_count": 36,
   "metadata": {},
   "outputs": [
    {
     "name": "stdout",
     "output_type": "stream",
     "text": [
      "3944/3944 [==============================] - 1s 174us/step\n"
     ]
    },
    {
     "data": {
      "text/plain": [
       "[1.0877780174386913, 0.38336713995943206]"
      ]
     },
     "execution_count": 36,
     "metadata": {},
     "output_type": "execute_result"
    }
   ],
   "source": [
    "model.evaluate(x_test, y_test)"
   ]
  },
  {
   "cell_type": "code",
   "execution_count": 37,
   "metadata": {
    "scrolled": true
   },
   "outputs": [
    {
     "data": {
      "text/plain": [
       "array([[0.30335853, 0.33117032, 0.36547115],\n",
       "       [0.34851152, 0.4745044 , 0.17698404],\n",
       "       [0.34723076, 0.33846673, 0.31430247],\n",
       "       ...,\n",
       "       [0.3252829 , 0.3160709 , 0.35864618],\n",
       "       [0.33170927, 0.3453784 , 0.3229123 ],\n",
       "       [0.32153714, 0.3211075 , 0.35735542]], dtype=float32)"
      ]
     },
     "execution_count": 37,
     "metadata": {},
     "output_type": "execute_result"
    }
   ],
   "source": [
    "model.predict(x_test)"
   ]
  },
  {
   "cell_type": "code",
   "execution_count": 38,
   "metadata": {
    "scrolled": true
   },
   "outputs": [
    {
     "data": {
      "text/plain": [
       "array([2, 1, 0, ..., 2, 1, 2], dtype=int64)"
      ]
     },
     "execution_count": 38,
     "metadata": {},
     "output_type": "execute_result"
    }
   ],
   "source": [
    "predict = model.predict(x_test)\n",
    "np.argmax(predict,axis=1)"
   ]
  },
  {
   "cell_type": "code",
   "execution_count": 44,
   "metadata": {},
   "outputs": [
    {
     "data": {
      "text/plain": [
       "array([[0., 1., 0.],\n",
       "       [1., 0., 0.],\n",
       "       [0., 1., 0.],\n",
       "       ...,\n",
       "       [0., 0., 1.],\n",
       "       [0., 0., 1.],\n",
       "       [0., 1., 0.]], dtype=float32)"
      ]
     },
     "execution_count": 44,
     "metadata": {},
     "output_type": "execute_result"
    }
   ],
   "source": [
    "y_test"
   ]
  },
  {
   "cell_type": "code",
   "execution_count": 39,
   "metadata": {},
   "outputs": [],
   "source": [
    "from sklearn.metrics import confusion_matrix"
   ]
  },
  {
   "cell_type": "code",
   "execution_count": 45,
   "metadata": {},
   "outputs": [
    {
     "data": {
      "text/plain": [
       "array([[760, 402, 350],\n",
       "       [583, 354, 314],\n",
       "       [486, 297, 398]], dtype=int64)"
      ]
     },
     "execution_count": 45,
     "metadata": {},
     "output_type": "execute_result"
    }
   ],
   "source": [
    "confusion_matrix(np.argmax(y_test,axis=1), np.argmax(predict,axis=1))"
   ]
  },
  {
   "cell_type": "code",
   "execution_count": null,
   "metadata": {},
   "outputs": [],
   "source": [
    "df.head()"
   ]
  },
  {
   "cell_type": "code",
   "execution_count": null,
   "metadata": {},
   "outputs": [],
   "source": [
    "plt.figure(figsize=(20, 20))\n",
    "\n",
    "plt.plot(df.收盤價, '-')\n",
    "plt.plot(model.predict(X), '-')\n",
    "\n",
    "plt.show()"
   ]
  },
  {
   "cell_type": "code",
   "execution_count": null,
   "metadata": {},
   "outputs": [],
   "source": []
  }
 ],
 "metadata": {
  "kernelspec": {
   "display_name": "Python 3",
   "language": "python",
   "name": "python3"
  },
  "language_info": {
   "codemirror_mode": {
    "name": "ipython",
    "version": 3
   },
   "file_extension": ".py",
   "mimetype": "text/x-python",
   "name": "python",
   "nbconvert_exporter": "python",
   "pygments_lexer": "ipython3",
   "version": "3.6.5"
  }
 },
 "nbformat": 4,
 "nbformat_minor": 2
}
