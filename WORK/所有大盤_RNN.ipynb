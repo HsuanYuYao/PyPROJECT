{
 "cells": [
  {
   "cell_type": "code",
   "execution_count": 647,
   "metadata": {
    "collapsed": true
   },
   "outputs": [],
   "source": [
    "%matplotlib inline\n",
    "\n",
    "import pandas as pd\n",
    "import numpy as np\n",
    "import matplotlib.pyplot as plt\n",
    "from datetime import datetime"
   ]
  },
  {
   "cell_type": "code",
   "execution_count": 648,
   "metadata": {},
   "outputs": [
    {
     "name": "stdout",
     "output_type": "stream",
     "text": [
      "env: KERAS_BACKEND=tensorflow\n"
     ]
    }
   ],
   "source": [
    "%env KERAS_BACKEND = tensorflow\n",
    "\n",
    "from keras.models import Model\n",
    "from keras.layers import Input\n",
    "from keras.layers import Dense, Activation, Flatten\n",
    "from keras.layers import LSTM\n",
    "from keras.layers import Dropout\n",
    "from keras.utils import np_utils\n",
    "from sklearn.model_selection import train_test_split\n",
    "from keras.layers import concatenate\n"
   ]
  },
  {
   "cell_type": "code",
   "execution_count": 649,
   "metadata": {},
   "outputs": [
    {
     "data": {
      "text/html": [
       "<div>\n",
       "<style scoped>\n",
       "    .dataframe tbody tr th:only-of-type {\n",
       "        vertical-align: middle;\n",
       "    }\n",
       "\n",
       "    .dataframe tbody tr th {\n",
       "        vertical-align: top;\n",
       "    }\n",
       "\n",
       "    .dataframe thead th {\n",
       "        text-align: right;\n",
       "    }\n",
       "</style>\n",
       "<table border=\"1\" class=\"dataframe\">\n",
       "  <thead>\n",
       "    <tr style=\"text-align: right;\">\n",
       "      <th></th>\n",
       "      <th>日期</th>\n",
       "      <th>智利</th>\n",
       "      <th>英國</th>\n",
       "      <th>德國</th>\n",
       "      <th>香港恆生</th>\n",
       "      <th>印度</th>\n",
       "      <th>台灣</th>\n",
       "      <th>漲跌平</th>\n",
       "    </tr>\n",
       "  </thead>\n",
       "  <tbody>\n",
       "    <tr>\n",
       "      <th>0</th>\n",
       "      <td>1997-01-04</td>\n",
       "      <td>929.57</td>\n",
       "      <td>4089.5</td>\n",
       "      <td>2859.28</td>\n",
       "      <td>13222.79</td>\n",
       "      <td>3264.00</td>\n",
       "      <td>6820.35</td>\n",
       "      <td>-1</td>\n",
       "    </tr>\n",
       "    <tr>\n",
       "      <th>1</th>\n",
       "      <td>1997-01-06</td>\n",
       "      <td>952.55</td>\n",
       "      <td>4106.5</td>\n",
       "      <td>2881.32</td>\n",
       "      <td>13443.93</td>\n",
       "      <td>3252.31</td>\n",
       "      <td>6844.75</td>\n",
       "      <td>0</td>\n",
       "    </tr>\n",
       "    <tr>\n",
       "      <th>2</th>\n",
       "      <td>1997-01-07</td>\n",
       "      <td>966.00</td>\n",
       "      <td>4078.8</td>\n",
       "      <td>2886.13</td>\n",
       "      <td>13420.16</td>\n",
       "      <td>3264.12</td>\n",
       "      <td>6875.02</td>\n",
       "      <td>0</td>\n",
       "    </tr>\n",
       "    <tr>\n",
       "      <th>3</th>\n",
       "      <td>1997-01-08</td>\n",
       "      <td>982.01</td>\n",
       "      <td>4087.5</td>\n",
       "      <td>2906.34</td>\n",
       "      <td>13454.93</td>\n",
       "      <td>3288.88</td>\n",
       "      <td>7019.43</td>\n",
       "      <td>1</td>\n",
       "    </tr>\n",
       "    <tr>\n",
       "      <th>4</th>\n",
       "      <td>1997-01-09</td>\n",
       "      <td>973.31</td>\n",
       "      <td>4087.0</td>\n",
       "      <td>2892.63</td>\n",
       "      <td>13198.11</td>\n",
       "      <td>3362.39</td>\n",
       "      <td>7010.76</td>\n",
       "      <td>0</td>\n",
       "    </tr>\n",
       "  </tbody>\n",
       "</table>\n",
       "</div>"
      ],
      "text/plain": [
       "          日期      智利      英國       德國      香港恆生       印度       台灣  漲跌平\n",
       "0 1997-01-04  929.57  4089.5  2859.28  13222.79  3264.00  6820.35   -1\n",
       "1 1997-01-06  952.55  4106.5  2881.32  13443.93  3252.31  6844.75    0\n",
       "2 1997-01-07  966.00  4078.8  2886.13  13420.16  3264.12  6875.02    0\n",
       "3 1997-01-08  982.01  4087.5  2906.34  13454.93  3288.88  7019.43    1\n",
       "4 1997-01-09  973.31  4087.0  2892.63  13198.11  3362.39  7010.76    0"
      ]
     },
     "execution_count": 649,
     "metadata": {},
     "output_type": "execute_result"
    }
   ],
   "source": [
    "df=pd.read_excel(\"全球.xlsx\",header=0)\n",
    "df.head()"
   ]
  },
  {
   "cell_type": "code",
   "execution_count": 650,
   "metadata": {},
   "outputs": [
    {
     "data": {
      "text/plain": [
       "5637"
      ]
     },
     "execution_count": 650,
     "metadata": {},
     "output_type": "execute_result"
    }
   ],
   "source": [
    "len(df)"
   ]
  },
  {
   "cell_type": "code",
   "execution_count": 651,
   "metadata": {},
   "outputs": [
    {
     "data": {
      "text/html": [
       "<div>\n",
       "<style scoped>\n",
       "    .dataframe tbody tr th:only-of-type {\n",
       "        vertical-align: middle;\n",
       "    }\n",
       "\n",
       "    .dataframe tbody tr th {\n",
       "        vertical-align: top;\n",
       "    }\n",
       "\n",
       "    .dataframe thead th {\n",
       "        text-align: right;\n",
       "    }\n",
       "</style>\n",
       "<table border=\"1\" class=\"dataframe\">\n",
       "  <thead>\n",
       "    <tr style=\"text-align: right;\">\n",
       "      <th></th>\n",
       "      <th>智利</th>\n",
       "      <th>英國</th>\n",
       "      <th>德國</th>\n",
       "      <th>香港恆生</th>\n",
       "      <th>印度</th>\n",
       "      <th>台灣</th>\n",
       "    </tr>\n",
       "  </thead>\n",
       "  <tbody>\n",
       "    <tr>\n",
       "      <th>0</th>\n",
       "      <td>929.57</td>\n",
       "      <td>4089.5</td>\n",
       "      <td>2859.28</td>\n",
       "      <td>13222.79</td>\n",
       "      <td>3264.00</td>\n",
       "      <td>6820.35</td>\n",
       "    </tr>\n",
       "    <tr>\n",
       "      <th>1</th>\n",
       "      <td>952.55</td>\n",
       "      <td>4106.5</td>\n",
       "      <td>2881.32</td>\n",
       "      <td>13443.93</td>\n",
       "      <td>3252.31</td>\n",
       "      <td>6844.75</td>\n",
       "    </tr>\n",
       "    <tr>\n",
       "      <th>2</th>\n",
       "      <td>966.00</td>\n",
       "      <td>4078.8</td>\n",
       "      <td>2886.13</td>\n",
       "      <td>13420.16</td>\n",
       "      <td>3264.12</td>\n",
       "      <td>6875.02</td>\n",
       "    </tr>\n",
       "    <tr>\n",
       "      <th>3</th>\n",
       "      <td>982.01</td>\n",
       "      <td>4087.5</td>\n",
       "      <td>2906.34</td>\n",
       "      <td>13454.93</td>\n",
       "      <td>3288.88</td>\n",
       "      <td>7019.43</td>\n",
       "    </tr>\n",
       "    <tr>\n",
       "      <th>4</th>\n",
       "      <td>973.31</td>\n",
       "      <td>4087.0</td>\n",
       "      <td>2892.63</td>\n",
       "      <td>13198.11</td>\n",
       "      <td>3362.39</td>\n",
       "      <td>7010.76</td>\n",
       "    </tr>\n",
       "  </tbody>\n",
       "</table>\n",
       "</div>"
      ],
      "text/plain": [
       "       智利      英國       德國      香港恆生       印度       台灣\n",
       "0  929.57  4089.5  2859.28  13222.79  3264.00  6820.35\n",
       "1  952.55  4106.5  2881.32  13443.93  3252.31  6844.75\n",
       "2  966.00  4078.8  2886.13  13420.16  3264.12  6875.02\n",
       "3  982.01  4087.5  2906.34  13454.93  3288.88  7019.43\n",
       "4  973.31  4087.0  2892.63  13198.11  3362.39  7010.76"
      ]
     },
     "execution_count": 651,
     "metadata": {},
     "output_type": "execute_result"
    }
   ],
   "source": [
    "#讀入標準化過後的資料\n",
    "x1=df[['智利','英國','德國','香港恆生','印度','台灣']]\n",
    "y1=df[['漲跌平']]\n",
    "x1.head()"
   ]
  },
  {
   "cell_type": "code",
   "execution_count": 652,
   "metadata": {},
   "outputs": [],
   "source": [
    "n = 3\n",
    "a=np.array(df[['智利']])\n",
    "b=np.array(df[['英國']])\n",
    "c=np.array(df[['德國']])\n",
    "d=np.array(df[['香港恆生']])\n",
    "e=np.array(df[['印度']])\n",
    "f=np.array(df[['台灣']])\n",
    "y2 =np.array(df[['漲跌平']])\n",
    "\n",
    "\n",
    "df\n",
    "for i in range(len(a)):\n",
    "    a[i] = (a[i] - a.min())/(a.max() - a.min())\n",
    "    b[i] = (b[i] - b.min())/(b.max() - b.min())\n",
    "    c[i] = (c[i] - c.min())/(c.max() - c.min())\n",
    "    d[i] = (d[i] - d.min())/(d.max() - d.min())\n",
    "    e[i] = (e[i] - e.min())/(e.max() - e.min())\n",
    "    f[i] = (f[i] - f.min())/(f.max() - f.min())\n",
    "\n",
    "an = 5637\n"
   ]
  },
  {
   "cell_type": "code",
   "execution_count": 653,
   "metadata": {},
   "outputs": [
    {
     "name": "stdout",
     "output_type": "stream",
     "text": [
      "[[0.18026149]\n",
      " [0.17260725]\n",
      " [0.21384765]\n",
      " ...\n",
      " [0.20169201]\n",
      " [0.16681683]\n",
      " [0.47473638]]\n",
      "(1, 1128, 1)\n"
     ]
    }
   ],
   "source": [
    "a_train, a_test, y_train, y_test = train_test_split(a, y2, test_size=0.2, random_state = 1234)\n",
    "b_train, b_test, y_train, y_test = train_test_split(b, y2, test_size=0.2, random_state = 1234)\n",
    "c_train, c_test, y_train, y_test = train_test_split(c, y2, test_size=0.2, random_state = 1234)\n",
    "d_train, d_test, y_train, y_test = train_test_split(d, y2, test_size=0.2, random_state = 1234)\n",
    "e_train, e_test, y_train, y_test = train_test_split(e, y2, test_size=0.2, random_state = 1234)\n",
    "f_train, f_test, y_train, y_test = train_test_split(e, y2, test_size=0.2, random_state = 1234)\n",
    "print(a_train)\n",
    "\n",
    "a_train=a_train.reshape(1,4509,)\n",
    "b_train=b_train.reshape(1,4509,1)\n",
    "c_train=c_train.reshape(1,4509,1)\n",
    "d_train=d_train.reshape(1,4509,1)\n",
    "e_train=e_train.reshape(1,4509,1)\n",
    "f_train=f_train.reshape(1,4509,1)\n",
    "y_train=y_train.reshape(1,4509,1)\n",
    "\n",
    "\n",
    "a_test=a_test.reshape(1,1128,1)\n",
    "b_test=b_test.reshape(1,1128,1)\n",
    "c_test=c_test.reshape(1,1128,1)\n",
    "d_test=d_test.reshape(1,1128,1)\n",
    "f_test=f_test.reshape(1,1128,1)\n",
    "y_test=y_test.reshape(1,1128,1)\n",
    "print(a_test.shape)"
   ]
  },
  {
   "cell_type": "code",
   "execution_count": 654,
   "metadata": {},
   "outputs": [],
   "source": [
    "y_train = np_utils.to_categorical(y_train,10)\n",
    "y_test = np_utils.to_categorical(y_test,10)\n"
   ]
  },
  {
   "cell_type": "code",
   "execution_count": 655,
   "metadata": {},
   "outputs": [
    {
     "name": "stdout",
     "output_type": "stream",
     "text": [
      "__________________________________________________________________________________________________\n",
      "Layer (type)                    Output Shape         Param #     Connected to                     \n",
      "==================================================================================================\n",
      "input_768 (InputLayer)          (None, 4509, 1)      0                                            \n",
      "__________________________________________________________________________________________________\n",
      "input_769 (InputLayer)          (None, 4509, 1)      0                                            \n",
      "__________________________________________________________________________________________________\n",
      "input_770 (InputLayer)          (None, 4509, 1)      0                                            \n",
      "__________________________________________________________________________________________________\n",
      "input_771 (InputLayer)          (None, 4509, 1)      0                                            \n",
      "__________________________________________________________________________________________________\n",
      "input_772 (InputLayer)          (None, 4509, 1)      0                                            \n",
      "__________________________________________________________________________________________________\n",
      "input_773 (InputLayer)          (None, 4509, 1)      0                                            \n",
      "__________________________________________________________________________________________________\n",
      "dense_1267 (Dense)              (None, 4509, 10)     20          input_768[0][0]                  \n",
      "__________________________________________________________________________________________________\n",
      "dense_1268 (Dense)              (None, 4509, 100)    200         input_769[0][0]                  \n",
      "__________________________________________________________________________________________________\n",
      "dense_1269 (Dense)              (None, 4509, 100)    200         input_770[0][0]                  \n",
      "__________________________________________________________________________________________________\n",
      "dense_1270 (Dense)              (None, 4509, 100)    200         input_771[0][0]                  \n",
      "__________________________________________________________________________________________________\n",
      "dense_1271 (Dense)              (None, 4509, 100)    200         input_772[0][0]                  \n",
      "__________________________________________________________________________________________________\n",
      "dense_1272 (Dense)              (None, 4509, 100)    200         input_773[0][0]                  \n",
      "__________________________________________________________________________________________________\n",
      "concatenate_300 (Concatenate)   (None, 4509, 510)    0           dense_1267[0][0]                 \n",
      "                                                                 dense_1268[0][0]                 \n",
      "                                                                 dense_1269[0][0]                 \n",
      "                                                                 dense_1270[0][0]                 \n",
      "                                                                 dense_1271[0][0]                 \n",
      "                                                                 dense_1272[0][0]                 \n",
      "__________________________________________________________________________________________________\n",
      "lstm_353 (LSTM)                 (None, 4509, 25)     53600       concatenate_300[0][0]            \n",
      "__________________________________________________________________________________________________\n",
      "dropout_159 (Dropout)           (None, 4509, 25)     0           lstm_353[0][0]                   \n",
      "__________________________________________________________________________________________________\n",
      "dense_1273 (Dense)              (None, 4509, 40)     1040        dropout_159[0][0]                \n",
      "__________________________________________________________________________________________________\n",
      "dense_1274 (Dense)              (None, 4509, 10)     410         dense_1273[0][0]                 \n",
      "__________________________________________________________________________________________________\n",
      "lstm_354 (LSTM)                 (None, 4509, 25)     3600        dense_1274[0][0]                 \n",
      "__________________________________________________________________________________________________\n",
      "dense_1275 (Dense)              (None, 4509, 10)     260         lstm_354[0][0]                   \n",
      "==================================================================================================\n",
      "Total params: 59,930\n",
      "Trainable params: 59,930\n",
      "Non-trainable params: 0\n",
      "__________________________________________________________________________________________________\n"
     ]
    }
   ],
   "source": [
    "f1 = Dense(10, activation='selu')\n",
    "g1 = Dense(100, activation='selu')\n",
    "j1 = Dense(100, activation='selu')\n",
    "k1 = Dense(100, activation='selu')\n",
    "m1 = Dense(100, activation='selu')\n",
    "r1 = Dense(100, activation='selu')\n",
    "f2 = LSTM(25, return_sequences=True)\n",
    "f3 = Dropout(0.2)\n",
    "f4 = Dense(40, activation='relu')\n",
    "f5 = Dense(10, activation='softmax')\n",
    "f7 = Dense(10, activation=\"relu\")\n",
    "f6 = LSTM(25, return_sequences=True)\n",
    "f8 = Flatten()\n",
    "\n",
    "\n",
    "a0 = Input(shape=(4509,1))\n",
    "b0 = Input(shape=(4509,1))\n",
    "c0 = Input(shape=(4509,1))\n",
    "d0 = Input(shape=(4509,1))\n",
    "e0 = Input(shape=(4509,1))\n",
    "ff0 = Input(shape=(4509,1))\n",
    "\n",
    "a1 = f1(a0)\n",
    "b1 = g1(b0)\n",
    "c1 = j1(c0)\n",
    "d1 = k1(d0)\n",
    "e1 = m1(e0)\n",
    "ff1 = r1(ff0)\n",
    "\n",
    "u1 = concatenate([a1,b1,c1,d1,e1,ff1])\n",
    "all_1 = f2(u1)\n",
    "all_2 = f3(all_1)\n",
    "all_3 = f4(all_2)\n",
    "all_4 = f5(all_3)\n",
    "all_5  = f6(all_4)\n",
    "y0  = f7(all_5)\n",
    "\n",
    "\n",
    "\n",
    "model = Model([a0,b0,c0,d0,e0,ff0], y0)\n",
    "model.summary()"
   ]
  },
  {
   "cell_type": "markdown",
   "metadata": {},
   "source": [
    "# 所有資料一起跑"
   ]
  },
  {
   "cell_type": "code",
   "execution_count": 625,
   "metadata": {},
   "outputs": [
    {
     "name": "stdout",
     "output_type": "stream",
     "text": [
      "Epoch 1/10\n",
      "1/1 [==============================] - 35s 35s/step - loss: 1.1295 - acc: 0.3045\n",
      "Epoch 2/10\n",
      "1/1 [==============================] - 11s 11s/step - loss: 1.1171 - acc: 0.3140\n",
      "Epoch 3/10\n",
      "1/1 [==============================] - 12s 12s/step - loss: 1.0981 - acc: 0.3877\n",
      "Epoch 4/10\n",
      "1/1 [==============================] - 12s 12s/step - loss: 1.0916 - acc: 0.3961\n",
      "Epoch 5/10\n",
      "1/1 [==============================] - 11s 11s/step - loss: 1.0981 - acc: 0.3961\n",
      "Epoch 6/10\n",
      "1/1 [==============================] - 11s 11s/step - loss: 1.1030 - acc: 0.3959\n",
      "Epoch 7/10\n",
      "1/1 [==============================] - 12s 12s/step - loss: 1.1004 - acc: 0.3968\n",
      "Epoch 8/10\n",
      "1/1 [==============================] - 11s 11s/step - loss: 1.0944 - acc: 0.3968\n",
      "Epoch 9/10\n",
      "1/1 [==============================] - 12s 12s/step - loss: 1.0916 - acc: 0.3961\n",
      "Epoch 10/10\n",
      "1/1 [==============================] - 11s 11s/step - loss: 1.0905 - acc: 0.3961\n"
     ]
    },
    {
     "data": {
      "text/plain": [
       "<keras.callbacks.History at 0xa847ec55c0>"
      ]
     },
     "execution_count": 625,
     "metadata": {},
     "output_type": "execute_result"
    }
   ],
   "source": [
    "model.compile(loss='categorical_crossentropy',optimizer=\"adam\",metrics=['acc'])\n",
    "model.fit([a_train,b_train,c_train,d_train,e_train,f_train], y_train,batch_size=100,epochs=10)"
   ]
  },
  {
   "cell_type": "markdown",
   "metadata": {},
   "source": [
    "# 只用智利大盤和台指來跑"
   ]
  },
  {
   "cell_type": "code",
   "execution_count": 621,
   "metadata": {},
   "outputs": [
    {
     "name": "stdout",
     "output_type": "stream",
     "text": [
      "Epoch 1/10\n",
      "1/1 [==============================] - 27s 27s/step - loss: 2.3020 - acc: 0.0000e+00\n",
      "Epoch 2/10\n",
      "1/1 [==============================] - 8s 8s/step - loss: 2.2982 - acc: 0.0000e+00\n",
      "Epoch 3/10\n",
      "1/1 [==============================] - 8s 8s/step - loss: 2.2943 - acc: 4.4356e-04\n",
      "Epoch 4/10\n",
      "1/1 [==============================] - 8s 8s/step - loss: 2.2904 - acc: 0.3957\n",
      "Epoch 5/10\n",
      "1/1 [==============================] - 8s 8s/step - loss: 2.2865 - acc: 0.3959\n",
      "Epoch 6/10\n",
      "1/1 [==============================] - 8s 8s/step - loss: 2.2824 - acc: 0.3961\n",
      "Epoch 7/10\n",
      "1/1 [==============================] - 8s 8s/step - loss: 2.2783 - acc: 0.3961\n",
      "Epoch 8/10\n",
      "1/1 [==============================] - 8s 8s/step - loss: 2.2740 - acc: 0.3961\n",
      "Epoch 9/10\n",
      "1/1 [==============================] - 8s 8s/step - loss: 2.2695 - acc: 0.3961\n",
      "Epoch 10/10\n",
      "1/1 [==============================] - 8s 8s/step - loss: 2.2649 - acc: 0.3961\n"
     ]
    },
    {
     "data": {
      "text/plain": [
       "<keras.callbacks.History at 0xa84e762b38>"
      ]
     },
     "execution_count": 621,
     "metadata": {},
     "output_type": "execute_result"
    }
   ],
   "source": [
    "model.compile(loss='categorical_crossentropy',optimizer=\"adam\",metrics=['acc'])\n",
    "model.fit([a_train,f_train], y_train,batch_size=100,epochs=10)"
   ]
  }
 ],
 "metadata": {
  "kernelspec": {
   "display_name": "Python 3",
   "language": "python",
   "name": "python3"
  },
  "language_info": {
   "codemirror_mode": {
    "name": "ipython",
    "version": 3
   },
   "file_extension": ".py",
   "mimetype": "text/x-python",
   "name": "python",
   "nbconvert_exporter": "python",
   "pygments_lexer": "ipython3",
   "version": "3.6.5"
  }
 },
 "nbformat": 4,
 "nbformat_minor": 2
}
