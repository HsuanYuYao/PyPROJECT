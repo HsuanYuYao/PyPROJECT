{
 "cells": [
  {
   "cell_type": "markdown",
   "metadata": {},
   "source": [
    "# 利用RNN從前十日收盤價預測股價漲跌平"
   ]
  },
  {
   "cell_type": "code",
   "execution_count": 1,
   "metadata": {},
   "outputs": [],
   "source": [
    "%matplotlib inline\n",
    "\n",
    "import pandas as pd\n",
    "import numpy as np\n",
    "import matplotlib.pyplot as plt"
   ]
  },
  {
   "cell_type": "code",
   "execution_count": 2,
   "metadata": {},
   "outputs": [
    {
     "name": "stdout",
     "output_type": "stream",
     "text": [
      "env: KERAS_BACKEND=tensorflow\n"
     ]
    },
    {
     "name": "stderr",
     "output_type": "stream",
     "text": [
      "Using TensorFlow backend.\n"
     ]
    }
   ],
   "source": [
    "%env KERAS_BACKEND = tensorflow\n",
    "\n",
    "from keras.models import Model\n",
    "from keras.layers import Input\n",
    "from keras.layers import Dense\n",
    "from keras.layers import LSTM\n",
    "from keras.layers import Dropout\n",
    "from keras.utils import np_utils"
   ]
  },
  {
   "cell_type": "markdown",
   "metadata": {},
   "source": [
    "## 資料處理"
   ]
  },
  {
   "cell_type": "code",
   "execution_count": 3,
   "metadata": {},
   "outputs": [],
   "source": [
    "df=pd.read_excel('大盤指數盤後數據.xlsx',header=0)"
   ]
  },
  {
   "cell_type": "code",
   "execution_count": 4,
   "metadata": {},
   "outputs": [],
   "source": [
    "X = [] # empty list\n",
    "Y = [] # empty list\n",
    "n = 10 # 取前n日收盤價作為input\n",
    "for i in range(len(df.index)-n):\n",
    "    X.append(list(df.loc[i:i+(n-1)]['收盤價']))\n",
    "    Y.append(df.漲跌平[i+n])"
   ]
  },
  {
   "cell_type": "code",
   "execution_count": 5,
   "metadata": {},
   "outputs": [
    {
     "data": {
      "text/plain": [
       "False"
      ]
     },
     "execution_count": 5,
     "metadata": {},
     "output_type": "execute_result"
    }
   ],
   "source": [
    "np.any(np.isnan(df.收盤價))"
   ]
  },
  {
   "cell_type": "code",
   "execution_count": 6,
   "metadata": {},
   "outputs": [],
   "source": [
    "X=np.array(X)\n",
    "X = X.reshape(13144, n, 1)"
   ]
  },
  {
   "cell_type": "code",
   "execution_count": 7,
   "metadata": {},
   "outputs": [],
   "source": [
    "# 標準化\n",
    "for i in range(13144):\n",
    "    X[i] = X[i] - X[i].min()\n",
    "    X[i] = X[i] / X[i].max()"
   ]
  },
  {
   "cell_type": "code",
   "execution_count": 8,
   "metadata": {},
   "outputs": [],
   "source": [
    "# one-hot encoding\n",
    "Y = np_utils.to_categorical(Y, 3)"
   ]
  },
  {
   "cell_type": "code",
   "execution_count": 9,
   "metadata": {
    "scrolled": true
   },
   "outputs": [
    {
     "data": {
      "text/plain": [
       "(13144, 3)"
      ]
     },
     "execution_count": 9,
     "metadata": {},
     "output_type": "execute_result"
    }
   ],
   "source": [
    "Y.shape"
   ]
  },
  {
   "cell_type": "code",
   "execution_count": 10,
   "metadata": {},
   "outputs": [],
   "source": [
    "from sklearn.model_selection import train_test_split"
   ]
  },
  {
   "cell_type": "code",
   "execution_count": 11,
   "metadata": {},
   "outputs": [],
   "source": [
    "# 分割訓練資料和測試資料\n",
    "x_train, x_test, y_train, y_test = train_test_split(X, Y, test_size=0.3, random_state = 9487)"
   ]
  },
  {
   "cell_type": "markdown",
   "metadata": {},
   "source": [
    "## 模型建立"
   ]
  },
  {
   "cell_type": "code",
   "execution_count": 12,
   "metadata": {
    "scrolled": true
   },
   "outputs": [
    {
     "name": "stdout",
     "output_type": "stream",
     "text": [
      "_________________________________________________________________\n",
      "Layer (type)                 Output Shape              Param #   \n",
      "=================================================================\n",
      "input_1 (InputLayer)         (None, 10, 1)             0         \n",
      "_________________________________________________________________\n",
      "lstm_1 (LSTM)                (None, 10, 20)            1760      \n",
      "_________________________________________________________________\n",
      "dropout_1 (Dropout)          (None, 10, 20)            0         \n",
      "_________________________________________________________________\n",
      "lstm_2 (LSTM)                (None, 20)                3280      \n",
      "_________________________________________________________________\n",
      "dropout_2 (Dropout)          (None, 20)                0         \n",
      "_________________________________________________________________\n",
      "dense_1 (Dense)              (None, 3)                 63        \n",
      "=================================================================\n",
      "Total params: 5,103\n",
      "Trainable params: 5,103\n",
      "Non-trainable params: 0\n",
      "_________________________________________________________________\n"
     ]
    }
   ],
   "source": [
    "x = Input(shape=(10, 1))\n",
    "f_1 = LSTM(20, return_sequences=True)\n",
    "f_4 = Dropout(0.3)\n",
    "f_2 = LSTM(20)\n",
    "f_5 = Dropout(0.3)\n",
    "f_3 = Dense(3, activation='softmax')\n",
    "\n",
    "h_1 = f_1(x)\n",
    "z_1 = f_4(h_1)\n",
    "h_2 = f_2(z_1)\n",
    "z_2 = f_5(h_2)\n",
    "y = f_3(z_2)\n",
    "\n",
    "model = Model(x, y)\n",
    "model.summary()"
   ]
  },
  {
   "cell_type": "code",
   "execution_count": 13,
   "metadata": {},
   "outputs": [],
   "source": [
    "model.compile(loss=\"categorical_crossentropy\", optimizer='RMSprop', metrics=['accuracy'])"
   ]
  },
  {
   "cell_type": "code",
   "execution_count": 14,
   "metadata": {
    "scrolled": true
   },
   "outputs": [
    {
     "name": "stdout",
     "output_type": "stream",
     "text": [
      "Epoch 1/50\n",
      "9200/9200 [==============================] - 26s 3ms/step - loss: 1.0954 - acc: 0.3679: 0s - loss: 1.0954 - acc: 0.367\n",
      "Epoch 2/50\n",
      "9200/9200 [==============================] - 15s 2ms/step - loss: 1.0936 - acc: 0.3682\n",
      "Epoch 3/50\n",
      "9200/9200 [==============================] - ETA: 0s - loss: 1.0937 - acc: 0.369 - 14s 1ms/step - loss: 1.0936 - acc: 0.3700\n",
      "Epoch 4/50\n",
      "9200/9200 [==============================] - 14s 1ms/step - loss: 1.0925 - acc: 0.3705: 0s - loss: 1.0926 \n",
      "Epoch 5/50\n",
      "9200/9200 [==============================] - 14s 2ms/step - loss: 1.0923 - acc: 0.3722\n",
      "Epoch 6/50\n",
      "9200/9200 [==============================] - 14s 2ms/step - loss: 1.0926 - acc: 0.3714: 0s - loss: 1.0923\n",
      "Epoch 7/50\n",
      "9200/9200 [==============================] - 14s 2ms/step - loss: 1.0919 - acc: 0.3682\n",
      "Epoch 8/50\n",
      "9200/9200 [==============================] - 15s 2ms/step - loss: 1.0913 - acc: 0.3700: 0s - loss: 1.09\n",
      "Epoch 9/50\n",
      "9200/9200 [==============================] - 15s 2ms/step - loss: 1.0910 - acc: 0.3739\n",
      "Epoch 10/50\n",
      "9200/9200 [==============================] - 15s 2ms/step - loss: 1.0911 - acc: 0.3743\n",
      "Epoch 11/50\n",
      "9200/9200 [==============================] - 15s 2ms/step - loss: 1.0905 - acc: 0.3775\n",
      "Epoch 12/50\n",
      "9200/9200 [==============================] - 15s 2ms/step - loss: 1.0899 - acc: 0.3723: 0s - loss: 1.0898 - acc: 0.372\n",
      "Epoch 13/50\n",
      "9200/9200 [==============================] - 15s 2ms/step - loss: 1.0902 - acc: 0.3778\n",
      "Epoch 14/50\n",
      "9200/9200 [==============================] - 15s 2ms/step - loss: 1.0900 - acc: 0.3716\n",
      "Epoch 15/50\n",
      "9200/9200 [==============================] - 15s 2ms/step - loss: 1.0894 - acc: 0.3725: 0s - loss: 1.0889 - \n",
      "Epoch 16/50\n",
      "9200/9200 [==============================] - 15s 2ms/step - loss: 1.0893 - acc: 0.3778\n",
      "Epoch 17/50\n",
      "9200/9200 [==============================] - 15s 2ms/step - loss: 1.0889 - acc: 0.3774\n",
      "Epoch 18/50\n",
      "9200/9200 [==============================] - 15s 2ms/step - loss: 1.0883 - acc: 0.3727\n",
      "Epoch 19/50\n",
      "9200/9200 [==============================] - 15s 2ms/step - loss: 1.0889 - acc: 0.3722\n",
      "Epoch 20/50\n",
      "9200/9200 [==============================] - 15s 2ms/step - loss: 1.0882 - acc: 0.3728\n",
      "Epoch 21/50\n",
      "9200/9200 [==============================] - 15s 2ms/step - loss: 1.0886 - acc: 0.3712: 0s - loss: 1.0\n",
      "Epoch 22/50\n",
      "9200/9200 [==============================] - 15s 2ms/step - loss: 1.0870 - acc: 0.3748\n",
      "Epoch 23/50\n",
      "9200/9200 [==============================] - 15s 2ms/step - loss: 1.0881 - acc: 0.3738\n",
      "Epoch 24/50\n",
      "9200/9200 [==============================] - 15s 2ms/step - loss: 1.0876 - acc: 0.3743\n",
      "Epoch 25/50\n",
      "9200/9200 [==============================] - 15s 2ms/step - loss: 1.0871 - acc: 0.3724: 2s - loss: 1.0859 - acc: 0\n",
      "Epoch 26/50\n",
      "9200/9200 [==============================] - 15s 2ms/step - loss: 1.0870 - acc: 0.3689\n",
      "Epoch 27/50\n",
      "9200/9200 [==============================] - 15s 2ms/step - loss: 1.0873 - acc: 0.3749\n",
      "Epoch 28/50\n",
      "9200/9200 [==============================] - 15s 2ms/step - loss: 1.0871 - acc: 0.3736\n",
      "Epoch 29/50\n",
      "9200/9200 [==============================] - 15s 2ms/step - loss: 1.0868 - acc: 0.3728: 2s - loss: 1.0875 - \n",
      "Epoch 30/50\n",
      "9200/9200 [==============================] - 15s 2ms/step - loss: 1.0879 - acc: 0.3774: 0s - loss: 1.0875 - a\n",
      "Epoch 31/50\n",
      "9200/9200 [==============================] - 15s 2ms/step - loss: 1.0878 - acc: 0.3777\n",
      "Epoch 32/50\n",
      "9200/9200 [==============================] - 15s 2ms/step - loss: 1.0868 - acc: 0.3771\n",
      "Epoch 33/50\n",
      "9200/9200 [==============================] - 15s 2ms/step - loss: 1.0865 - acc: 0.3767\n",
      "Epoch 34/50\n",
      "9200/9200 [==============================] - 15s 2ms/step - loss: 1.0855 - acc: 0.3764\n",
      "Epoch 35/50\n",
      "9200/9200 [==============================] - 15s 2ms/step - loss: 1.0864 - acc: 0.3793\n",
      "Epoch 36/50\n",
      "9200/9200 [==============================] - 15s 2ms/step - loss: 1.0870 - acc: 0.3758: 0s - loss: 1.0868 - acc: 0\n",
      "Epoch 37/50\n",
      "9200/9200 [==============================] - 15s 2ms/step - loss: 1.0859 - acc: 0.3737\n",
      "Epoch 38/50\n",
      "9200/9200 [==============================] - 15s 2ms/step - loss: 1.0863 - acc: 0.3693\n",
      "Epoch 39/50\n",
      "9200/9200 [==============================] - 15s 2ms/step - loss: 1.0863 - acc: 0.3762: 0s - loss: 1.08\n",
      "Epoch 40/50\n",
      "9200/9200 [==============================] - 15s 2ms/step - loss: 1.0859 - acc: 0.3763\n",
      "Epoch 41/50\n",
      "9200/9200 [==============================] - 16s 2ms/step - loss: 1.0858 - acc: 0.3765\n",
      "Epoch 42/50\n",
      "9200/9200 [==============================] - 15s 2ms/step - loss: 1.0859 - acc: 0.3766\n",
      "Epoch 44/50\n",
      "9200/9200 [==============================] - 15s 2ms/step - loss: 1.0856 - acc: 0.3768: 5\n",
      "Epoch 45/50\n",
      "9200/9200 [==============================] - 15s 2ms/step - loss: 1.0858 - acc: 0.3693: \n",
      "Epoch 46/50\n",
      "9200/9200 [==============================] - 15s 2ms/step - loss: 1.0851 - acc: 0.3732\n",
      "Epoch 47/50\n",
      "9200/9200 [==============================] - 15s 2ms/step - loss: 1.0862 - acc: 0.3736\n",
      "Epoch 48/50\n",
      "9200/9200 [==============================] - 15s 2ms/step - loss: 1.0855 - acc: 0.3780\n",
      "Epoch 49/50\n",
      "9200/9200 [==============================] - 15s 2ms/step - loss: 1.0846 - acc: 0.3797\n",
      "Epoch 50/50\n",
      "9200/9200 [==============================] - 15s 2ms/step - loss: 1.0849 - acc: 0.3742\n"
     ]
    },
    {
     "data": {
      "text/plain": [
       "<keras.callbacks.History at 0x400a1c2c18>"
      ]
     },
     "execution_count": 14,
     "metadata": {},
     "output_type": "execute_result"
    }
   ],
   "source": [
    "model.fit(x_train, y_train, epochs=50)"
   ]
  },
  {
   "cell_type": "markdown",
   "metadata": {},
   "source": [
    "## 預測結果"
   ]
  },
  {
   "cell_type": "code",
   "execution_count": 15,
   "metadata": {
    "scrolled": true
   },
   "outputs": [
    {
     "name": "stdout",
     "output_type": "stream",
     "text": [
      "3944/3944 [==============================] - 3s 723us/step\n"
     ]
    },
    {
     "data": {
      "text/plain": [
       "[1.086299158013133, 0.39300202839756593]"
      ]
     },
     "execution_count": 15,
     "metadata": {},
     "output_type": "execute_result"
    }
   ],
   "source": [
    "model.evaluate(x_test, y_test)"
   ]
  },
  {
   "cell_type": "code",
   "execution_count": 17,
   "metadata": {},
   "outputs": [
    {
     "name": "stdout",
     "output_type": "stream",
     "text": [
      "3944/3944 [==============================] - 2s 449us/step\n",
      "模型預測正確率為： 0.39300202839756593\n"
     ]
    }
   ],
   "source": [
    "print(\"模型預測正確率為：\", model.evaluate(x_test, y_test)[1])"
   ]
  },
  {
   "cell_type": "code",
   "execution_count": 18,
   "metadata": {
    "scrolled": true
   },
   "outputs": [
    {
     "data": {
      "text/plain": [
       "array([[0.3080585 , 0.32488424, 0.36705726],\n",
       "       [0.370533  , 0.4011104 , 0.22835664],\n",
       "       [0.35183993, 0.32603034, 0.32212967],\n",
       "       ...,\n",
       "       [0.32464436, 0.31218678, 0.36316887],\n",
       "       [0.33332875, 0.33366716, 0.33300406],\n",
       "       [0.33926144, 0.30435088, 0.35638767]], dtype=float32)"
      ]
     },
     "execution_count": 18,
     "metadata": {},
     "output_type": "execute_result"
    }
   ],
   "source": [
    "model.predict(x_test)"
   ]
  },
  {
   "cell_type": "code",
   "execution_count": 19,
   "metadata": {
    "scrolled": true
   },
   "outputs": [
    {
     "data": {
      "text/plain": [
       "array([2, 1, 0, ..., 2, 1, 2], dtype=int64)"
      ]
     },
     "execution_count": 19,
     "metadata": {},
     "output_type": "execute_result"
    }
   ],
   "source": [
    "predict = model.predict(x_test)\n",
    "np.argmax(predict,axis=1)"
   ]
  },
  {
   "cell_type": "code",
   "execution_count": 20,
   "metadata": {},
   "outputs": [
    {
     "data": {
      "text/plain": [
       "array([[0., 1., 0.],\n",
       "       [1., 0., 0.],\n",
       "       [0., 1., 0.],\n",
       "       ...,\n",
       "       [0., 0., 1.],\n",
       "       [0., 0., 1.],\n",
       "       [0., 1., 0.]], dtype=float32)"
      ]
     },
     "execution_count": 20,
     "metadata": {},
     "output_type": "execute_result"
    }
   ],
   "source": [
    "y_test"
   ]
  },
  {
   "cell_type": "code",
   "execution_count": 21,
   "metadata": {},
   "outputs": [],
   "source": [
    "from sklearn.metrics import confusion_matrix"
   ]
  },
  {
   "cell_type": "code",
   "execution_count": 22,
   "metadata": {
    "scrolled": true
   },
   "outputs": [
    {
     "data": {
      "text/plain": [
       "array([[1046,   75,  391],\n",
       "       [ 818,   88,  345],\n",
       "       [ 695,   70,  416]], dtype=int64)"
      ]
     },
     "execution_count": 22,
     "metadata": {},
     "output_type": "execute_result"
    }
   ],
   "source": [
    "confusion_matrix(np.argmax(y_test,axis=1), np.argmax(predict,axis=1))"
   ]
  },
  {
   "cell_type": "markdown",
   "metadata": {},
   "source": [
    "## 與隨機預測比較"
   ]
  },
  {
   "cell_type": "code",
   "execution_count": 23,
   "metadata": {},
   "outputs": [
    {
     "data": {
      "text/plain": [
       "(3944,)"
      ]
     },
     "execution_count": 23,
     "metadata": {},
     "output_type": "execute_result"
    }
   ],
   "source": [
    "np.argmax(y_test,axis=1).shape"
   ]
  },
  {
   "cell_type": "code",
   "execution_count": 24,
   "metadata": {},
   "outputs": [],
   "source": [
    "randompredict = np.random.randint(3, size=(3944,))"
   ]
  },
  {
   "cell_type": "code",
   "execution_count": 25,
   "metadata": {},
   "outputs": [
    {
     "data": {
      "text/plain": [
       "array([[542, 481, 489],\n",
       "       [421, 418, 412],\n",
       "       [393, 403, 385]], dtype=int64)"
      ]
     },
     "execution_count": 25,
     "metadata": {},
     "output_type": "execute_result"
    }
   ],
   "source": [
    "confusion_matrix(np.argmax(y_test,axis=1), randompredict)"
   ]
  },
  {
   "cell_type": "code",
   "execution_count": 26,
   "metadata": {},
   "outputs": [
    {
     "name": "stdout",
     "output_type": "stream",
     "text": [
      "隨機預測正確率為： 0.3225152129817444\n"
     ]
    }
   ],
   "source": [
    "print(\"隨機預測正確率為：\",(442+434+396)/3944)"
   ]
  },
  {
   "cell_type": "code",
   "execution_count": 27,
   "metadata": {},
   "outputs": [
    {
     "data": {
      "text/plain": [
       "[<matplotlib.lines.Line2D at 0x400b6be3c8>]"
      ]
     },
     "execution_count": 27,
     "metadata": {},
     "output_type": "execute_result"
    },
    {
     "data": {
      "image/png": "[encoded data removed]",
      "text/plain": [
       "<Figure size 432x288 with 1 Axes>"
      ]
     },
     "metadata": {},
     "output_type": "display_data"
    }
   ],
   "source": [
    "st=10000\n",
    "end=10100\n",
    "plt.scatter(np.array(df.年月日)[n+st:end],np.array(df.收盤價)[n+st:end],c=np.array(df.漲跌平)[st:end-n],s=10,cmap='cool')\n",
    "plt.plot(np.array(df.年月日)[n+st:end],np.array(df.收盤價)[n+st:end],c='black', linewidth=0.5)"
   ]
  },
  {
   "cell_type": "code",
   "execution_count": 29,
   "metadata": {},
   "outputs": [
    {
     "data": {
      "text/plain": [
       "[<matplotlib.lines.Line2D at 0x400b8083c8>]"
      ]
     },
     "execution_count": 29,
     "metadata": {},
     "output_type": "execute_result"
    },
    {
     "data": {
      "image/png": "[encoded data removed]",
      "text/plain": [
       "<Figure size 432x288 with 1 Axes>"
      ]
     },
     "metadata": {},
     "output_type": "display_data"
    }
   ],
   "source": [
    "st=10000\n",
    "end=10100\n",
    "plt.scatter(np.array(df.年月日)[n+st:end],np.array(df.收盤價)[n+st:end],c=np.argmax(model.predict(X),axis=1)[st:end-n],s=10,cmap='cool')\n",
    "plt.plot(np.array(df.年月日)[n+st:end],np.array(df.收盤價)[n+st:end],c='black', linewidth=0.5)"
   ]
  },
  {
   "cell_type": "code",
   "execution_count": null,
   "metadata": {},
   "outputs": [],
   "source": []
  }
 ],
 "metadata": {
  "kernelspec": {
   "display_name": "Python 3",
   "language": "python",
   "name": "python3"
  },
  "language_info": {
   "codemirror_mode": {
    "name": "ipython",
    "version": 3
   },
   "file_extension": ".py",
   "mimetype": "text/x-python",
   "name": "python",
   "nbconvert_exporter": "python",
   "pygments_lexer": "ipython3",
   "version": "3.6.5"
  }
 },
 "nbformat": 4,
 "nbformat_minor": 2
}
