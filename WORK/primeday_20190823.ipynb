{
 "cells": [
  {
   "cell_type": "code",
   "execution_count": 1,
   "metadata": {},
   "outputs": [],
   "source": [
    "%matplotlib inline\n",
    "\n",
    "import numpy as np\n",
    "import matplotlib.pyplot as plt\n",
    "import pandas as pd\n",
    "\n",
    "from ipywidgets import interact_manual"
   ]
  },
  {
   "cell_type": "code",
   "execution_count": 2,
   "metadata": {},
   "outputs": [],
   "source": [
    "def isprime(x):\n",
    "    if x < 2:\n",
    "        return 0\n",
    "    if x == 2:\n",
    "        return 1\n",
    "    else:\n",
    "        for j in range(2, int(np.floor(np.sqrt(x))+1)):\n",
    "            if isprime(j):\n",
    "                if x % j == 0:\n",
    "                    return 0\n",
    "        return 1"
   ]
  },
  {
   "cell_type": "code",
   "execution_count": 3,
   "metadata": {},
   "outputs": [],
   "source": [
    "def isprimeday(y, m, d):\n",
    "    today = int(y+m+d)\n",
    "    if not isprime(today):\n",
    "        print(\"Today is NOT a prime day\")\n",
    "    elif not isprime(today%10):\n",
    "        print(\"Today is NOT a prime day.\")\n",
    "    elif not isprime(today%100):\n",
    "        print(\"Today is NOT a prime day..\")\n",
    "    elif not isprime(today%1000):\n",
    "        print(\"Today is NOT a prime day...\")\n",
    "    elif not isprime(today%10000):\n",
    "        print(\"Today is NOT a prime day....\")\n",
    "    elif not isprime(today%100000):\n",
    "        print(\"Today is NOT a prime day.....\")\n",
    "    elif not isprime(today%1000000):\n",
    "        print(\"Today is NOT a prime day......\")\n",
    "    elif not isprime(today%10000000):\n",
    "        print(\"Today is NOT a prime day.......\")\n",
    "    else:\n",
    "        print(\"Today is a prime day!!!\")"
   ]
  },
  {
   "cell_type": "code",
   "execution_count": 5,
   "metadata": {},
   "outputs": [
    {
     "data": {
      "application/vnd.jupyter.widget-view+json": {
       "model_id": "745e5a4f04824a929dee20c9c2172ae2",
       "version_major": 2,
       "version_minor": 0
      },
      "text/plain": [
       "interactive(children=(Text(value='請輸入年份四碼', description='y'), Text(value='請輸入月份二碼', description='m'), Text(val…"
      ]
     },
     "metadata": {},
     "output_type": "display_data"
    },
    {
     "data": {
      "text/plain": [
       "<function __main__.isprimeday(y, m, d)>"
      ]
     },
     "execution_count": 5,
     "metadata": {},
     "output_type": "execute_result"
    }
   ],
   "source": [
    "interact_manual(isprimeday, y=\"請輸入年份四碼\", m=\"請輸入月份二碼\", d=\"請輸入日期二碼\")"
   ]
  },
  {
   "cell_type": "code",
   "execution_count": null,
   "metadata": {},
   "outputs": [],
   "source": []
  }
 ],
 "metadata": {
  "kernelspec": {
   "display_name": "Python 3",
   "language": "python",
   "name": "python3"
  },
  "language_info": {
   "codemirror_mode": {
    "name": "ipython",
    "version": 3
   },
   "file_extension": ".py",
   "mimetype": "text/x-python",
   "name": "python",
   "nbconvert_exporter": "python",
   "pygments_lexer": "ipython3",
   "version": "3.6.5"
  }
 },
 "nbformat": 4,
 "nbformat_minor": 2
}
