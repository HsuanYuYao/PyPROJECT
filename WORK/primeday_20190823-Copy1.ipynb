{
 "cells": [
  {
   "cell_type": "code",
   "execution_count": 1,
   "metadata": {},
   "outputs": [],
   "source": [
    "%matplotlib inline\n",
    "\n",
    "import numpy as np\n",
    "import matplotlib.pyplot as plt\n",
    "import pandas as pd\n",
    "\n",
    "from ipywidgets import interact_manual"
   ]
  },
  {
   "cell_type": "code",
   "execution_count": 2,
   "metadata": {},
   "outputs": [],
   "source": [
    "def isprime(x):\n",
    "    if x < 2:\n",
    "        return 0\n",
    "    if x == 2:\n",
    "        return 1\n",
    "    else:\n",
    "        for j in range(2, int(np.floor(np.sqrt(x))+1)):\n",
    "            if isprime(j):\n",
    "                if x % j == 0:\n",
    "                    return 0\n",
    "        return 1"
   ]
  },
  {
   "cell_type": "code",
   "execution_count": 3,
   "metadata": {},
   "outputs": [],
   "source": [
    "def isprimeday(y, m, d):\n",
    "    today = d + m*10**2 + y*10**(2+2)\n",
    "    flag = 0\n",
    "    L = 8\n",
    "    while L >= 1:\n",
    "        if not isprime(today):\n",
    "            flag = 1\n",
    "            # print(\"Today is NOT a prime day...\")\n",
    "            # break\n",
    "            return 0\n",
    "        L = L-1\n",
    "        today = today % 10**L\n",
    "        \n",
    "    if flag == 0:\n",
    "        # print(\"Today is a prime day!!!\")\n",
    "        return 1"
   ]
  },
  {
   "cell_type": "code",
   "execution_count": 4,
   "metadata": {},
   "outputs": [
    {
     "data": {
      "application/vnd.jupyter.widget-view+json": {
       "model_id": "22abf1e2119b4255bf7f32944a3ec185",
       "version_major": 2,
       "version_minor": 0
      },
      "text/plain": [
       "interactive(children=(IntSlider(value=2500, description='y', max=3000, min=2001), IntSlider(value=6, descripti…"
      ]
     },
     "metadata": {},
     "output_type": "display_data"
    },
    {
     "data": {
      "text/plain": [
       "<function __main__.isprimeday(y, m, d)>"
      ]
     },
     "execution_count": 4,
     "metadata": {},
     "output_type": "execute_result"
    }
   ],
   "source": [
    "interact_manual(isprimeday, y=(2001, 3000), m=(1, 12), d=(1, 31))"
   ]
  },
  {
   "cell_type": "code",
   "execution_count": 5,
   "metadata": {},
   "outputs": [],
   "source": [
    "import datetime as dt\n",
    "\n",
    "startdate = dt.datetime(2001, 1, 1)\n",
    "endate = dt.datetime(2100, 12, 31)\n",
    "\n",
    "totaldays = (endate-startdate).days+1\n",
    "primedays = []\n",
    "\n",
    "for daynumber in range(totaldays):\n",
    "    datestring = (startdate+dt.timedelta(days = daynumber)).date()\n",
    "    spam = int(datestring.strftime(\"%Y\"))\n",
    "    egg = int(datestring.strftime(\"%m\"))\n",
    "    ham = int(datestring.strftime(\"%d\"))\n",
    "    if isprimeday(spam, egg , ham):\n",
    "        primedays.append(datestring)"
   ]
  },
  {
   "cell_type": "code",
   "execution_count": 11,
   "metadata": {},
   "outputs": [
    {
     "data": {
      "text/plain": [
       "[datetime.date(2001, 2, 23),\n",
       " datetime.date(2001, 3, 13),\n",
       " datetime.date(2003, 12, 23),\n",
       " datetime.date(2006, 1, 7),\n",
       " datetime.date(2007, 8, 23),\n",
       " datetime.date(2010, 9, 7),\n",
       " datetime.date(2013, 2, 23),\n",
       " datetime.date(2019, 5, 23),\n",
       " datetime.date(2019, 8, 23),\n",
       " datetime.date(2030, 3, 17),\n",
       " datetime.date(2036, 3, 17),\n",
       " datetime.date(2040, 3, 7),\n",
       " datetime.date(2040, 8, 23),\n",
       " datetime.date(2048, 1, 7),\n",
       " datetime.date(2060, 3, 17),\n",
       " datetime.date(2066, 6, 17),\n",
       " datetime.date(2070, 1, 3),\n",
       " datetime.date(2070, 2, 23),\n",
       " datetime.date(2070, 3, 7),\n",
       " datetime.date(2070, 5, 23),\n",
       " datetime.date(2072, 10, 13),\n",
       " datetime.date(2091, 1, 3),\n",
       " datetime.date(2093, 1, 13),\n",
       " datetime.date(2100, 3, 13),\n",
       " datetime.date(2100, 9, 7)]"
      ]
     },
     "execution_count": 11,
     "metadata": {},
     "output_type": "execute_result"
    }
   ],
   "source": [
    "primedays"
   ]
  },
  {
   "cell_type": "code",
   "execution_count": 10,
   "metadata": {},
   "outputs": [],
   "source": [
    "years = []\n",
    "for datestring in primedays:\n",
    "    years.append(int(datestring.strftime(\"%Y\")))"
   ]
  },
  {
   "cell_type": "code",
   "execution_count": 18,
   "metadata": {},
   "outputs": [
    {
     "data": {
      "image/png": "[encoded data removed]",
      "text/plain": [
       "<Figure size 432x288 with 1 Axes>"
      ]
     },
     "metadata": {},
     "output_type": "display_data"
    }
   ],
   "source": [
    "import seaborn as sns\n",
    "\n",
    "years_df = pd.DataFrame({\"years\": years})\n",
    "\n",
    "plt.xticks(rotation=45)\n",
    "\n",
    "ax = sns.countplot(x='years', data=years_df)"
   ]
  },
  {
   "cell_type": "code",
   "execution_count": 20,
   "metadata": {},
   "outputs": [],
   "source": [
    "dict = dict.fromkeys(range(2001, 2101), 0)\n",
    "\n",
    "for key in years:\n",
    "    dict[key] = dict[key] + 1"
   ]
  },
  {
   "cell_type": "code",
   "execution_count": 39,
   "metadata": {},
   "outputs": [
    {
     "data": {
      "image/png": "[encoded data removed]",
      "text/plain": [
       "<Figure size 1296x648 with 1 Axes>"
      ]
     },
     "metadata": {},
     "output_type": "display_data"
    }
   ],
   "source": [
    "dict_df = pd.DataFrame({\"times\": dict})\n",
    "\n",
    "plt.figure(figsize=(18,9))\n",
    "\n",
    "plt.xticks(rotation=90)\n",
    "\n",
    "plt.xlabel('year')\n",
    "\n",
    "ax = sns.barplot(x=dict_df.index, y=dict_df.times)"
   ]
  },
  {
   "cell_type": "code",
   "execution_count": null,
   "metadata": {},
   "outputs": [],
   "source": []
  }
 ],
 "metadata": {
  "kernelspec": {
   "display_name": "Python 3",
   "language": "python",
   "name": "python3"
  },
  "language_info": {
   "codemirror_mode": {
    "name": "ipython",
    "version": 3
   },
   "file_extension": ".py",
   "mimetype": "text/x-python",
   "name": "python",
   "nbconvert_exporter": "python",
   "pygments_lexer": "ipython3",
   "version": "3.6.5"
  }
 },
 "nbformat": 4,
 "nbformat_minor": 2
}
