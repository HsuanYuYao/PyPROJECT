{
 "cells": [
  {
   "cell_type": "code",
   "execution_count": 1,
   "metadata": {},
   "outputs": [
    {
     "name": "stdout",
     "output_type": "stream",
     "text": [
      "請以空格為間隔輸入一串數字>> 5 1 3 6\n",
      "[1, 3, 5, 6]\n"
     ]
    }
   ],
   "source": [
    "# 用insertion sort將一串數字由小到大進行排序\n",
    "import numpy as np\n",
    "\n",
    "str = input(\"請以空格為間隔輸入一串數字>> \")\n",
    "\n",
    "# 將字串轉為串列\n",
    "num = [int(n) for n in str.split()]\n",
    "\n",
    "for index in range(len(num)) :\n",
    "    cur = num[index]\n",
    "    j = index - 1\n",
    "    while (j >= 0)and(num[j] > cur) :\n",
    "        num[j+1] = num[j]\n",
    "        j = j - 1\n",
    "    num[j+1] = cur\n",
    "\n",
    "print(num)"
   ]
  },
  {
   "cell_type": "code",
   "execution_count": null,
   "metadata": {},
   "outputs": [],
   "source": []
  }
 ],
 "metadata": {
  "kernelspec": {
   "display_name": "Python 3",
   "language": "python",
   "name": "python3"
  },
  "language_info": {
   "codemirror_mode": {
    "name": "ipython",
    "version": 3
   },
   "file_extension": ".py",
   "mimetype": "text/x-python",
   "name": "python",
   "nbconvert_exporter": "python",
   "pygments_lexer": "ipython3",
   "version": "3.6.5"
  }
 },
 "nbformat": 4,
 "nbformat_minor": 2
}
