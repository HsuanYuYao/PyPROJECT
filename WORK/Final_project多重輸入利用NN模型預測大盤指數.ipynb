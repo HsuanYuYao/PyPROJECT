{
 "cells": [
  {
   "cell_type": "markdown",
   "metadata": {},
   "source": [
    "# 多重輸入利用NN模型預測大盤指數"
   ]
  },
  {
   "cell_type": "markdown",
   "metadata": {},
   "source": [
    "## Loading Data"
   ]
  },
  {
   "cell_type": "code",
   "execution_count": 3,
   "metadata": {},
   "outputs": [],
   "source": [
    "%matplotlib inline\n",
    "import pandas as pd\n",
    "import numpy as np\n",
    "import matplotlib.pyplot as plt"
   ]
  },
  {
   "cell_type": "code",
   "execution_count": 4,
   "metadata": {},
   "outputs": [],
   "source": [
    "df=pd.read_excel(\"C:/Users/黃柏倫/Desktop/data/python project/大盤指數盤後數據.xlsx\",header=0)"
   ]
  },
  {
   "cell_type": "code",
   "execution_count": 5,
   "metadata": {},
   "outputs": [],
   "source": [
    "dg=pd.read_excel(\"C:/Users/黃柏倫/Desktop/data/python project/全球new.xlsx\",header=0)"
   ]
  },
  {
   "cell_type": "code",
   "execution_count": 6,
   "metadata": {},
   "outputs": [],
   "source": [
    "dg=dg[2:]"
   ]
  },
  {
   "cell_type": "markdown",
   "metadata": {},
   "source": [
    "# 利用香港恆生資料(高相關係數)來進行預測"
   ]
  },
  {
   "cell_type": "markdown",
   "metadata": {},
   "source": [
    "## 資料處理"
   ]
  },
  {
   "cell_type": "code",
   "execution_count": 170,
   "metadata": {},
   "outputs": [],
   "source": [
    "from keras.utils import np_utils"
   ]
  },
  {
   "cell_type": "code",
   "execution_count": 171,
   "metadata": {
    "scrolled": false
   },
   "outputs": [],
   "source": [
    "from sklearn.model_selection import train_test_split"
   ]
  },
  {
   "cell_type": "code",
   "execution_count": 172,
   "metadata": {},
   "outputs": [],
   "source": [
    "from keras.models import Sequential\n",
    "from keras.layers import Dense,LSTM, add"
   ]
  },
  {
   "cell_type": "code",
   "execution_count": 173,
   "metadata": {},
   "outputs": [],
   "source": [
    "from keras.models import Model\n",
    "from keras.layers import Input,concatenate,Dropout"
   ]
  },
  {
   "cell_type": "code",
   "execution_count": 174,
   "metadata": {},
   "outputs": [],
   "source": [
    "def nor(t):\n",
    "    t-= t.min()\n",
    "    t =t/t.max()\n",
    "    return t"
   ]
  },
  {
   "cell_type": "code",
   "execution_count": 175,
   "metadata": {},
   "outputs": [],
   "source": [
    "df['年月日']=pd.to_datetime(df['年月日'])\n",
    "dg['年月日']=pd.to_datetime(dg['年月日'])"
   ]
  },
  {
   "cell_type": "code",
   "execution_count": 176,
   "metadata": {},
   "outputs": [],
   "source": [
    "d_txoc=df[['年月日','收盤價']]\n",
    "d_txov=df[['年月日','成交值']]\n",
    "d_ups=df[['年月日','漲跌平']]\n",
    "d_hsi=dg[['年月日','香港恆生']]"
   ]
  },
  {
   "cell_type": "code",
   "execution_count": 177,
   "metadata": {
    "scrolled": false
   },
   "outputs": [
    {
     "data": {
      "text/html": [
       "<div>\n",
       "<style scoped>\n",
       "    .dataframe tbody tr th:only-of-type {\n",
       "        vertical-align: middle;\n",
       "    }\n",
       "\n",
       "    .dataframe tbody tr th {\n",
       "        vertical-align: top;\n",
       "    }\n",
       "\n",
       "    .dataframe thead th {\n",
       "        text-align: right;\n",
       "    }\n",
       "</style>\n",
       "<table border=\"1\" class=\"dataframe\">\n",
       "  <thead>\n",
       "    <tr style=\"text-align: right;\">\n",
       "      <th></th>\n",
       "      <th>年月日</th>\n",
       "      <th>收盤價</th>\n",
       "      <th>成交值</th>\n",
       "      <th>漲跌平</th>\n",
       "      <th>香港恆生</th>\n",
       "    </tr>\n",
       "  </thead>\n",
       "  <tbody>\n",
       "    <tr>\n",
       "      <th>0</th>\n",
       "      <td>1997-01-04</td>\n",
       "      <td>6820.35</td>\n",
       "      <td>36466000</td>\n",
       "      <td>0.0</td>\n",
       "      <td>13222.8</td>\n",
       "    </tr>\n",
       "    <tr>\n",
       "      <th>1</th>\n",
       "      <td>1997-01-06</td>\n",
       "      <td>6844.75</td>\n",
       "      <td>35696000</td>\n",
       "      <td>1.0</td>\n",
       "      <td>13443.9</td>\n",
       "    </tr>\n",
       "    <tr>\n",
       "      <th>2</th>\n",
       "      <td>1997-01-07</td>\n",
       "      <td>6875.02</td>\n",
       "      <td>50760000</td>\n",
       "      <td>1.0</td>\n",
       "      <td>13420.2</td>\n",
       "    </tr>\n",
       "    <tr>\n",
       "      <th>3</th>\n",
       "      <td>1997-01-08</td>\n",
       "      <td>7019.43</td>\n",
       "      <td>79860000</td>\n",
       "      <td>2.0</td>\n",
       "      <td>13454.9</td>\n",
       "    </tr>\n",
       "    <tr>\n",
       "      <th>4</th>\n",
       "      <td>1997-01-09</td>\n",
       "      <td>7010.76</td>\n",
       "      <td>81908000</td>\n",
       "      <td>1.0</td>\n",
       "      <td>13198.1</td>\n",
       "    </tr>\n",
       "  </tbody>\n",
       "</table>\n",
       "</div>"
      ],
      "text/plain": [
       "         年月日      收盤價       成交值  漲跌平     香港恆生\n",
       "0 1997-01-04  6820.35  36466000  0.0  13222.8\n",
       "1 1997-01-06  6844.75  35696000  1.0  13443.9\n",
       "2 1997-01-07  6875.02  50760000  1.0  13420.2\n",
       "3 1997-01-08  7019.43  79860000  2.0  13454.9\n",
       "4 1997-01-09  7010.76  81908000  1.0  13198.1"
      ]
     },
     "execution_count": 177,
     "metadata": {},
     "output_type": "execute_result"
    }
   ],
   "source": [
    "DF=pd.merge(d_txoc,d_txov)\n",
    "DF=pd.merge(DF,d_ups)\n",
    "DF=pd.merge(DF,d_hsi)\n",
    "DF.index=range(len(DF))\n",
    "DF.head()"
   ]
  },
  {
   "cell_type": "code",
   "execution_count": 178,
   "metadata": {},
   "outputs": [],
   "source": [
    "dfc=np.array(DF['收盤價'])\n",
    "dfv=np.array(DF['成交值'])\n",
    "dfh=np.array(DF['香港恆生'])\n",
    "dfups=np.array(DF['漲跌平'])\n",
    "dfd=DF['年月日']"
   ]
  },
  {
   "cell_type": "code",
   "execution_count": 179,
   "metadata": {},
   "outputs": [],
   "source": [
    "a=[]\n",
    "b=[]\n",
    "c=[]\n",
    "y=[]\n",
    "n=5\n",
    "after=0\n",
    "for i in range(len(DF.index)-n):\n",
    "    a.append(dfc[after+i:after+i+n])\n",
    "    b.append(dfv[after+i:after+i+n])\n",
    "    c.append(dfh[after+i:after+i+n])\n",
    "    y.append(DF.漲跌平[after+i+n])\n",
    "a=np.array(a).reshape(len(a),n)\n",
    "b=np.array(b).reshape(len(b),n)\n",
    "c=np.array(c).reshape(len(b),n)\n",
    "yy = np_utils.to_categorical(y, 3)"
   ]
  },
  {
   "cell_type": "code",
   "execution_count": 213,
   "metadata": {},
   "outputs": [],
   "source": [
    "# 用了會預測結果很極端\n",
    "'''for i in range(len(a)):\n",
    "    a[i]=nor(a[i])\n",
    "    b[i]=nor(b[i])\n",
    "    c[i]=nor(c[i])'''"
   ]
  },
  {
   "cell_type": "code",
   "execution_count": 181,
   "metadata": {},
   "outputs": [],
   "source": [
    "se=87\n",
    "a_train,a_test,y_train,y_test=train_test_split(a,yy,test_size=0.3,random_state=se)\n",
    "b_train,b_test,y_train,y_test=train_test_split(b,yy,test_size=0.3,random_state=se)\n",
    "c_train,c_test,y_train,y_test=train_test_split(c,yy,test_size=0.3,random_state=se)"
   ]
  },
  {
   "cell_type": "markdown",
   "metadata": {},
   "source": [
    "## 建立模型"
   ]
  },
  {
   "cell_type": "code",
   "execution_count": 182,
   "metadata": {},
   "outputs": [],
   "source": [
    "f_1 = Dense(300,input_dim=n, activation='sigmoid')\n",
    "g_1 = Dense(300,input_dim=n, activation='sigmoid')\n",
    "fg_1= Dense(150,input_dim=n, activation='relu')\n",
    "h_1 = Dense(300,input_dim=n, activation='sigmoid')\n",
    "\n",
    "z_1 = Dense(3, activation='softmax')"
   ]
  },
  {
   "cell_type": "code",
   "execution_count": 183,
   "metadata": {},
   "outputs": [],
   "source": [
    "a0 = Input(shape=(n,))\n",
    "b0 = Input(shape=(n,))\n",
    "c0 = Input(shape=(n,))\n",
    "\n",
    "a1 = f_1(a0)\n",
    "b1 = g_1(b0)\n",
    "\n",
    "u1 = concatenate([a1,b1])\n",
    "ab = fg_1(u1)\n",
    "\n",
    "c1 = h_1(c0)\n",
    "\n",
    "u2 = concatenate([ab,c1])\n",
    "\n",
    "q = z_1(u2)"
   ]
  },
  {
   "cell_type": "code",
   "execution_count": 184,
   "metadata": {},
   "outputs": [
    {
     "name": "stdout",
     "output_type": "stream",
     "text": [
      "__________________________________________________________________________________________________\n",
      "Layer (type)                    Output Shape         Param #     Connected to                     \n",
      "==================================================================================================\n",
      "input_28 (InputLayer)           (None, 5)            0                                            \n",
      "__________________________________________________________________________________________________\n",
      "input_29 (InputLayer)           (None, 5)            0                                            \n",
      "__________________________________________________________________________________________________\n",
      "dense_42 (Dense)                (None, 300)          1800        input_28[0][0]                   \n",
      "__________________________________________________________________________________________________\n",
      "dense_43 (Dense)                (None, 300)          1800        input_29[0][0]                   \n",
      "__________________________________________________________________________________________________\n",
      "concatenate_15 (Concatenate)    (None, 600)          0           dense_42[0][0]                   \n",
      "                                                                 dense_43[0][0]                   \n",
      "__________________________________________________________________________________________________\n",
      "input_30 (InputLayer)           (None, 5)            0                                            \n",
      "__________________________________________________________________________________________________\n",
      "dense_44 (Dense)                (None, 150)          90150       concatenate_15[0][0]             \n",
      "__________________________________________________________________________________________________\n",
      "dense_45 (Dense)                (None, 300)          1800        input_30[0][0]                   \n",
      "__________________________________________________________________________________________________\n",
      "concatenate_16 (Concatenate)    (None, 450)          0           dense_44[0][0]                   \n",
      "                                                                 dense_45[0][0]                   \n",
      "__________________________________________________________________________________________________\n",
      "dense_46 (Dense)                (None, 3)            1353        concatenate_16[0][0]             \n",
      "==================================================================================================\n",
      "Total params: 96,903\n",
      "Trainable params: 96,903\n",
      "Non-trainable params: 0\n",
      "__________________________________________________________________________________________________\n"
     ]
    }
   ],
   "source": [
    "model = Model([a0,b0,c0],q )\n",
    "model.summary()"
   ]
  },
  {
   "cell_type": "code",
   "execution_count": 185,
   "metadata": {},
   "outputs": [],
   "source": [
    "model.compile(loss='categorical_crossentropy',optimizer=\"adam\",metrics=['acc'])#,validation)"
   ]
  },
  {
   "cell_type": "markdown",
   "metadata": {},
   "source": [
    "## 訓練與預測"
   ]
  },
  {
   "cell_type": "code",
   "execution_count": 186,
   "metadata": {
    "scrolled": true
   },
   "outputs": [
    {
     "name": "stdout",
     "output_type": "stream",
     "text": [
      "Epoch 1/20\n",
      "3942/3942 [==============================] - 1s 241us/step - loss: 1.1079 - acc: 0.3841\n",
      "Epoch 2/20\n",
      "3942/3942 [==============================] - 0s 51us/step - loss: 1.0966 - acc: 0.3848\n",
      "Epoch 3/20\n",
      "3942/3942 [==============================] - 0s 55us/step - loss: 1.1043 - acc: 0.3891\n",
      "Epoch 4/20\n",
      "3942/3942 [==============================] - 0s 49us/step - loss: 1.0953 - acc: 0.3957\n",
      "Epoch 5/20\n",
      "3942/3942 [==============================] - 0s 55us/step - loss: 1.0892 - acc: 0.3965\n",
      "Epoch 6/20\n",
      "3942/3942 [==============================] - 0s 53us/step - loss: 1.0843 - acc: 0.4049\n",
      "Epoch 7/20\n",
      "3942/3942 [==============================] - 0s 57us/step - loss: 1.0853 - acc: 0.3952\n",
      "Epoch 8/20\n",
      "3942/3942 [==============================] - 0s 60us/step - loss: 1.0824 - acc: 0.3988\n",
      "Epoch 9/20\n",
      "3942/3942 [==============================] - 0s 53us/step - loss: 1.0896 - acc: 0.3922\n",
      "Epoch 10/20\n",
      "3942/3942 [==============================] - 0s 61us/step - loss: 1.0863 - acc: 0.4056\n",
      "Epoch 11/20\n",
      "3942/3942 [==============================] - ETA: 0s - loss: 1.0843 - acc: 0.399 - 0s 49us/step - loss: 1.0836 - acc: 0.4016\n",
      "Epoch 12/20\n",
      "3942/3942 [==============================] - 0s 68us/step - loss: 1.0888 - acc: 0.3985\n",
      "Epoch 13/20\n",
      "3942/3942 [==============================] - 0s 74us/step - loss: 1.0943 - acc: 0.3891\n",
      "Epoch 14/20\n",
      "3942/3942 [==============================] - 0s 73us/step - loss: 1.0857 - acc: 0.3914\n",
      "Epoch 15/20\n",
      "3942/3942 [==============================] - 0s 58us/step - loss: 1.0831 - acc: 0.4041\n",
      "Epoch 16/20\n",
      "3942/3942 [==============================] - 0s 67us/step - loss: 1.0822 - acc: 0.4039\n",
      "Epoch 17/20\n",
      "3942/3942 [==============================] - 0s 86us/step - loss: 1.0819 - acc: 0.4031\n",
      "Epoch 18/20\n",
      "3942/3942 [==============================] - 0s 63us/step - loss: 1.0807 - acc: 0.4033\n",
      "Epoch 19/20\n",
      "3942/3942 [==============================] - 0s 65us/step - loss: 1.0813 - acc: 0.4018\n",
      "Epoch 20/20\n",
      "3942/3942 [==============================] - 0s 67us/step - loss: 1.0810 - acc: 0.4016\n"
     ]
    },
    {
     "data": {
      "text/plain": [
       "<keras.callbacks.History at 0x2293a8def98>"
      ]
     },
     "execution_count": 186,
     "metadata": {},
     "output_type": "execute_result"
    }
   ],
   "source": [
    "model.fit([a_train,b_train,c_train], y_train,batch_size=100,epochs=20)"
   ]
  },
  {
   "cell_type": "code",
   "execution_count": 187,
   "metadata": {},
   "outputs": [
    {
     "name": "stdout",
     "output_type": "stream",
     "text": [
      "1690/1690 [==============================] - 0s 183us/step\n"
     ]
    },
    {
     "data": {
      "text/plain": [
       "[1.0818414760059154, 0.398224852212082]"
      ]
     },
     "execution_count": 187,
     "metadata": {},
     "output_type": "execute_result"
    }
   ],
   "source": [
    "model.evaluate([a_test,b_test,c_test], y_test)"
   ]
  },
  {
   "cell_type": "code",
   "execution_count": 188,
   "metadata": {
    "scrolled": false
   },
   "outputs": [
    {
     "data": {
      "text/plain": [
       "array([[0.27374917, 0.37808007, 0.34817073],\n",
       "       [0.23790516, 0.42276627, 0.3393286 ],\n",
       "       [0.30296743, 0.3222613 , 0.37477127],\n",
       "       ...,\n",
       "       [0.2373146 , 0.42436993, 0.3383155 ],\n",
       "       [0.298067  , 0.38140327, 0.3205297 ],\n",
       "       [0.22061993, 0.42712736, 0.35225266]], dtype=float32)"
      ]
     },
     "execution_count": 188,
     "metadata": {},
     "output_type": "execute_result"
    }
   ],
   "source": [
    "model.predict([a_test,b_test,c_test])"
   ]
  },
  {
   "cell_type": "markdown",
   "metadata": {},
   "source": [
    "## 視覺化"
   ]
  },
  {
   "cell_type": "code",
   "execution_count": 189,
   "metadata": {},
   "outputs": [],
   "source": [
    "yp = model.predict([a,b,c])\n",
    "ypp=np.argmax(yp,axis=1)"
   ]
  },
  {
   "cell_type": "code",
   "execution_count": 190,
   "metadata": {
    "scrolled": false
   },
   "outputs": [
    {
     "data": {
      "text/plain": [
       "[<matplotlib.lines.Line2D at 0x2293af820b8>]"
      ]
     },
     "execution_count": 190,
     "metadata": {},
     "output_type": "execute_result"
    },
    {
     "data": {
      "image/png": "[encoded data removed]",
      "text/plain": [
       "<Figure size 864x144 with 1 Axes>"
      ]
     },
     "metadata": {
      "needs_background": "light"
     },
     "output_type": "display_data"
    },
    {
     "data": {
      "image/png": "[encoded data removed]",
      "text/plain": [
       "<Figure size 864x144 with 1 Axes>"
      ]
     },
     "metadata": {
      "needs_background": "light"
     },
     "output_type": "display_data"
    }
   ],
   "source": [
    "st=0\n",
    "end=st+n+100\n",
    "\n",
    "plt.figure(figsize=(12,2))\n",
    "plt.title(\"REAL\")\n",
    "plt.scatter(dfd[n+st:end],dfc[n+st:end],c=y[st:end-n],s=10,cmap='cool')\n",
    "plt.xticks(rotation=45)\n",
    "plt.plot(dfd[n+st:end],dfc[n+st:end],c='black', linewidth=0.5)\n",
    "\n",
    "plt.figure(figsize=(12,2))\n",
    "plt.title(\"PREDICT\")\n",
    "plt.scatter(dfd[n+st:end],dfc[n+st:end],c=ypp[st:end-n],s=10,cmap='cool')\n",
    "plt.xticks(rotation=45)\n",
    "plt.plot(dfd[n+st:end],dfc[n+st:end],c='black', linewidth=0.5)"
   ]
  },
  {
   "cell_type": "markdown",
   "metadata": {},
   "source": [
    "# 利用外資買賣超市值(籌碼資訊)來進行預測"
   ]
  },
  {
   "cell_type": "markdown",
   "metadata": {},
   "source": [
    "## 資料處理"
   ]
  },
  {
   "cell_type": "code",
   "execution_count": 207,
   "metadata": {},
   "outputs": [],
   "source": [
    "from keras.models import Model\n",
    "from keras.layers import Input,concatenate,Dropout"
   ]
  },
  {
   "cell_type": "code",
   "execution_count": 208,
   "metadata": {},
   "outputs": [],
   "source": [
    "df['年月日']=pd.to_datetime(df['年月日'])\n",
    "dg['年月日']=pd.to_datetime(dg['年月日'])"
   ]
  },
  {
   "cell_type": "code",
   "execution_count": 209,
   "metadata": {},
   "outputs": [],
   "source": [
    "d_txoc=df[['年月日','收盤價']]\n",
    "d_txov=df[['年月日','成交值']]\n",
    "d_ups=df[['年月日','漲跌平']]\n",
    "d_of=df[['年月日','外資買賣超市值(百萬)']]"
   ]
  },
  {
   "cell_type": "code",
   "execution_count": 210,
   "metadata": {
    "scrolled": true
   },
   "outputs": [
    {
     "data": {
      "text/html": [
       "<div>\n",
       "<style scoped>\n",
       "    .dataframe tbody tr th:only-of-type {\n",
       "        vertical-align: middle;\n",
       "    }\n",
       "\n",
       "    .dataframe tbody tr th {\n",
       "        vertical-align: top;\n",
       "    }\n",
       "\n",
       "    .dataframe thead th {\n",
       "        text-align: right;\n",
       "    }\n",
       "</style>\n",
       "<table border=\"1\" class=\"dataframe\">\n",
       "  <thead>\n",
       "    <tr style=\"text-align: right;\">\n",
       "      <th></th>\n",
       "      <th>年月日</th>\n",
       "      <th>收盤價</th>\n",
       "      <th>成交值</th>\n",
       "      <th>漲跌平</th>\n",
       "      <th>外資買賣超市值(百萬)</th>\n",
       "    </tr>\n",
       "  </thead>\n",
       "  <tbody>\n",
       "    <tr>\n",
       "      <th>0</th>\n",
       "      <td>1996-09-02</td>\n",
       "      <td>6342.17</td>\n",
       "      <td>35463000</td>\n",
       "      <td>1.0</td>\n",
       "      <td>561.85</td>\n",
       "    </tr>\n",
       "    <tr>\n",
       "      <th>1</th>\n",
       "      <td>1996-09-03</td>\n",
       "      <td>6257.97</td>\n",
       "      <td>37428000</td>\n",
       "      <td>0.0</td>\n",
       "      <td>132.37</td>\n",
       "    </tr>\n",
       "    <tr>\n",
       "      <th>2</th>\n",
       "      <td>1996-09-04</td>\n",
       "      <td>6228.78</td>\n",
       "      <td>40213000</td>\n",
       "      <td>1.0</td>\n",
       "      <td>897.03</td>\n",
       "    </tr>\n",
       "    <tr>\n",
       "      <th>3</th>\n",
       "      <td>1996-09-05</td>\n",
       "      <td>6304.96</td>\n",
       "      <td>39001000</td>\n",
       "      <td>2.0</td>\n",
       "      <td>759.03</td>\n",
       "    </tr>\n",
       "    <tr>\n",
       "      <th>4</th>\n",
       "      <td>1996-09-06</td>\n",
       "      <td>6290.23</td>\n",
       "      <td>31401000</td>\n",
       "      <td>1.0</td>\n",
       "      <td>-142.73</td>\n",
       "    </tr>\n",
       "  </tbody>\n",
       "</table>\n",
       "</div>"
      ],
      "text/plain": [
       "         年月日      收盤價       成交值  漲跌平  外資買賣超市值(百萬)\n",
       "0 1996-09-02  6342.17  35463000  1.0       561.85\n",
       "1 1996-09-03  6257.97  37428000  0.0       132.37\n",
       "2 1996-09-04  6228.78  40213000  1.0       897.03\n",
       "3 1996-09-05  6304.96  39001000  2.0       759.03\n",
       "4 1996-09-06  6290.23  31401000  1.0      -142.73"
      ]
     },
     "execution_count": 210,
     "metadata": {},
     "output_type": "execute_result"
    }
   ],
   "source": [
    "DF=pd.merge(d_txoc,d_txov)\n",
    "DF=pd.merge(DF,d_ups)\n",
    "DF=pd.merge(DF,d_of)\n",
    "DF=DF.dropna()\n",
    "DF.index=range(len(DF))\n",
    "DF.head()"
   ]
  },
  {
   "cell_type": "code",
   "execution_count": 211,
   "metadata": {},
   "outputs": [],
   "source": [
    "dfc=np.array(DF['收盤價'])\n",
    "dfv=np.array(DF['成交值'])\n",
    "dfo=np.array(DF['外資買賣超市值(百萬)'])\n",
    "dfups=np.array(DF['漲跌平'])\n",
    "dfd=DF['年月日']"
   ]
  },
  {
   "cell_type": "code",
   "execution_count": 212,
   "metadata": {},
   "outputs": [],
   "source": [
    "a=[]\n",
    "b=[]\n",
    "c=[]\n",
    "y=[]\n",
    "n=5\n",
    "after=0\n",
    "for i in range(len(DF.index)-n):\n",
    "    a.append(dfc[after+i:after+i+n])\n",
    "    b.append(dfv[after+i:after+i+n])\n",
    "    c.append(dfo[after+i:after+i+n])\n",
    "    y.append(DF.漲跌平[after+i+n])\n",
    "a=np.array(a).reshape(len(a),n)\n",
    "b=np.array(b).reshape(len(b),n)\n",
    "c=np.array(c).reshape(len(b),n)\n",
    "yy = np_utils.to_categorical(y, 3)"
   ]
  },
  {
   "cell_type": "code",
   "execution_count": 213,
   "metadata": {},
   "outputs": [],
   "source": [
    "# 用了會預測結果很極端\n",
    "'''for i in range(len(a)):\n",
    "    a[i]=nor(a[i])\n",
    "    b[i]=nor(b[i])\n",
    "    c[i]=nor(c[i])'''"
   ]
  },
  {
   "cell_type": "code",
   "execution_count": 214,
   "metadata": {},
   "outputs": [],
   "source": [
    "se=87\n",
    "a_train,a_test,y_train,y_test=train_test_split(a,yy,test_size=0.3,random_state=se)\n",
    "b_train,b_test,y_train,y_test=train_test_split(b,yy,test_size=0.3,random_state=se)\n",
    "c_train,c_test,y_train,y_test=train_test_split(c,yy,test_size=0.3,random_state=se)"
   ]
  },
  {
   "cell_type": "markdown",
   "metadata": {},
   "source": [
    "## 建立模型"
   ]
  },
  {
   "cell_type": "code",
   "execution_count": null,
   "metadata": {},
   "outputs": [],
   "source": [
    "f_1 = Dense(300,input_dim=n, activation='sigmoid')\n",
    "g_1 = Dense(300,input_dim=n, activation='sigmoid')\n",
    "h_1 = Dense(300,input_dim=n, activation='sigmoid')\n",
    "\n",
    "z_1 = Dense(3, activation='softmax')"
   ]
  },
  {
   "cell_type": "code",
   "execution_count": null,
   "metadata": {},
   "outputs": [],
   "source": [
    "a0 = Input(shape=(n,))\n",
    "b0 = Input(shape=(n,))\n",
    "c0 = Input(shape=(n,))\n",
    "\n",
    "a1 = f_1(a0)\n",
    "b1 = g_1(b0)\n",
    "c1 = h_1(c0)\n",
    "\n",
    "u2 = concatenate([a1,c1])\n",
    "\n",
    "q = z_1(u2)"
   ]
  },
  {
   "cell_type": "code",
   "execution_count": 217,
   "metadata": {},
   "outputs": [
    {
     "name": "stdout",
     "output_type": "stream",
     "text": [
      "__________________________________________________________________________________________________\n",
      "Layer (type)                    Output Shape         Param #     Connected to                     \n",
      "==================================================================================================\n",
      "input_34 (InputLayer)           (None, 5)            0                                            \n",
      "__________________________________________________________________________________________________\n",
      "input_35 (InputLayer)           (None, 5)            0                                            \n",
      "__________________________________________________________________________________________________\n",
      "dense_52 (Dense)                (None, 300)          1800        input_34[0][0]                   \n",
      "__________________________________________________________________________________________________\n",
      "dense_53 (Dense)                (None, 300)          1800        input_35[0][0]                   \n",
      "__________________________________________________________________________________________________\n",
      "concatenate_19 (Concatenate)    (None, 600)          0           dense_52[0][0]                   \n",
      "                                                                 dense_53[0][0]                   \n",
      "__________________________________________________________________________________________________\n",
      "input_36 (InputLayer)           (None, 5)            0                                            \n",
      "__________________________________________________________________________________________________\n",
      "dense_54 (Dense)                (None, 150)          90150       concatenate_19[0][0]             \n",
      "__________________________________________________________________________________________________\n",
      "dense_55 (Dense)                (None, 300)          1800        input_36[0][0]                   \n",
      "__________________________________________________________________________________________________\n",
      "concatenate_20 (Concatenate)    (None, 450)          0           dense_54[0][0]                   \n",
      "                                                                 dense_55[0][0]                   \n",
      "__________________________________________________________________________________________________\n",
      "dense_56 (Dense)                (None, 3)            1353        concatenate_20[0][0]             \n",
      "==================================================================================================\n",
      "Total params: 96,903\n",
      "Trainable params: 96,903\n",
      "Non-trainable params: 0\n",
      "__________________________________________________________________________________________________\n"
     ]
    }
   ],
   "source": [
    "model2 = Model([a0,b0,c0],q )\n",
    "model2.summary()"
   ]
  },
  {
   "cell_type": "code",
   "execution_count": 218,
   "metadata": {},
   "outputs": [],
   "source": [
    "model2.compile(loss='categorical_crossentropy',optimizer=\"adam\",metrics=['acc'])#,validation)"
   ]
  },
  {
   "cell_type": "markdown",
   "metadata": {},
   "source": [
    "## 訓練與預測"
   ]
  },
  {
   "cell_type": "code",
   "execution_count": 219,
   "metadata": {
    "scrolled": true
   },
   "outputs": [
    {
     "name": "stdout",
     "output_type": "stream",
     "text": [
      "Epoch 1/20\n",
      "4009/4009 [==============================] - 1s 254us/step - loss: 1.1136 - acc: 0.3819\n",
      "Epoch 2/20\n",
      "4009/4009 [==============================] - 0s 54us/step - loss: 1.1004 - acc: 0.3881\n",
      "Epoch 3/20\n",
      "4009/4009 [==============================] - 0s 43us/step - loss: 1.0905 - acc: 0.3859\n",
      "Epoch 4/20\n",
      "4009/4009 [==============================] - 0s 54us/step - loss: 1.1063 - acc: 0.3704\n",
      "Epoch 5/20\n",
      "4009/4009 [==============================] - 0s 46us/step - loss: 1.0882 - acc: 0.4003\n",
      "Epoch 6/20\n",
      "4009/4009 [==============================] - 0s 49us/step - loss: 1.0944 - acc: 0.3951\n",
      "Epoch 7/20\n",
      "4009/4009 [==============================] - 0s 60us/step - loss: 1.0873 - acc: 0.3866: 0s - loss: 1.0795 - acc: 0.\n",
      "Epoch 8/20\n",
      "4009/4009 [==============================] - 0s 56us/step - loss: 1.0922 - acc: 0.3866\n",
      "Epoch 9/20\n",
      "4009/4009 [==============================] - 0s 61us/step - loss: 1.0973 - acc: 0.3876\n",
      "Epoch 10/20\n",
      "4009/4009 [==============================] - 0s 63us/step - loss: 1.0886 - acc: 0.3951\n",
      "Epoch 11/20\n",
      "4009/4009 [==============================] - 0s 61us/step - loss: 1.0876 - acc: 0.3881\n",
      "Epoch 12/20\n",
      "4009/4009 [==============================] - 0s 70us/step - loss: 1.0826 - acc: 0.4018\n",
      "Epoch 13/20\n",
      "4009/4009 [==============================] - 0s 60us/step - loss: 1.0820 - acc: 0.4028\n",
      "Epoch 14/20\n",
      "4009/4009 [==============================] - 0s 66us/step - loss: 1.0868 - acc: 0.3946\n",
      "Epoch 15/20\n",
      "4009/4009 [==============================] - 0s 64us/step - loss: 1.0904 - acc: 0.3981\n",
      "Epoch 16/20\n",
      "4009/4009 [==============================] - 0s 55us/step - loss: 1.0823 - acc: 0.3969\n",
      "Epoch 17/20\n",
      "4009/4009 [==============================] - 0s 69us/step - loss: 1.0813 - acc: 0.4011\n",
      "Epoch 18/20\n",
      "4009/4009 [==============================] - 0s 61us/step - loss: 1.0885 - acc: 0.3966\n",
      "Epoch 19/20\n",
      "4009/4009 [==============================] - 0s 63us/step - loss: 1.0836 - acc: 0.3991\n",
      "Epoch 20/20\n",
      "4009/4009 [==============================] - 0s 59us/step - loss: 1.0800 - acc: 0.4058\n"
     ]
    },
    {
     "data": {
      "text/plain": [
       "<keras.callbacks.History at 0x2293d6281d0>"
      ]
     },
     "execution_count": 219,
     "metadata": {},
     "output_type": "execute_result"
    }
   ],
   "source": [
    "model2.fit([a_train,b_train,c_train], y_train,batch_size=100,epochs=20)"
   ]
  },
  {
   "cell_type": "code",
   "execution_count": 220,
   "metadata": {},
   "outputs": [
    {
     "name": "stdout",
     "output_type": "stream",
     "text": [
      "1719/1719 [==============================] - 0s 205us/step\n"
     ]
    },
    {
     "data": {
      "text/plain": [
       "[1.0848040705575992, 0.4089586968648011]"
      ]
     },
     "execution_count": 220,
     "metadata": {},
     "output_type": "execute_result"
    }
   ],
   "source": [
    "model2.evaluate([a_test,b_test,c_test], y_test)"
   ]
  },
  {
   "cell_type": "code",
   "execution_count": 221,
   "metadata": {
    "scrolled": true
   },
   "outputs": [
    {
     "data": {
      "text/plain": [
       "array([[0.21547955, 0.43282366, 0.35169676],\n",
       "       [0.26660922, 0.40281287, 0.33057788],\n",
       "       [0.28751844, 0.36470464, 0.34777698],\n",
       "       ...,\n",
       "       [0.23877652, 0.44520563, 0.31601793],\n",
       "       [0.2540962 , 0.41478983, 0.33111393],\n",
       "       [0.29681525, 0.4028681 , 0.3003167 ]], dtype=float32)"
      ]
     },
     "execution_count": 221,
     "metadata": {},
     "output_type": "execute_result"
    }
   ],
   "source": [
    "model2.predict([a_test,b_test,c_test])"
   ]
  },
  {
   "cell_type": "markdown",
   "metadata": {},
   "source": [
    "## 視覺化"
   ]
  },
  {
   "cell_type": "code",
   "execution_count": 222,
   "metadata": {},
   "outputs": [],
   "source": [
    "yp = model2.predict([a,b,c])\n",
    "ypp=np.argmax(yp,axis=1)"
   ]
  },
  {
   "cell_type": "code",
   "execution_count": 313,
   "metadata": {
    "scrolled": false
   },
   "outputs": [
    {
     "data": {
      "text/plain": [
       "[<matplotlib.lines.Line2D at 0x22945caaa90>]"
      ]
     },
     "execution_count": 313,
     "metadata": {},
     "output_type": "execute_result"
    },
    {
     "data": {
      "image/png": "[encoded data removed]",
      "text/plain": [
       "<Figure size 864x144 with 1 Axes>"
      ]
     },
     "metadata": {
      "needs_background": "light"
     },
     "output_type": "display_data"
    },
    {
     "data": {
      "image/png": "[encoded data removed]",
      "text/plain": [
       "<Figure size 864x144 with 1 Axes>"
      ]
     },
     "metadata": {
      "needs_background": "light"
     },
     "output_type": "display_data"
    }
   ],
   "source": [
    "st=0\n",
    "end=st+n+100\n",
    "\n",
    "plt.figure(figsize=(12,2))\n",
    "plt.title(\"REAL\")\n",
    "plt.scatter(dfd[n+st:end],dfc[n+st:end],c=y[st:end-n],s=10,cmap='cool')\n",
    "plt.xticks(rotation=45)\n",
    "plt.plot(dfd[n+st:end],dfc[n+st:end],c='black', linewidth=0.5)\n",
    "\n",
    "plt.figure(figsize=(12,2))\n",
    "plt.title(\"PREDICT\")\n",
    "plt.scatter(dfd[n+st:end],dfc[n+st:end],c=ypp[st:end-n],s=10,cmap='cool')\n",
    "plt.xticks(rotation=45)\n",
    "plt.plot(dfd[n+st:end],dfc[n+st:end],c='black', linewidth=0.5)"
   ]
  },
  {
   "cell_type": "markdown",
   "metadata": {},
   "source": [
    "# 利用盤後總資訊(價格,籌碼)進行預測"
   ]
  },
  {
   "cell_type": "markdown",
   "metadata": {},
   "source": [
    "## 資料處理"
   ]
  },
  {
   "cell_type": "code",
   "execution_count": 247,
   "metadata": {},
   "outputs": [],
   "source": [
    "df['年月日']=pd.to_datetime(df['年月日'])\n",
    "dg['年月日']=pd.to_datetime(dg['年月日'])"
   ]
  },
  {
   "cell_type": "code",
   "execution_count": 248,
   "metadata": {},
   "outputs": [],
   "source": [
    "d_txoc=df[['年月日','收盤價']]\n",
    "d_txov=df[['年月日','成交值']]\n",
    "d_ups=df[['年月日','漲跌平']]\n",
    "\n",
    "d_of=df[['年月日','外資買賣超市值(百萬)']]\n",
    "d_self=df[['年月日','自營買賣超市值(百萬)']]\n",
    "\n",
    "d_high=df[['年月日','最高價']]\n",
    "d_low=df[['年月日','最低價']]\n",
    "d_borrow=df[['年月日','融資增減(千元)']]\n",
    "d_tick=df[['年月日','融券增減(張)']]"
   ]
  },
  {
   "cell_type": "code",
   "execution_count": 249,
   "metadata": {},
   "outputs": [],
   "source": [
    "def MER (a):\n",
    "    s=a[0]\n",
    "    for i in range(len(a)-1):\n",
    "        s=pd.merge(s,a[i+1])\n",
    "    return s"
   ]
  },
  {
   "cell_type": "code",
   "execution_count": 250,
   "metadata": {
    "scrolled": true
   },
   "outputs": [
    {
     "data": {
      "text/html": [
       "<div>\n",
       "<style scoped>\n",
       "    .dataframe tbody tr th:only-of-type {\n",
       "        vertical-align: middle;\n",
       "    }\n",
       "\n",
       "    .dataframe tbody tr th {\n",
       "        vertical-align: top;\n",
       "    }\n",
       "\n",
       "    .dataframe thead th {\n",
       "        text-align: right;\n",
       "    }\n",
       "</style>\n",
       "<table border=\"1\" class=\"dataframe\">\n",
       "  <thead>\n",
       "    <tr style=\"text-align: right;\">\n",
       "      <th></th>\n",
       "      <th>年月日</th>\n",
       "      <th>收盤價</th>\n",
       "      <th>成交值</th>\n",
       "      <th>漲跌平</th>\n",
       "      <th>外資買賣超市值(百萬)</th>\n",
       "      <th>自營買賣超市值(百萬)</th>\n",
       "      <th>最高價</th>\n",
       "      <th>最低價</th>\n",
       "      <th>融資增減(千元)</th>\n",
       "      <th>融券增減(張)</th>\n",
       "    </tr>\n",
       "  </thead>\n",
       "  <tbody>\n",
       "    <tr>\n",
       "      <th>0</th>\n",
       "      <td>1996-09-18</td>\n",
       "      <td>6499.02</td>\n",
       "      <td>45207000</td>\n",
       "      <td>1.0</td>\n",
       "      <td>284.71</td>\n",
       "      <td>0.0</td>\n",
       "      <td>6508.13</td>\n",
       "      <td>6452.37</td>\n",
       "      <td>902185.0</td>\n",
       "      <td>6506.0</td>\n",
       "    </tr>\n",
       "    <tr>\n",
       "      <th>1</th>\n",
       "      <td>1996-09-19</td>\n",
       "      <td>6535.59</td>\n",
       "      <td>51472000</td>\n",
       "      <td>2.0</td>\n",
       "      <td>403.21</td>\n",
       "      <td>0.0</td>\n",
       "      <td>6558.26</td>\n",
       "      <td>6535.59</td>\n",
       "      <td>1524201.0</td>\n",
       "      <td>6113.0</td>\n",
       "    </tr>\n",
       "    <tr>\n",
       "      <th>2</th>\n",
       "      <td>1996-09-20</td>\n",
       "      <td>6499.52</td>\n",
       "      <td>51295000</td>\n",
       "      <td>0.0</td>\n",
       "      <td>290.72</td>\n",
       "      <td>0.0</td>\n",
       "      <td>6546.36</td>\n",
       "      <td>6492.30</td>\n",
       "      <td>114456.0</td>\n",
       "      <td>-906.0</td>\n",
       "    </tr>\n",
       "    <tr>\n",
       "      <th>3</th>\n",
       "      <td>1996-09-21</td>\n",
       "      <td>6490.09</td>\n",
       "      <td>37692000</td>\n",
       "      <td>1.0</td>\n",
       "      <td>-220.08</td>\n",
       "      <td>0.0</td>\n",
       "      <td>6528.81</td>\n",
       "      <td>6485.92</td>\n",
       "      <td>418937.0</td>\n",
       "      <td>6841.0</td>\n",
       "    </tr>\n",
       "    <tr>\n",
       "      <th>4</th>\n",
       "      <td>1996-09-23</td>\n",
       "      <td>6453.98</td>\n",
       "      <td>40225000</td>\n",
       "      <td>0.0</td>\n",
       "      <td>24.20</td>\n",
       "      <td>0.0</td>\n",
       "      <td>6512.91</td>\n",
       "      <td>6447.46</td>\n",
       "      <td>-229998.0</td>\n",
       "      <td>8701.0</td>\n",
       "    </tr>\n",
       "  </tbody>\n",
       "</table>\n",
       "</div>"
      ],
      "text/plain": [
       "         年月日      收盤價       成交值  漲跌平  外資買賣超市值(百萬)  自營買賣超市值(百萬)      最高價  \\\n",
       "0 1996-09-18  6499.02  45207000  1.0       284.71          0.0  6508.13   \n",
       "1 1996-09-19  6535.59  51472000  2.0       403.21          0.0  6558.26   \n",
       "2 1996-09-20  6499.52  51295000  0.0       290.72          0.0  6546.36   \n",
       "3 1996-09-21  6490.09  37692000  1.0      -220.08          0.0  6528.81   \n",
       "4 1996-09-23  6453.98  40225000  0.0        24.20          0.0  6512.91   \n",
       "\n",
       "       最低價   融資增減(千元)  融券增減(張)  \n",
       "0  6452.37   902185.0   6506.0  \n",
       "1  6535.59  1524201.0   6113.0  \n",
       "2  6492.30   114456.0   -906.0  \n",
       "3  6485.92   418937.0   6841.0  \n",
       "4  6447.46  -229998.0   8701.0  "
      ]
     },
     "execution_count": 250,
     "metadata": {},
     "output_type": "execute_result"
    }
   ],
   "source": [
    "DF=MER([d_txoc,d_txov,d_ups,d_of,d_self,d_high,d_low,d_borrow,d_tick])\n",
    "DF=DF.dropna()\n",
    "DF.index=range(len(DF))\n",
    "DF.head()"
   ]
  },
  {
   "cell_type": "code",
   "execution_count": 251,
   "metadata": {},
   "outputs": [],
   "source": [
    "dfc=np.array(DF['收盤價'])\n",
    "dfv=np.array(DF['成交值'])\n",
    "dfh=np.array(DF['最高價'])\n",
    "dfl=np.array(DF['最低價'])\n",
    "\n",
    "dfo=np.array(DF['外資買賣超市值(百萬)'])\n",
    "dfs=np.array(DF['自營買賣超市值(百萬)'])\n",
    "\n",
    "dfb=np.array(DF['融資增減(千元)'])\n",
    "dft=np.array(DF['融券增減(張)'])\n",
    "dfups=np.array(DF['漲跌平'])\n",
    "dfd=DF['年月日']"
   ]
  },
  {
   "cell_type": "code",
   "execution_count": 252,
   "metadata": {},
   "outputs": [],
   "source": [
    "def take (l,dl,n,after):\n",
    "     for j in range(len(dl)):\n",
    "        for i in range(len(DF.index)-n):\n",
    "            l[j].append(dl[j][after+i:after+i+n])\n",
    "        l[j]=np.array(l[j]).reshape(len(l[j]),n)"
   ]
  },
  {
   "cell_type": "code",
   "execution_count": 253,
   "metadata": {},
   "outputs": [],
   "source": [
    "a1=[]\n",
    "a2=[]\n",
    "a3=[]\n",
    "a4=[]\n",
    "b1=[]\n",
    "b2=[]\n",
    "c1=[]\n",
    "c2=[]\n",
    "n=5\n",
    "after=0\n",
    "l=[a1,a2,a3,a4,b1,b2,c1,c2]\n",
    "take(l,[dfc,dfv,dfh,dfl,dfo,dfs,dfb,dft],n,after)"
   ]
  },
  {
   "cell_type": "code",
   "execution_count": 254,
   "metadata": {},
   "outputs": [],
   "source": [
    "y=[]\n",
    "for i in range(len(DF.index)-n):\n",
    "    y.append(DF.漲跌平[after+i+n])\n",
    "yy = np_utils.to_categorical(y, 3)"
   ]
  },
  {
   "cell_type": "markdown",
   "metadata": {},
   "source": [
    "## 建立模型"
   ]
  },
  {
   "cell_type": "code",
   "execution_count": 267,
   "metadata": {},
   "outputs": [],
   "source": [
    "x_train=[]\n",
    "x_test=[]\n",
    "F=[]\n",
    "I0=[]\n",
    "I1=[]\n",
    "for i in range(len(l)):\n",
    "    I0.append([])\n",
    "    I1.append([])\n",
    "    F.append([])\n",
    "    x_train.append([])\n",
    "    x_test.append([])"
   ]
  },
  {
   "cell_type": "code",
   "execution_count": 268,
   "metadata": {},
   "outputs": [],
   "source": [
    "se=87\n",
    "for i in range(len(l)):\n",
    "    x_train[i],x_test[i],y_train,y_test=train_test_split(l[i],yy,test_size=0.3,random_state=se) \n",
    "    F[i] = Dense(300, activation='sigmoid')\n",
    "    I0[i] = Input(shape=(n,))\n",
    "    I1[i]= F[i](I0[i])"
   ]
  },
  {
   "cell_type": "code",
   "execution_count": 269,
   "metadata": {},
   "outputs": [],
   "source": [
    "za= Dense(100, activation='sigmoid')\n",
    "zb= Dense(100, activation='sigmoid')\n",
    "zc= Dense(100, activation='sigmoid')\n",
    "\n",
    "zz= Dense(3, activation='softmax')"
   ]
  },
  {
   "cell_type": "code",
   "execution_count": 273,
   "metadata": {},
   "outputs": [],
   "source": [
    "u1 = za(concatenate(I1[0:4]))\n",
    "u2 = zb(concatenate(I1[4:6]))\n",
    "u3 = zc(concatenate(I1[6:8]))\n",
    "\n",
    "q = zz(concatenate([u1,u2,u3]))"
   ]
  },
  {
   "cell_type": "code",
   "execution_count": 274,
   "metadata": {},
   "outputs": [
    {
     "name": "stdout",
     "output_type": "stream",
     "text": [
      "__________________________________________________________________________________________________\n",
      "Layer (type)                    Output Shape         Param #     Connected to                     \n",
      "==================================================================================================\n",
      "input_53 (InputLayer)           (None, 5)            0                                            \n",
      "__________________________________________________________________________________________________\n",
      "input_54 (InputLayer)           (None, 5)            0                                            \n",
      "__________________________________________________________________________________________________\n",
      "input_55 (InputLayer)           (None, 5)            0                                            \n",
      "__________________________________________________________________________________________________\n",
      "input_56 (InputLayer)           (None, 5)            0                                            \n",
      "__________________________________________________________________________________________________\n",
      "input_57 (InputLayer)           (None, 5)            0                                            \n",
      "__________________________________________________________________________________________________\n",
      "input_58 (InputLayer)           (None, 5)            0                                            \n",
      "__________________________________________________________________________________________________\n",
      "input_59 (InputLayer)           (None, 5)            0                                            \n",
      "__________________________________________________________________________________________________\n",
      "input_60 (InputLayer)           (None, 5)            0                                            \n",
      "__________________________________________________________________________________________________\n",
      "dense_75 (Dense)                (None, 300)          1800        input_53[0][0]                   \n",
      "__________________________________________________________________________________________________\n",
      "dense_76 (Dense)                (None, 300)          1800        input_54[0][0]                   \n",
      "__________________________________________________________________________________________________\n",
      "dense_77 (Dense)                (None, 300)          1800        input_55[0][0]                   \n",
      "__________________________________________________________________________________________________\n",
      "dense_78 (Dense)                (None, 300)          1800        input_56[0][0]                   \n",
      "__________________________________________________________________________________________________\n",
      "dense_79 (Dense)                (None, 300)          1800        input_57[0][0]                   \n",
      "__________________________________________________________________________________________________\n",
      "dense_80 (Dense)                (None, 300)          1800        input_58[0][0]                   \n",
      "__________________________________________________________________________________________________\n",
      "dense_81 (Dense)                (None, 300)          1800        input_59[0][0]                   \n",
      "__________________________________________________________________________________________________\n",
      "dense_82 (Dense)                (None, 300)          1800        input_60[0][0]                   \n",
      "__________________________________________________________________________________________________\n",
      "concatenate_33 (Concatenate)    (None, 1200)         0           dense_75[0][0]                   \n",
      "                                                                 dense_76[0][0]                   \n",
      "                                                                 dense_77[0][0]                   \n",
      "                                                                 dense_78[0][0]                   \n",
      "__________________________________________________________________________________________________\n",
      "concatenate_34 (Concatenate)    (None, 600)          0           dense_79[0][0]                   \n",
      "                                                                 dense_80[0][0]                   \n",
      "__________________________________________________________________________________________________\n",
      "concatenate_35 (Concatenate)    (None, 600)          0           dense_81[0][0]                   \n",
      "                                                                 dense_82[0][0]                   \n",
      "__________________________________________________________________________________________________\n",
      "dense_83 (Dense)                (None, 100)          120100      concatenate_33[0][0]             \n",
      "__________________________________________________________________________________________________\n",
      "dense_84 (Dense)                (None, 100)          60100       concatenate_34[0][0]             \n",
      "__________________________________________________________________________________________________\n",
      "dense_85 (Dense)                (None, 100)          60100       concatenate_35[0][0]             \n",
      "__________________________________________________________________________________________________\n",
      "concatenate_36 (Concatenate)    (None, 300)          0           dense_83[3][0]                   \n",
      "                                                                 dense_84[3][0]                   \n",
      "                                                                 dense_85[3][0]                   \n",
      "__________________________________________________________________________________________________\n",
      "dense_86 (Dense)                (None, 3)            903         concatenate_36[0][0]             \n",
      "==================================================================================================\n",
      "Total params: 255,603\n",
      "Trainable params: 255,603\n",
      "Non-trainable params: 0\n",
      "__________________________________________________________________________________________________\n"
     ]
    }
   ],
   "source": [
    "model3 = Model(I0,q )\n",
    "model3.summary()"
   ]
  },
  {
   "cell_type": "code",
   "execution_count": 275,
   "metadata": {},
   "outputs": [],
   "source": [
    "model3.compile(loss='categorical_crossentropy',optimizer=\"adam\",metrics=['acc'])#,validation)"
   ]
  },
  {
   "cell_type": "markdown",
   "metadata": {},
   "source": [
    "## 訓練與預測"
   ]
  },
  {
   "cell_type": "code",
   "execution_count": 308,
   "metadata": {
    "scrolled": true
   },
   "outputs": [
    {
     "name": "stdout",
     "output_type": "stream",
     "text": [
      "Epoch 1/100\n",
      "3892/3892 [==============================] - 0s 96us/step - loss: 0.2194 - acc: 0.9643\n",
      "Epoch 2/100\n",
      "3892/3892 [==============================] - 0s 119us/step - loss: 0.2126 - acc: 0.9681\n",
      "Epoch 3/100\n",
      "3892/3892 [==============================] - 0s 114us/step - loss: 0.2079 - acc: 0.9715\n",
      "Epoch 4/100\n",
      "3892/3892 [==============================] - 0s 112us/step - loss: 0.2085 - acc: 0.9705\n",
      "Epoch 5/100\n",
      "3892/3892 [==============================] - 0s 110us/step - loss: 0.1986 - acc: 0.9756\n",
      "Epoch 6/100\n",
      "3892/3892 [==============================] - 0s 113us/step - loss: 0.1995 - acc: 0.9723\n",
      "Epoch 7/100\n",
      "3892/3892 [==============================] - 0s 106us/step - loss: 0.1912 - acc: 0.9776\n",
      "Epoch 8/100\n",
      "3892/3892 [==============================] - 0s 116us/step - loss: 0.1852 - acc: 0.9782\n",
      "Epoch 9/100\n",
      "3892/3892 [==============================] - 0s 114us/step - loss: 0.1797 - acc: 0.9782\n",
      "Epoch 10/100\n",
      "3892/3892 [==============================] - 0s 116us/step - loss: 0.1778 - acc: 0.9792\n",
      "Epoch 11/100\n",
      "3892/3892 [==============================] - 0s 110us/step - loss: 0.1678 - acc: 0.9846\n",
      "Epoch 12/100\n",
      "3892/3892 [==============================] - 1s 129us/step - loss: 0.1715 - acc: 0.9812\n",
      "Epoch 13/100\n",
      "3892/3892 [==============================] - 1s 140us/step - loss: 0.1656 - acc: 0.9830\n",
      "Epoch 14/100\n",
      "3892/3892 [==============================] - 0s 117us/step - loss: 0.1598 - acc: 0.9856\n",
      "Epoch 15/100\n",
      "3892/3892 [==============================] - 0s 121us/step - loss: 0.1634 - acc: 0.9825\n",
      "Epoch 16/100\n",
      "3892/3892 [==============================] - 0s 126us/step - loss: 0.1500 - acc: 0.9905\n",
      "Epoch 17/100\n",
      "3892/3892 [==============================] - 1s 130us/step - loss: 0.1476 - acc: 0.9877\n",
      "Epoch 18/100\n",
      "3892/3892 [==============================] - 0s 123us/step - loss: 0.1429 - acc: 0.9902\n",
      "Epoch 19/100\n",
      "3892/3892 [==============================] - 1s 141us/step - loss: 0.1488 - acc: 0.9843\n",
      "Epoch 20/100\n",
      "3892/3892 [==============================] - 0s 123us/step - loss: 0.1397 - acc: 0.9884\n",
      "Epoch 21/100\n",
      "3892/3892 [==============================] - 1s 131us/step - loss: 0.1328 - acc: 0.9928\n",
      "Epoch 22/100\n",
      "3892/3892 [==============================] - 0s 122us/step - loss: 0.1273 - acc: 0.9925\n",
      "Epoch 23/100\n",
      "3892/3892 [==============================] - 1s 144us/step - loss: 0.1292 - acc: 0.9882\n",
      "Epoch 24/100\n",
      "3892/3892 [==============================] - 0s 115us/step - loss: 0.1235 - acc: 0.9915\n",
      "Epoch 25/100\n",
      "3892/3892 [==============================] - 1s 138us/step - loss: 0.1149 - acc: 0.9964\n",
      "Epoch 26/100\n",
      "3892/3892 [==============================] - 0s 123us/step - loss: 0.1109 - acc: 0.9959\n",
      "Epoch 27/100\n",
      "3892/3892 [==============================] - 1s 135us/step - loss: 0.1080 - acc: 0.9956\n",
      "Epoch 28/100\n",
      "3892/3892 [==============================] - 0s 121us/step - loss: 0.1105 - acc: 0.9943\n",
      "Epoch 29/100\n",
      "3892/3892 [==============================] - 0s 124us/step - loss: 0.1081 - acc: 0.9961\n",
      "Epoch 30/100\n",
      "3892/3892 [==============================] - 1s 131us/step - loss: 0.1057 - acc: 0.9974\n",
      "Epoch 31/100\n",
      "3892/3892 [==============================] - 1s 141us/step - loss: 0.0990 - acc: 0.9972\n",
      "Epoch 32/100\n",
      "3892/3892 [==============================] - 0s 121us/step - loss: 0.0992 - acc: 0.9977\n",
      "Epoch 33/100\n",
      "3892/3892 [==============================] - 0s 122us/step - loss: 0.0940 - acc: 0.9977\n",
      "Epoch 34/100\n",
      "3892/3892 [==============================] - 0s 118us/step - loss: 0.0966 - acc: 0.9967\n",
      "Epoch 35/100\n",
      "3892/3892 [==============================] - 1s 137us/step - loss: 0.0884 - acc: 0.9982\n",
      "Epoch 36/100\n",
      "3892/3892 [==============================] - 1s 135us/step - loss: 0.0867 - acc: 0.9985\n",
      "Epoch 37/100\n",
      "3892/3892 [==============================] - 0s 119us/step - loss: 0.0854 - acc: 0.9995\n",
      "Epoch 38/100\n",
      "3892/3892 [==============================] - 0s 124us/step - loss: 0.0803 - acc: 0.9987\n",
      "Epoch 39/100\n",
      "3892/3892 [==============================] - 0s 114us/step - loss: 0.0885 - acc: 0.9969\n",
      "Epoch 40/100\n",
      "3892/3892 [==============================] - 0s 126us/step - loss: 0.0832 - acc: 0.9974\n",
      "Epoch 41/100\n",
      "3892/3892 [==============================] - 1s 143us/step - loss: 0.0791 - acc: 0.9961\n",
      "Epoch 42/100\n",
      "3892/3892 [==============================] - 0s 106us/step - loss: 0.0791 - acc: 0.9982\n",
      "Epoch 43/100\n",
      "3892/3892 [==============================] - 0s 122us/step - loss: 0.0736 - acc: 0.9985\n",
      "Epoch 44/100\n",
      "3892/3892 [==============================] - 0s 118us/step - loss: 0.0710 - acc: 0.9992\n",
      "Epoch 45/100\n",
      "3892/3892 [==============================] - 0s 118us/step - loss: 0.0712 - acc: 0.9979\n",
      "Epoch 46/100\n",
      "3892/3892 [==============================] - 0s 121us/step - loss: 0.0687 - acc: 0.9987\n",
      "Epoch 47/100\n",
      "3892/3892 [==============================] - 0s 117us/step - loss: 0.0627 - acc: 0.9997\n",
      "Epoch 48/100\n",
      "3892/3892 [==============================] - 1s 137us/step - loss: 0.0606 - acc: 0.9992\n",
      "Epoch 49/100\n",
      "3892/3892 [==============================] - 0s 116us/step - loss: 0.0559 - acc: 1.0000\n",
      "Epoch 50/100\n",
      "3892/3892 [==============================] - 0s 125us/step - loss: 0.0557 - acc: 1.0000\n",
      "Epoch 51/100\n",
      "3892/3892 [==============================] - 0s 120us/step - loss: 0.0562 - acc: 1.0000\n",
      "Epoch 52/100\n",
      "3892/3892 [==============================] - 0s 117us/step - loss: 0.0517 - acc: 0.9995\n",
      "Epoch 53/100\n",
      "3892/3892 [==============================] - 0s 116us/step - loss: 0.0532 - acc: 0.9992\n",
      "Epoch 54/100\n",
      "3892/3892 [==============================] - 0s 126us/step - loss: 0.0509 - acc: 1.0000\n",
      "Epoch 55/100\n",
      "3892/3892 [==============================] - 0s 113us/step - loss: 0.0488 - acc: 0.9995\n",
      "Epoch 56/100\n",
      "3892/3892 [==============================] - 0s 106us/step - loss: 0.0508 - acc: 0.9997\n",
      "Epoch 57/100\n",
      "3892/3892 [==============================] - 0s 115us/step - loss: 0.0502 - acc: 0.9997\n",
      "Epoch 58/100\n",
      "2800/3892 [====================>.........] - ETA: 0s - loss: 0.0462 - acc: 0.9996"
     ]
    },
    {
     "ename": "KeyboardInterrupt",
     "evalue": "",
     "output_type": "error",
     "traceback": [
      "\u001b[1;31m---------------------------------------------------------------------------\u001b[0m",
      "\u001b[1;31mKeyboardInterrupt\u001b[0m                         Traceback (most recent call last)",
      "\u001b[1;32m<ipython-input-308-51fbdd46af42>\u001b[0m in \u001b[0;36m<module>\u001b[1;34m\u001b[0m\n\u001b[1;32m----> 1\u001b[1;33m \u001b[0mmodel3\u001b[0m\u001b[1;33m.\u001b[0m\u001b[0mfit\u001b[0m\u001b[1;33m(\u001b[0m\u001b[0mx_train\u001b[0m\u001b[1;33m,\u001b[0m \u001b[0my_train\u001b[0m\u001b[1;33m,\u001b[0m\u001b[0mbatch_size\u001b[0m\u001b[1;33m=\u001b[0m\u001b[1;36m100\u001b[0m\u001b[1;33m,\u001b[0m\u001b[0mepochs\u001b[0m\u001b[1;33m=\u001b[0m\u001b[1;36m100\u001b[0m\u001b[1;33m)\u001b[0m\u001b[1;33m\u001b[0m\u001b[1;33m\u001b[0m\u001b[0m\n\u001b[0m",
      "\u001b[1;32m~\\AppData\\Roaming\\Python\\Python36\\site-packages\\keras\\engine\\training.py\u001b[0m in \u001b[0;36mfit\u001b[1;34m(self, x, y, batch_size, epochs, verbose, callbacks, validation_split, validation_data, shuffle, class_weight, sample_weight, initial_epoch, steps_per_epoch, validation_steps, **kwargs)\u001b[0m\n\u001b[0;32m   1037\u001b[0m                                         \u001b[0minitial_epoch\u001b[0m\u001b[1;33m=\u001b[0m\u001b[0minitial_epoch\u001b[0m\u001b[1;33m,\u001b[0m\u001b[1;33m\u001b[0m\u001b[1;33m\u001b[0m\u001b[0m\n\u001b[0;32m   1038\u001b[0m                                         \u001b[0msteps_per_epoch\u001b[0m\u001b[1;33m=\u001b[0m\u001b[0msteps_per_epoch\u001b[0m\u001b[1;33m,\u001b[0m\u001b[1;33m\u001b[0m\u001b[1;33m\u001b[0m\u001b[0m\n\u001b[1;32m-> 1039\u001b[1;33m                                         validation_steps=validation_steps)\n\u001b[0m\u001b[0;32m   1040\u001b[0m \u001b[1;33m\u001b[0m\u001b[0m\n\u001b[0;32m   1041\u001b[0m     def evaluate(self, x=None, y=None,\n",
      "\u001b[1;32m~\\AppData\\Roaming\\Python\\Python36\\site-packages\\keras\\engine\\training_arrays.py\u001b[0m in \u001b[0;36mfit_loop\u001b[1;34m(model, f, ins, out_labels, batch_size, epochs, verbose, callbacks, val_f, val_ins, shuffle, callback_metrics, initial_epoch, steps_per_epoch, validation_steps)\u001b[0m\n\u001b[0;32m    185\u001b[0m                             ins[:-1], batch_ids) + [ins[-1]]\n\u001b[0;32m    186\u001b[0m                     \u001b[1;32melse\u001b[0m\u001b[1;33m:\u001b[0m\u001b[1;33m\u001b[0m\u001b[1;33m\u001b[0m\u001b[0m\n\u001b[1;32m--> 187\u001b[1;33m                         \u001b[0mins_batch\u001b[0m \u001b[1;33m=\u001b[0m \u001b[0mslice_arrays\u001b[0m\u001b[1;33m(\u001b[0m\u001b[0mins\u001b[0m\u001b[1;33m,\u001b[0m \u001b[0mbatch_ids\u001b[0m\u001b[1;33m)\u001b[0m\u001b[1;33m\u001b[0m\u001b[1;33m\u001b[0m\u001b[0m\n\u001b[0m\u001b[0;32m    188\u001b[0m                 \u001b[1;32mexcept\u001b[0m \u001b[0mTypeError\u001b[0m\u001b[1;33m:\u001b[0m\u001b[1;33m\u001b[0m\u001b[1;33m\u001b[0m\u001b[0m\n\u001b[0;32m    189\u001b[0m                     raise TypeError('TypeError while preparing batch. '\n",
      "\u001b[1;32m~\\AppData\\Roaming\\Python\\Python36\\site-packages\\keras\\utils\\generic_utils.py\u001b[0m in \u001b[0;36mslice_arrays\u001b[1;34m(arrays, start, stop)\u001b[0m\n\u001b[0;32m    524\u001b[0m             \u001b[1;32mif\u001b[0m \u001b[0mhasattr\u001b[0m\u001b[1;33m(\u001b[0m\u001b[0mstart\u001b[0m\u001b[1;33m,\u001b[0m \u001b[1;34m'shape'\u001b[0m\u001b[1;33m)\u001b[0m\u001b[1;33m:\u001b[0m\u001b[1;33m\u001b[0m\u001b[1;33m\u001b[0m\u001b[0m\n\u001b[0;32m    525\u001b[0m                 \u001b[0mstart\u001b[0m \u001b[1;33m=\u001b[0m \u001b[0mstart\u001b[0m\u001b[1;33m.\u001b[0m\u001b[0mtolist\u001b[0m\u001b[1;33m(\u001b[0m\u001b[1;33m)\u001b[0m\u001b[1;33m\u001b[0m\u001b[1;33m\u001b[0m\u001b[0m\n\u001b[1;32m--> 526\u001b[1;33m             \u001b[1;32mreturn\u001b[0m \u001b[1;33m[\u001b[0m\u001b[1;32mNone\u001b[0m \u001b[1;32mif\u001b[0m \u001b[0mx\u001b[0m \u001b[1;32mis\u001b[0m \u001b[1;32mNone\u001b[0m \u001b[1;32melse\u001b[0m \u001b[0mx\u001b[0m\u001b[1;33m[\u001b[0m\u001b[0mstart\u001b[0m\u001b[1;33m]\u001b[0m \u001b[1;32mfor\u001b[0m \u001b[0mx\u001b[0m \u001b[1;32min\u001b[0m \u001b[0marrays\u001b[0m\u001b[1;33m]\u001b[0m\u001b[1;33m\u001b[0m\u001b[1;33m\u001b[0m\u001b[0m\n\u001b[0m\u001b[0;32m    527\u001b[0m         \u001b[1;32melse\u001b[0m\u001b[1;33m:\u001b[0m\u001b[1;33m\u001b[0m\u001b[1;33m\u001b[0m\u001b[0m\n\u001b[0;32m    528\u001b[0m             \u001b[1;32mreturn\u001b[0m \u001b[1;33m[\u001b[0m\u001b[1;32mNone\u001b[0m \u001b[1;32mif\u001b[0m \u001b[0mx\u001b[0m \u001b[1;32mis\u001b[0m \u001b[1;32mNone\u001b[0m \u001b[1;32melse\u001b[0m \u001b[0mx\u001b[0m\u001b[1;33m[\u001b[0m\u001b[0mstart\u001b[0m\u001b[1;33m:\u001b[0m\u001b[0mstop\u001b[0m\u001b[1;33m]\u001b[0m \u001b[1;32mfor\u001b[0m \u001b[0mx\u001b[0m \u001b[1;32min\u001b[0m \u001b[0marrays\u001b[0m\u001b[1;33m]\u001b[0m\u001b[1;33m\u001b[0m\u001b[1;33m\u001b[0m\u001b[0m\n",
      "\u001b[1;32m~\\AppData\\Roaming\\Python\\Python36\\site-packages\\keras\\utils\\generic_utils.py\u001b[0m in \u001b[0;36m<listcomp>\u001b[1;34m(.0)\u001b[0m\n\u001b[0;32m    524\u001b[0m             \u001b[1;32mif\u001b[0m \u001b[0mhasattr\u001b[0m\u001b[1;33m(\u001b[0m\u001b[0mstart\u001b[0m\u001b[1;33m,\u001b[0m \u001b[1;34m'shape'\u001b[0m\u001b[1;33m)\u001b[0m\u001b[1;33m:\u001b[0m\u001b[1;33m\u001b[0m\u001b[1;33m\u001b[0m\u001b[0m\n\u001b[0;32m    525\u001b[0m                 \u001b[0mstart\u001b[0m \u001b[1;33m=\u001b[0m \u001b[0mstart\u001b[0m\u001b[1;33m.\u001b[0m\u001b[0mtolist\u001b[0m\u001b[1;33m(\u001b[0m\u001b[1;33m)\u001b[0m\u001b[1;33m\u001b[0m\u001b[1;33m\u001b[0m\u001b[0m\n\u001b[1;32m--> 526\u001b[1;33m             \u001b[1;32mreturn\u001b[0m \u001b[1;33m[\u001b[0m\u001b[1;32mNone\u001b[0m \u001b[1;32mif\u001b[0m \u001b[0mx\u001b[0m \u001b[1;32mis\u001b[0m \u001b[1;32mNone\u001b[0m \u001b[1;32melse\u001b[0m \u001b[0mx\u001b[0m\u001b[1;33m[\u001b[0m\u001b[0mstart\u001b[0m\u001b[1;33m]\u001b[0m \u001b[1;32mfor\u001b[0m \u001b[0mx\u001b[0m \u001b[1;32min\u001b[0m \u001b[0marrays\u001b[0m\u001b[1;33m]\u001b[0m\u001b[1;33m\u001b[0m\u001b[1;33m\u001b[0m\u001b[0m\n\u001b[0m\u001b[0;32m    527\u001b[0m         \u001b[1;32melse\u001b[0m\u001b[1;33m:\u001b[0m\u001b[1;33m\u001b[0m\u001b[1;33m\u001b[0m\u001b[0m\n\u001b[0;32m    528\u001b[0m             \u001b[1;32mreturn\u001b[0m \u001b[1;33m[\u001b[0m\u001b[1;32mNone\u001b[0m \u001b[1;32mif\u001b[0m \u001b[0mx\u001b[0m \u001b[1;32mis\u001b[0m \u001b[1;32mNone\u001b[0m \u001b[1;32melse\u001b[0m \u001b[0mx\u001b[0m\u001b[1;33m[\u001b[0m\u001b[0mstart\u001b[0m\u001b[1;33m:\u001b[0m\u001b[0mstop\u001b[0m\u001b[1;33m]\u001b[0m \u001b[1;32mfor\u001b[0m \u001b[0mx\u001b[0m \u001b[1;32min\u001b[0m \u001b[0marrays\u001b[0m\u001b[1;33m]\u001b[0m\u001b[1;33m\u001b[0m\u001b[1;33m\u001b[0m\u001b[0m\n",
      "\u001b[1;31mKeyboardInterrupt\u001b[0m: "
     ]
    }
   ],
   "source": [
    "model3.fit(x_train, y_train,batch_size=100,epochs=50)"
   ]
  },
  {
   "cell_type": "code",
   "execution_count": 309,
   "metadata": {},
   "outputs": [
    {
     "name": "stdout",
     "output_type": "stream",
     "text": [
      "1669/1669 [==============================] - 0s 72us/step\n"
     ]
    },
    {
     "data": {
      "text/plain": [
       "[2.26192327742808, 0.385260635119773]"
      ]
     },
     "execution_count": 309,
     "metadata": {},
     "output_type": "execute_result"
    }
   ],
   "source": [
    "model3.evaluate(x_test, y_test)"
   ]
  },
  {
   "cell_type": "code",
   "execution_count": 310,
   "metadata": {
    "scrolled": true
   },
   "outputs": [
    {
     "data": {
      "text/plain": [
       "array([[0.04392189, 0.8265665 , 0.12951158],\n",
       "       [0.00162896, 0.9962521 , 0.00211894],\n",
       "       [0.07806864, 0.5099588 , 0.41197252],\n",
       "       ...,\n",
       "       [0.21935607, 0.725624  , 0.05501984],\n",
       "       [0.68548304, 0.30777073, 0.00674629],\n",
       "       [0.28145552, 0.19945134, 0.51909316]], dtype=float32)"
      ]
     },
     "execution_count": 310,
     "metadata": {},
     "output_type": "execute_result"
    }
   ],
   "source": [
    "model3.predict(x_test)"
   ]
  },
  {
   "cell_type": "markdown",
   "metadata": {},
   "source": [
    "## 視覺化"
   ]
  },
  {
   "cell_type": "code",
   "execution_count": 311,
   "metadata": {},
   "outputs": [],
   "source": [
    "yp = model3.predict(l)\n",
    "ypp=np.argmax(yp,axis=1)"
   ]
  },
  {
   "cell_type": "code",
   "execution_count": 312,
   "metadata": {
    "scrolled": false
   },
   "outputs": [
    {
     "data": {
      "text/plain": [
       "[<matplotlib.lines.Line2D at 0x22945c5e0b8>]"
      ]
     },
     "execution_count": 312,
     "metadata": {},
     "output_type": "execute_result"
    },
    {
     "data": {
      "image/png": "[encoded data removed]",
      "text/plain": [
       "<Figure size 864x144 with 1 Axes>"
      ]
     },
     "metadata": {
      "needs_background": "light"
     },
     "output_type": "display_data"
    },
    {
     "data": {
      "image/png": "[encoded data removed]",
      "text/plain": [
       "<Figure size 864x144 with 1 Axes>"
      ]
     },
     "metadata": {
      "needs_background": "light"
     },
     "output_type": "display_data"
    }
   ],
   "source": [
    "st=0\n",
    "end=st+n+100\n",
    "\n",
    "plt.figure(figsize=(12,2))\n",
    "plt.title(\"REAL\")\n",
    "plt.scatter(dfd[n+st:end],dfc[n+st:end],c=y[st:end-n],s=10,cmap='cool')\n",
    "plt.xticks(rotation=45)\n",
    "plt.plot(dfd[n+st:end],dfc[n+st:end],c='black', linewidth=0.5)\n",
    "\n",
    "plt.figure(figsize=(12,2))\n",
    "plt.title(\"PREDICT\")\n",
    "plt.scatter(dfd[n+st:end],dfc[n+st:end],c=ypp[st:end-n],s=10,cmap='cool')\n",
    "plt.xticks(rotation=45)\n",
    "plt.plot(dfd[n+st:end],dfc[n+st:end],c='black', linewidth=0.5)"
   ]
  }
 ],
 "metadata": {
  "kernelspec": {
   "display_name": "Python 3",
   "language": "python",
   "name": "python3"
  },
  "language_info": {
   "codemirror_mode": {
    "name": "ipython",
    "version": 3
   },
   "file_extension": ".py",
   "mimetype": "text/x-python",
   "name": "python",
   "nbconvert_exporter": "python",
   "pygments_lexer": "ipython3",
   "version": "3.6.8"
  }
 },
 "nbformat": 4,
 "nbformat_minor": 2
}
